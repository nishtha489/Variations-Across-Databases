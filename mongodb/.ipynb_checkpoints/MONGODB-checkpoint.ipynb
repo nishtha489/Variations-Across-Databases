{
 "cells": [
  {
   "cell_type": "markdown",
   "id": "experimental-cooler",
   "metadata": {},
   "source": [
    "## <center>**MONGODB Databases : Implementation and Querying**</center>"
   ]
  },
  {
   "cell_type": "code",
   "execution_count": 110,
   "id": "thorough-situation",
   "metadata": {},
   "outputs": [],
   "source": [
    "#!pip3 uninstall pymongo\n",
    "#!pip install pymongo==2.8\n",
    "import pymongo\n",
    "import pandas as pd\n",
    "from pymongo import MongoClient\n",
    "from time import time\n",
    "import numpy as np\n",
    "import csv\n",
    "import pprint"
   ]
  },
  {
   "cell_type": "code",
   "execution_count": 2,
   "id": "moved-honor",
   "metadata": {},
   "outputs": [],
   "source": [
    "#### **Function to create a database**"
   ]
  },
  {
   "cell_type": "code",
   "execution_count": 5,
   "id": "reserved-acceptance",
   "metadata": {
    "tags": []
   },
   "outputs": [],
   "source": [
    "def create_connection(db):\n",
    "    \n",
    "    client = MongoClient(\"mongodb://127.0.0.1:27017/\")\n",
    "    database = client[db]\n",
    "    if client:\n",
    "        print(db)\n",
    "    #client.list_database_names()\n",
    "    client.close()"
   ]
  },
  {
   "cell_type": "code",
   "execution_count": 6,
   "id": "contained-order",
   "metadata": {},
   "outputs": [
    {
     "name": "stdout",
     "output_type": "stream",
     "text": [
      "db1\n",
      "db2\n",
      "db3\n",
      "db4\n",
      "db5\n",
      "db6\n",
      "db7\n",
      "db8\n",
      "db9\n"
     ]
    }
   ],
   "source": [
    "create_connection('db1')\n",
    "create_connection(\"db2\")\n",
    "create_connection(\"db3\")\n",
    "create_connection(\"db4\")\n",
    "create_connection(\"db5\")\n",
    "create_connection(\"db6\")\n",
    "create_connection(\"db7\")\n",
    "create_connection(\"db8\")\n",
    "create_connection(\"db9\")"
   ]
  },
  {
   "cell_type": "markdown",
   "id": "neural-liechtenstein",
   "metadata": {},
   "source": [
    "### <center>**Creating database tables and Importing data in db**</center>\n",
    "#### **Function to create tables in database**"
   ]
  },
  {
   "cell_type": "code",
   "execution_count": 11,
   "id": "pleasant-barrier",
   "metadata": {},
   "outputs": [],
   "source": [
    "def create_tables(db, table1, table2):\n",
    "    \n",
    "    client = MongoClient(\"mongodb://127.0.0.1:27017/\")\n",
    "    database = client[db]\n",
    "    \n",
    "    colA = database[\"A\"]\n",
    "    colB = database[\"B\"]\n",
    "    \n",
    "    with open(table1, newline = '') as csvfile:\n",
    "        reader = csv.reader(csvfile, delimiter=',')\n",
    "        next(reader)\n",
    "        for row in reader:\n",
    "            dic = {\"A1\" : int(row[0]), \"A2\" : row[1]}\n",
    "            colA.insert(dic)\n",
    "            #print(x.insert_id)\n",
    "    \n",
    "    with open(table2, newline = '') as csvfile:\n",
    "        reader = csv.reader(csvfile, delimiter=',')\n",
    "        next(reader)\n",
    "        for row in reader:\n",
    "            dic = {\"B1\" : int(row[0]), \"B2\" : int(row[1]), \"B3\" : row[2]}\n",
    "            colB.insert(dic)\n",
    "            #print(x.insert_id)\n",
    "    client.close()"
   ]
  },
  {
   "cell_type": "markdown",
   "id": "everyday-royalty",
   "metadata": {},
   "source": [
    "#### **Database 1 - db1.db**"
   ]
  },
  {
   "cell_type": "code",
   "execution_count": 12,
   "id": "cognitive-banking",
   "metadata": {},
   "outputs": [],
   "source": [
    "create_tables('db1', 'A-100.csv', 'B-100-3-1.csv')"
   ]
  },
  {
   "cell_type": "markdown",
   "id": "polish-replica",
   "metadata": {},
   "source": [
    "#### **Database 2 - db2.db**"
   ]
  },
  {
   "cell_type": "code",
   "execution_count": 13,
   "id": "surprising-spirituality",
   "metadata": {},
   "outputs": [],
   "source": [
    "create_tables('db2', 'A-100.csv', 'B-100-5-2.csv')"
   ]
  },
  {
   "cell_type": "markdown",
   "id": "economic-roberts",
   "metadata": {},
   "source": [
    "#### **Database 3 - db3.db**"
   ]
  },
  {
   "cell_type": "code",
   "execution_count": 14,
   "id": "dense-parcel",
   "metadata": {},
   "outputs": [],
   "source": [
    "create_tables('db3', 'A-100.csv', 'B-100-10-1.csv')"
   ]
  },
  {
   "cell_type": "markdown",
   "id": "french-romance",
   "metadata": {},
   "source": [
    "#### **Database 4 - db4.db**"
   ]
  },
  {
   "cell_type": "code",
   "execution_count": 15,
   "id": "loose-warren",
   "metadata": {},
   "outputs": [],
   "source": [
    "create_tables('db4', 'A-1000.csv', 'B-1000-5-2.csv')"
   ]
  },
  {
   "cell_type": "markdown",
   "id": "informed-atlas",
   "metadata": {},
   "source": [
    "#### **Database 5 - db5.db**"
   ]
  },
  {
   "cell_type": "code",
   "execution_count": 16,
   "id": "solid-appliance",
   "metadata": {},
   "outputs": [],
   "source": [
    "create_tables('db5', 'A-1000.csv', 'B-1000-10-4.csv')"
   ]
  },
  {
   "cell_type": "markdown",
   "id": "cathedral-minister",
   "metadata": {},
   "source": [
    "#### **Database 6 - db6.db**"
   ]
  },
  {
   "cell_type": "code",
   "execution_count": 17,
   "id": "valued-caribbean",
   "metadata": {},
   "outputs": [],
   "source": [
    "create_tables('db6', 'A-1000.csv', 'B-1000-50-2.csv')"
   ]
  },
  {
   "cell_type": "markdown",
   "id": "better-burner",
   "metadata": {},
   "source": [
    "#### **Database 7 - db7.db**"
   ]
  },
  {
   "cell_type": "code",
   "execution_count": 18,
   "id": "practical-disaster",
   "metadata": {},
   "outputs": [],
   "source": [
    "create_tables('db7', 'A-10000.csv', 'B-10000-5-1.csv')"
   ]
  },
  {
   "cell_type": "markdown",
   "id": "collaborative-farmer",
   "metadata": {},
   "source": [
    "#### **Database 8 - db8.db**"
   ]
  },
  {
   "cell_type": "code",
   "execution_count": 19,
   "id": "bearing-currency",
   "metadata": {},
   "outputs": [],
   "source": [
    "create_tables('db8', 'A-10000.csv', 'B-10000-50-2.csv')"
   ]
  },
  {
   "cell_type": "markdown",
   "id": "figured-hotel",
   "metadata": {},
   "source": [
    "#### **Database 9 - db9.db**"
   ]
  },
  {
   "cell_type": "code",
   "execution_count": 20,
   "id": "nasty-lewis",
   "metadata": {},
   "outputs": [],
   "source": [
    "create_tables('db9', 'A-10000.csv', 'B-10000-500-1.csv')"
   ]
  },
  {
   "cell_type": "markdown",
   "id": "classified-russia",
   "metadata": {},
   "source": [
    "### <center>**Finding and cleaning time**</center>\n"
   ]
  },
  {
   "cell_type": "code",
   "execution_count": 138,
   "id": "vulnerable-deployment",
   "metadata": {},
   "outputs": [],
   "source": [
    "import re"
   ]
  },
  {
   "cell_type": "code",
   "execution_count": 139,
   "id": "social-cocktail",
   "metadata": {},
   "outputs": [],
   "source": [
    "file = open('t1.txt', 'r')\n",
    "data = file.read()"
   ]
  },
  {
   "cell_type": "code",
   "execution_count": 140,
   "id": "immediate-frame",
   "metadata": {},
   "outputs": [],
   "source": [
    "data = re.findall(\"[0-9]+\", data)"
   ]
  },
  {
   "cell_type": "code",
   "execution_count": null,
   "id": "fundamental-pixel",
   "metadata": {},
   "outputs": [],
   "source": []
  }
 ],
 "metadata": {
  "kernelspec": {
   "display_name": "Python 3",
   "language": "python",
   "name": "python3"
  },
  "language_info": {
   "codemirror_mode": {
    "name": "ipython",
    "version": 3
   },
   "file_extension": ".py",
   "mimetype": "text/x-python",
   "name": "python",
   "nbconvert_exporter": "python",
   "pygments_lexer": "ipython3",
   "version": "3.6.9"
  }
 },
 "nbformat": 4,
 "nbformat_minor": 5
}
