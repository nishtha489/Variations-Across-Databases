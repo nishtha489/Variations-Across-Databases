{
 "cells": [
  {
   "cell_type": "markdown",
   "id": "blocked-albany",
   "metadata": {},
   "source": [
    "## <center>**MONGODB Databases : Implementation**</center>\n",
    "This notebook contains the code to establish the databases in Mongodb and to perform the required queries and note their times.\n",
    "\n",
    "According to my roll number, the csv files I picked for creating these databases were :\n",
    "- A-100\n",
    "- A-1000\n",
    "- A-10000\n",
    "- B-100-3-1\n",
    "- B-100-5-2\n",
    "- B-100-10-1\n",
    "- B-1000-5-2\n",
    "- B-1000-10-4\n",
    "- B-1000-50-2\n",
    "- B-10000-5-1\n",
    "- B-10000-50-2\n",
    "- B-10000-500-1\n",
    "\n",
    "\n",
    "The 9 databases formed according to question were therefore:\n",
    "- **A_100, B_100_3_1 (db1)**\n",
    "- **A_100, B_100_5_2 (db2)**\n",
    "- **A_100, B_100_10_1 (db3)**\n",
    "- **A_1000, B_1000_5_2 (db4)**\n",
    "- **A_1000, B_1000_10_4 (db5)**\n",
    "- **A_1000, B_1000_50_2 (db6)**\n",
    "- **A_10000, B_10000_5_1 (db7)**\n",
    "- **A_10000, B_10000_50-2 (db8)**\n",
    "- **A-10000, B_10000_500_1 (db9)**"
   ]
  },
  {
   "cell_type": "markdown",
   "id": "crucial-context",
   "metadata": {},
   "source": [
    "Please install the given packages before running in case they dont already exist."
   ]
  },
  {
   "cell_type": "code",
   "execution_count": 1,
   "id": "suburban-spencer",
   "metadata": {},
   "outputs": [],
   "source": [
    "#!pip3 uninstall pymongo\n",
    "#!pip install pymongo==2.8\n",
    "import pymongo\n",
    "import pandas as pd\n",
    "from pymongo import MongoClient\n",
    "from time import time\n",
    "import numpy as np\n",
    "import csv\n",
    "import pprint"
   ]
  },
  {
   "cell_type": "markdown",
   "id": "insured-backup",
   "metadata": {},
   "source": [
    "#### **Function to create a database**\n",
    "This function creates a connection to the specified database and if it doesn't already exist, it creates that database.<br>\n",
    "**NOTE:** This will cerate the database in the same directory as the notebook. IF you want a different path, specify it while passing the argument to the create_database function."
   ]
  },
  {
   "cell_type": "code",
   "execution_count": 2,
   "id": "crucial-minutes",
   "metadata": {
    "tags": []
   },
   "outputs": [],
   "source": [
    "def create_connection(db):\n",
    "    \n",
    "    client = pymongo.MongoClient(\"mongodb://127.0.0.1:27017/\")\n",
    "    database = client[db]\n",
    "    if client:\n",
    "        print(db)\n",
    "    #client.list_database_names()\n",
    "    client.close()"
   ]
  },
  {
   "cell_type": "code",
   "execution_count": 3,
   "id": "planned-safety",
   "metadata": {},
   "outputs": [
    {
     "name": "stdout",
     "output_type": "stream",
     "text": [
      "db1\n",
      "db2\n",
      "db3\n",
      "db4\n",
      "db5\n",
      "db6\n",
      "db7\n",
      "db8\n",
      "db9\n"
     ]
    }
   ],
   "source": [
    "create_connection('db1')\n",
    "create_connection(\"db2\")\n",
    "create_connection(\"db3\")\n",
    "create_connection(\"db4\")\n",
    "create_connection(\"db5\")\n",
    "create_connection(\"db6\")\n",
    "create_connection(\"db7\")\n",
    "create_connection(\"db8\")\n",
    "create_connection(\"db9\")"
   ]
  },
  {
   "cell_type": "markdown",
   "id": "employed-official",
   "metadata": {},
   "source": [
    "### <center>**Creating collections and Importing data in db**</center>\n",
    "#### **Function to create collections in database**\n",
    "After creating the databases, next we create the collections inside the database and import data into those collections. Below is the function for that which takes as argument the database, and the two collections you want to import in that database .i.e. A and B. <br>\n",
    "**NOTE:** Please take care while of the path while passing argumwnts to this function. While running, I had the csv files in the exact same directory. Mention the path correctly in case there is a different path."
   ]
  },
  {
   "cell_type": "code",
   "execution_count": 4,
   "id": "neural-manual",
   "metadata": {},
   "outputs": [],
   "source": [
    "def create_tables(db, table1, table2):\n",
    "    \n",
    "    client = MongoClient(\"mongodb://127.0.0.1:27017/\")\n",
    "    database = client[db]\n",
    "    \n",
    "    colA = database[\"A\"]\n",
    "    colB = database[\"B\"]\n",
    "    \n",
    "    with open(table1, newline = '') as csvfile:\n",
    "        reader = csv.reader(csvfile, delimiter=',')\n",
    "        next(reader)\n",
    "        for row in reader:\n",
    "            dic = {\"A1\" : int(row[0]), \"A2\" : row[1]}\n",
    "            colA.insert(dic)\n",
    "            #print(x.insert_id)\n",
    "    \n",
    "    with open(table2, newline = '') as csvfile:\n",
    "        reader = csv.reader(csvfile, delimiter=',')\n",
    "        next(reader)\n",
    "        for row in reader:\n",
    "            dic = {\"B1\" : int(row[0]), \"B2\" : int(row[1]), \"B3\" : row[2]}\n",
    "            colB.insert(dic)\n",
    "            #print(x.insert_id)\n",
    "    client.close()"
   ]
  },
  {
   "cell_type": "markdown",
   "id": "thick-token",
   "metadata": {},
   "source": [
    "#### **Database 1 - db1.db**"
   ]
  },
  {
   "cell_type": "code",
   "execution_count": 12,
   "id": "hindu-gibraltar",
   "metadata": {},
   "outputs": [],
   "source": [
    "create_tables('db1', 'A-100.csv', 'B-100-3-1.csv')"
   ]
  },
  {
   "cell_type": "markdown",
   "id": "southeast-adapter",
   "metadata": {},
   "source": [
    "#### **Database 2 - db2.db**"
   ]
  },
  {
   "cell_type": "code",
   "execution_count": 13,
   "id": "incorrect-packaging",
   "metadata": {},
   "outputs": [],
   "source": [
    "create_tables('db2', 'A-100.csv', 'B-100-5-2.csv')"
   ]
  },
  {
   "cell_type": "markdown",
   "id": "urban-component",
   "metadata": {},
   "source": [
    "#### **Database 3 - db3.db**"
   ]
  },
  {
   "cell_type": "code",
   "execution_count": 14,
   "id": "funded-investigator",
   "metadata": {},
   "outputs": [],
   "source": [
    "create_tables('db3', 'A-100.csv', 'B-100-10-1.csv')"
   ]
  },
  {
   "cell_type": "markdown",
   "id": "adolescent-anchor",
   "metadata": {},
   "source": [
    "#### **Database 4 - db4.db**"
   ]
  },
  {
   "cell_type": "code",
   "execution_count": 15,
   "id": "figured-airport",
   "metadata": {},
   "outputs": [],
   "source": [
    "create_tables('db4', 'A-1000.csv', 'B-1000-5-2.csv')"
   ]
  },
  {
   "cell_type": "markdown",
   "id": "satisfactory-laundry",
   "metadata": {},
   "source": [
    "#### **Database 5 - db5.db**"
   ]
  },
  {
   "cell_type": "code",
   "execution_count": 16,
   "id": "amended-registration",
   "metadata": {},
   "outputs": [],
   "source": [
    "create_tables('db5', 'A-1000.csv', 'B-1000-10-4.csv')"
   ]
  },
  {
   "cell_type": "markdown",
   "id": "naked-president",
   "metadata": {},
   "source": [
    "#### **Database 6 - db6.db**"
   ]
  },
  {
   "cell_type": "code",
   "execution_count": 17,
   "id": "excited-interview",
   "metadata": {},
   "outputs": [],
   "source": [
    "create_tables('db6', 'A-1000.csv', 'B-1000-50-2.csv')"
   ]
  },
  {
   "cell_type": "markdown",
   "id": "registered-latvia",
   "metadata": {},
   "source": [
    "#### **Database 7 - db7.db**"
   ]
  },
  {
   "cell_type": "code",
   "execution_count": 18,
   "id": "comparative-ethics",
   "metadata": {},
   "outputs": [],
   "source": [
    "create_tables('db7', 'A-10000.csv', 'B-10000-5-1.csv')"
   ]
  },
  {
   "cell_type": "markdown",
   "id": "convinced-manual",
   "metadata": {},
   "source": [
    "#### **Database 8 - db8.db**"
   ]
  },
  {
   "cell_type": "code",
   "execution_count": 19,
   "id": "contemporary-efficiency",
   "metadata": {},
   "outputs": [],
   "source": [
    "create_tables('db8', 'A-10000.csv', 'B-10000-50-2.csv')"
   ]
  },
  {
   "cell_type": "markdown",
   "id": "greater-anthony",
   "metadata": {},
   "source": [
    "#### **Database 9 - db9.db**"
   ]
  },
  {
   "cell_type": "code",
   "execution_count": 20,
   "id": "ideal-metabolism",
   "metadata": {},
   "outputs": [],
   "source": [
    "create_tables('db9', 'A-10000.csv', 'B-10000-500-1.csv')"
   ]
  },
  {
   "cell_type": "markdown",
   "id": "reduced-kitchen",
   "metadata": {},
   "source": [
    "### <center>**Querying the databases and finding time**</center>\n",
    "#### **Function to run a query and report time**\n",
    "This function loops 7 times and creates connection to each of the 9 databases one by one to execute the query passed on to it. <br>\n",
    "*Since while executing on shell directly executes and then prints the query, so to counter the overhead the same thing has been followed while noting time. Data has been fetched and collected. Since the method has been appointed in all 4 versions, the overhead is cancelled*"
   ]
  },
  {
   "cell_type": "code",
   "execution_count": 6,
   "id": "intelligent-complex",
   "metadata": {},
   "outputs": [],
   "source": [
    "def run_query(query):\n",
    "    \n",
    "    t = [[0] * 9] * 7\n",
    "    for i in range(7):\n",
    "        client = MongoClient(\"mongodb://localhost:27017\")\n",
    "        database = client['db1']\n",
    "        colA = database[\"A\"]\n",
    "        colB = database[\"B\"]\n",
    "        if query == query1:\n",
    "            tic = time()\n",
    "            cursor = colA.aggregate(query)\n",
    "            toc = time()\n",
    "            t[i][0] = toc - tic\n",
    "        else:\n",
    "            tic = time()\n",
    "            cursor = colB.aggregate(query, allowDiskUse = True)\n",
    "            toc = time()\n",
    "            t[i][0] = toc - tic\n",
    "        client.close()        \n",
    "        \n",
    "        client = MongoClient(\"mongodb://localhost:27017\")\n",
    "        database = client['db2']\n",
    "        colA = database[\"A\"]\n",
    "        colB = database[\"B\"]\n",
    "        if query == query1:\n",
    "            tic = time()\n",
    "            cursor = colA.aggregate(query)\n",
    "            toc = time()\n",
    "            t[i][1] = toc - tic\n",
    "        else:\n",
    "            tic = time()\n",
    "            cursor = colB.aggregate(query, allowDiskUse = True)\n",
    "            toc = time()\n",
    "            t[i][1] = toc - tic\n",
    "        client.close()        \n",
    "        \n",
    "        client = MongoClient(\"mongodb://localhost:27017\")\n",
    "        database = client['db3']\n",
    "        colA = database[\"A\"]\n",
    "        colB = database[\"B\"]\n",
    "        if query == query1:\n",
    "            tic = time()\n",
    "            cursor = colA.aggregate(query)\n",
    "            toc = time()\n",
    "            t[i][2] = toc - tic\n",
    "        else:\n",
    "            tic = time()\n",
    "            cursor = colB.aggregate(query, allowDiskUse = True)\n",
    "            toc = time()\n",
    "            t[i][2] = toc - tic\n",
    "        client.close()        \n",
    "        \n",
    "        client = MongoClient(\"mongodb://localhost:27017\")\n",
    "        database = client['db4']\n",
    "        colA = database[\"A\"]\n",
    "        colB = database[\"B\"]\n",
    "        if query == query1:\n",
    "            tic = time()\n",
    "            cursor = colA.aggregate(query)\n",
    "            toc = time()\n",
    "            t[i][3] = toc - tic\n",
    "        else:\n",
    "            tic = time()\n",
    "            cursor = colB.aggregate(query, allowDiskUse = True)\n",
    "            toc = time()\n",
    "            t[i][3] = toc - tic\n",
    "        client.close()        \n",
    "        \n",
    "        client = MongoClient(\"mongodb://localhost:27017\")\n",
    "        database = client['db5']\n",
    "        colA = database[\"A\"]\n",
    "        colB = database[\"B\"]\n",
    "        if query == query1:\n",
    "            tic = time()\n",
    "            cursor = colA.aggregate(query)\n",
    "            toc = time()\n",
    "            t[i][4] = toc - tic\n",
    "        else:\n",
    "            tic = time()\n",
    "            cursor = colB.aggregate(query, allowDiskUse = True)\n",
    "            toc = time()\n",
    "            t[i][4] = toc - tic\n",
    "        client.close()        \n",
    "        \n",
    "        client = MongoClient(\"mongodb://localhost:27017\")\n",
    "        database = client['db6']\n",
    "        colA = database[\"A\"]\n",
    "        colB = database[\"B\"]\n",
    "        if query == query1:\n",
    "            tic = time()\n",
    "            cursor = colA.aggregate(query)\n",
    "            toc = time()\n",
    "            t[i][5] = toc - tic\n",
    "        else:\n",
    "            tic = time()\n",
    "            cursor = colB.aggregate(query, allowDiskUse = True)\n",
    "            toc = time()\n",
    "            t[i][5] = toc - tic\n",
    "        client.close()        \n",
    "        \n",
    "        client = MongoClient(\"mongodb://localhost:27017\")\n",
    "        database = client['db7']\n",
    "        colA = database[\"A\"]\n",
    "        colB = database[\"B\"]\n",
    "        if query == query1:\n",
    "            tic = time()\n",
    "            cursor = colA.aggregate(query)\n",
    "            toc = time()\n",
    "            t[i][6] = toc - tic\n",
    "        else:\n",
    "            tic = time()\n",
    "            cursor = colB.aggregate(query, allowDiskUse = True)\n",
    "            toc = time()\n",
    "            t[i][6] = toc - tic\n",
    "        client.close()\n",
    "        \n",
    "        \n",
    "        client = MongoClient(\"mongodb://localhost:27017\")\n",
    "        database = client['db8']\n",
    "        colA = database[\"A\"]\n",
    "        colB = database[\"B\"]\n",
    "        if query == query1:\n",
    "            tic = time()\n",
    "            cursor = colA.aggregate(query)\n",
    "            toc = time()\n",
    "            t[i][7] = toc - tic\n",
    "        else:\n",
    "            tic = time()\n",
    "            cursor = colB.aggregate(query, allowDiskUse = True)\n",
    "            toc = time()\n",
    "            t[i][7] = toc - tic\n",
    "        client.close()        \n",
    "        \n",
    "        client = MongoClient(\"mongodb://localhost:27017\")\n",
    "        database = client['db9']\n",
    "        colA = database[\"A\"]\n",
    "        colB = database[\"B\"]\n",
    "        if query == query1:\n",
    "            tic = time()\n",
    "            cursor = colA.aggregate(query)\n",
    "            toc = time()\n",
    "            t[i][8] = toc - tic\n",
    "        else:\n",
    "            tic = time()\n",
    "            cursor = colB.aggregate(query, allowDiskUse = True)\n",
    "            toc = time()\n",
    "            t[i][8] = toc - tic\n",
    "        client.close()\n",
    "    return t"
   ]
  },
  {
   "cell_type": "markdown",
   "id": "appointed-robin",
   "metadata": {},
   "source": [
    "### **Defining queries and time arrays**"
   ]
  },
  {
   "cell_type": "code",
   "execution_count": 11,
   "id": "scientific-devil",
   "metadata": {},
   "outputs": [],
   "source": [
    "query1 = [{ \"$match\" : { \"A1\" : { \"$lte\" :  50 }}}]\n",
    "query2 = [{ \"$sort\" : { \"B3\" : 1 }}]\n",
    "query3 = [{ \"$group\" : { '_id' : \"$B2\", \"Average\" : { \"$sum\" : 1 }}}, { \"$group\" : { '_id' : \"null\", \"Avg per A1\" : { \"$avg\" : \"$Average\" }}}]\n",
    "query4 = [{ \"$lookup\" : { 'from' : \"A\", 'localField' : \"B2\", 'foreignField' : \"A1\", 'as' : \"nA\"}}, {\"$unwind\" : \"$nA\"}, { \"$project\":{\"nA.A2\" : 1, 'B1' : 1,'B2' : 1, 'B3' : 1}}]"
   ]
  },
  {
   "cell_type": "code",
   "execution_count": 12,
   "id": "sophisticated-press",
   "metadata": {},
   "outputs": [],
   "source": [
    "time_q1 = [[0] * 9] * 7\n",
    "time_q2 = [[0] * 9] * 7\n",
    "time_q3 = [[0] * 9] * 7\n",
    "time_q4 = [[0] * 9] * 7"
   ]
  },
  {
   "cell_type": "markdown",
   "id": "unlike-there",
   "metadata": {},
   "source": [
    "### **Query 1 across all databases**"
   ]
  },
  {
   "cell_type": "code",
   "execution_count": 13,
   "id": "judicial-winner",
   "metadata": {},
   "outputs": [
    {
     "name": "stdout",
     "output_type": "stream",
     "text": [
      "[[0.00188  0.011152 0.013667 0.007534 0.003017 0.002637 0.009667 0.015387\n",
      "  0.014923]\n",
      " [0.00188  0.011152 0.013667 0.007534 0.003017 0.002637 0.009667 0.015387\n",
      "  0.014923]\n",
      " [0.00188  0.011152 0.013667 0.007534 0.003017 0.002637 0.009667 0.015387\n",
      "  0.014923]\n",
      " [0.00188  0.011152 0.013667 0.007534 0.003017 0.002637 0.009667 0.015387\n",
      "  0.014923]\n",
      " [0.00188  0.011152 0.013667 0.007534 0.003017 0.002637 0.009667 0.015387\n",
      "  0.014923]\n",
      " [0.00188  0.011152 0.013667 0.007534 0.003017 0.002637 0.009667 0.015387\n",
      "  0.014923]\n",
      " [0.00188  0.011152 0.013667 0.007534 0.003017 0.002637 0.009667 0.015387\n",
      "  0.014923]]\n"
     ]
    }
   ],
   "source": [
    "time_q1 = np.round(run_query(query1), 6)\n",
    "print(time_q1)"
   ]
  },
  {
   "cell_type": "code",
   "execution_count": 14,
   "id": "radio-yukon",
   "metadata": {},
   "outputs": [
    {
     "data": {
      "text/plain": [
       "array([0.00188 , 0.011152, 0.013667, 0.007534, 0.003017, 0.002637,\n",
       "       0.009667, 0.015387, 0.014923])"
      ]
     },
     "execution_count": 14,
     "metadata": {},
     "output_type": "execute_result"
    }
   ],
   "source": [
    "final_t1 = (np.sum(time_q1, axis = 0) - np.max(time_q1, axis = 0) - np.max(time_q1, axis = 0)) / 5\n",
    "final_t1"
   ]
  },
  {
   "cell_type": "markdown",
   "id": "operational-chapel",
   "metadata": {},
   "source": [
    "### **Query 2 across all databases**"
   ]
  },
  {
   "cell_type": "code",
   "execution_count": 15,
   "id": "twenty-french",
   "metadata": {},
   "outputs": [
    {
     "name": "stdout",
     "output_type": "stream",
     "text": [
      "[[5.002000e-03 4.111000e-03 3.882000e-03 9.643000e-03 1.548900e-02\n",
      "  5.661100e-02 7.358300e-02 6.104810e-01 8.235404e+00]\n",
      " [5.002000e-03 4.111000e-03 3.882000e-03 9.643000e-03 1.548900e-02\n",
      "  5.661100e-02 7.358300e-02 6.104810e-01 8.235404e+00]\n",
      " [5.002000e-03 4.111000e-03 3.882000e-03 9.643000e-03 1.548900e-02\n",
      "  5.661100e-02 7.358300e-02 6.104810e-01 8.235404e+00]\n",
      " [5.002000e-03 4.111000e-03 3.882000e-03 9.643000e-03 1.548900e-02\n",
      "  5.661100e-02 7.358300e-02 6.104810e-01 8.235404e+00]\n",
      " [5.002000e-03 4.111000e-03 3.882000e-03 9.643000e-03 1.548900e-02\n",
      "  5.661100e-02 7.358300e-02 6.104810e-01 8.235404e+00]\n",
      " [5.002000e-03 4.111000e-03 3.882000e-03 9.643000e-03 1.548900e-02\n",
      "  5.661100e-02 7.358300e-02 6.104810e-01 8.235404e+00]\n",
      " [5.002000e-03 4.111000e-03 3.882000e-03 9.643000e-03 1.548900e-02\n",
      "  5.661100e-02 7.358300e-02 6.104810e-01 8.235404e+00]]\n"
     ]
    }
   ],
   "source": [
    "time_q2 = np.round(run_query(query2), 6)\n",
    "print(time_q2)"
   ]
  },
  {
   "cell_type": "code",
   "execution_count": 16,
   "id": "rapid-disaster",
   "metadata": {},
   "outputs": [
    {
     "data": {
      "text/plain": [
       "array([5.002000e-03, 4.111000e-03, 3.882000e-03, 9.643000e-03,\n",
       "       1.548900e-02, 5.661100e-02, 7.358300e-02, 6.104810e-01,\n",
       "       8.235404e+00])"
      ]
     },
     "execution_count": 16,
     "metadata": {},
     "output_type": "execute_result"
    }
   ],
   "source": [
    "final_t2 = (np.sum(time_q2, axis = 0) - np.max(time_q2, axis = 0) - np.max(time_q2, axis = 0)) / 5\n",
    "final_t2"
   ]
  },
  {
   "cell_type": "markdown",
   "id": "raising-alcohol",
   "metadata": {},
   "source": [
    "### **Query 3 across all databases**"
   ]
  },
  {
   "cell_type": "code",
   "execution_count": 17,
   "id": "occasional-silence",
   "metadata": {},
   "outputs": [
    {
     "name": "stdout",
     "output_type": "stream",
     "text": [
      "[[5.518000e-03 1.032800e-02 3.473000e-03 8.393000e-03 1.654300e-02\n",
      "  5.174300e-02 8.173800e-02 5.198410e-01 4.160537e+00]\n",
      " [5.518000e-03 1.032800e-02 3.473000e-03 8.393000e-03 1.654300e-02\n",
      "  5.174300e-02 8.173800e-02 5.198410e-01 4.160537e+00]\n",
      " [5.518000e-03 1.032800e-02 3.473000e-03 8.393000e-03 1.654300e-02\n",
      "  5.174300e-02 8.173800e-02 5.198410e-01 4.160537e+00]\n",
      " [5.518000e-03 1.032800e-02 3.473000e-03 8.393000e-03 1.654300e-02\n",
      "  5.174300e-02 8.173800e-02 5.198410e-01 4.160537e+00]\n",
      " [5.518000e-03 1.032800e-02 3.473000e-03 8.393000e-03 1.654300e-02\n",
      "  5.174300e-02 8.173800e-02 5.198410e-01 4.160537e+00]\n",
      " [5.518000e-03 1.032800e-02 3.473000e-03 8.393000e-03 1.654300e-02\n",
      "  5.174300e-02 8.173800e-02 5.198410e-01 4.160537e+00]\n",
      " [5.518000e-03 1.032800e-02 3.473000e-03 8.393000e-03 1.654300e-02\n",
      "  5.174300e-02 8.173800e-02 5.198410e-01 4.160537e+00]]\n"
     ]
    }
   ],
   "source": [
    "time_q3 = np.round(run_query(query3), 6)\n",
    "print(time_q3)"
   ]
  },
  {
   "cell_type": "code",
   "execution_count": 18,
   "id": "dominican-nitrogen",
   "metadata": {},
   "outputs": [
    {
     "data": {
      "text/plain": [
       "array([5.518000e-03, 1.032800e-02, 3.473000e-03, 8.393000e-03,\n",
       "       1.654300e-02, 5.174300e-02, 8.173800e-02, 5.198410e-01,\n",
       "       4.160537e+00])"
      ]
     },
     "execution_count": 18,
     "metadata": {},
     "output_type": "execute_result"
    }
   ],
   "source": [
    "final_t3 = (np.sum(time_q3, axis = 0) - np.max(time_q3, axis = 0) - np.max(time_q3, axis = 0)) / 5\n",
    "final_t3"
   ]
  },
  {
   "cell_type": "markdown",
   "id": "serial-haiti",
   "metadata": {},
   "source": [
    "### **Query 4 across all databases**"
   ]
  },
  {
   "cell_type": "code",
   "execution_count": 19,
   "id": "deluxe-railway",
   "metadata": {},
   "outputs": [
    {
     "name": "stdout",
     "output_type": "stream",
     "text": [
      "[[0.023502 0.029408 0.019482 0.09086  0.110093 0.165954 1.240149 1.019666\n",
      "  0.85443 ]\n",
      " [0.023502 0.029408 0.019482 0.09086  0.110093 0.165954 1.240149 1.019666\n",
      "  0.85443 ]\n",
      " [0.023502 0.029408 0.019482 0.09086  0.110093 0.165954 1.240149 1.019666\n",
      "  0.85443 ]\n",
      " [0.023502 0.029408 0.019482 0.09086  0.110093 0.165954 1.240149 1.019666\n",
      "  0.85443 ]\n",
      " [0.023502 0.029408 0.019482 0.09086  0.110093 0.165954 1.240149 1.019666\n",
      "  0.85443 ]\n",
      " [0.023502 0.029408 0.019482 0.09086  0.110093 0.165954 1.240149 1.019666\n",
      "  0.85443 ]\n",
      " [0.023502 0.029408 0.019482 0.09086  0.110093 0.165954 1.240149 1.019666\n",
      "  0.85443 ]]\n"
     ]
    }
   ],
   "source": [
    "time_q4 = np.round(run_query(query4), 6)\n",
    "print(time_q4)"
   ]
  },
  {
   "cell_type": "code",
   "execution_count": 20,
   "id": "distributed-programmer",
   "metadata": {},
   "outputs": [
    {
     "data": {
      "text/plain": [
       "array([0.023502, 0.029408, 0.019482, 0.09086 , 0.110093, 0.165954,\n",
       "       1.240149, 1.019666, 0.85443 ])"
      ]
     },
     "execution_count": 20,
     "metadata": {},
     "output_type": "execute_result"
    }
   ],
   "source": [
    "final_t4 = (np.sum(time_q4, axis = 0) - np.max(time_q4, axis = 0) - np.max(time_q4, axis = 0)) / 5\n",
    "final_t4"
   ]
  },
  {
   "cell_type": "code",
   "execution_count": 21,
   "id": "wound-drill",
   "metadata": {},
   "outputs": [
    {
     "name": "stdout",
     "output_type": "stream",
     "text": [
      "[[0.00188  0.011152 0.013667 0.007534 0.003017 0.002637 0.009667 0.015387\n",
      "  0.014923]\n",
      " [0.00188  0.011152 0.013667 0.007534 0.003017 0.002637 0.009667 0.015387\n",
      "  0.014923]\n",
      " [0.00188  0.011152 0.013667 0.007534 0.003017 0.002637 0.009667 0.015387\n",
      "  0.014923]\n",
      " [0.00188  0.011152 0.013667 0.007534 0.003017 0.002637 0.009667 0.015387\n",
      "  0.014923]\n",
      " [0.00188  0.011152 0.013667 0.007534 0.003017 0.002637 0.009667 0.015387\n",
      "  0.014923]\n",
      " [0.00188  0.011152 0.013667 0.007534 0.003017 0.002637 0.009667 0.015387\n",
      "  0.014923]\n",
      " [0.00188  0.011152 0.013667 0.007534 0.003017 0.002637 0.009667 0.015387\n",
      "  0.014923]]\n",
      "[[5.002000e-03 4.111000e-03 3.882000e-03 9.643000e-03 1.548900e-02\n",
      "  5.661100e-02 7.358300e-02 6.104810e-01 8.235404e+00]\n",
      " [5.002000e-03 4.111000e-03 3.882000e-03 9.643000e-03 1.548900e-02\n",
      "  5.661100e-02 7.358300e-02 6.104810e-01 8.235404e+00]\n",
      " [5.002000e-03 4.111000e-03 3.882000e-03 9.643000e-03 1.548900e-02\n",
      "  5.661100e-02 7.358300e-02 6.104810e-01 8.235404e+00]\n",
      " [5.002000e-03 4.111000e-03 3.882000e-03 9.643000e-03 1.548900e-02\n",
      "  5.661100e-02 7.358300e-02 6.104810e-01 8.235404e+00]\n",
      " [5.002000e-03 4.111000e-03 3.882000e-03 9.643000e-03 1.548900e-02\n",
      "  5.661100e-02 7.358300e-02 6.104810e-01 8.235404e+00]\n",
      " [5.002000e-03 4.111000e-03 3.882000e-03 9.643000e-03 1.548900e-02\n",
      "  5.661100e-02 7.358300e-02 6.104810e-01 8.235404e+00]\n",
      " [5.002000e-03 4.111000e-03 3.882000e-03 9.643000e-03 1.548900e-02\n",
      "  5.661100e-02 7.358300e-02 6.104810e-01 8.235404e+00]]\n",
      "[[5.518000e-03 1.032800e-02 3.473000e-03 8.393000e-03 1.654300e-02\n",
      "  5.174300e-02 8.173800e-02 5.198410e-01 4.160537e+00]\n",
      " [5.518000e-03 1.032800e-02 3.473000e-03 8.393000e-03 1.654300e-02\n",
      "  5.174300e-02 8.173800e-02 5.198410e-01 4.160537e+00]\n",
      " [5.518000e-03 1.032800e-02 3.473000e-03 8.393000e-03 1.654300e-02\n",
      "  5.174300e-02 8.173800e-02 5.198410e-01 4.160537e+00]\n",
      " [5.518000e-03 1.032800e-02 3.473000e-03 8.393000e-03 1.654300e-02\n",
      "  5.174300e-02 8.173800e-02 5.198410e-01 4.160537e+00]\n",
      " [5.518000e-03 1.032800e-02 3.473000e-03 8.393000e-03 1.654300e-02\n",
      "  5.174300e-02 8.173800e-02 5.198410e-01 4.160537e+00]\n",
      " [5.518000e-03 1.032800e-02 3.473000e-03 8.393000e-03 1.654300e-02\n",
      "  5.174300e-02 8.173800e-02 5.198410e-01 4.160537e+00]\n",
      " [5.518000e-03 1.032800e-02 3.473000e-03 8.393000e-03 1.654300e-02\n",
      "  5.174300e-02 8.173800e-02 5.198410e-01 4.160537e+00]]\n",
      "[[0.023502 0.029408 0.019482 0.09086  0.110093 0.165954 1.240149 1.019666\n",
      "  0.85443 ]\n",
      " [0.023502 0.029408 0.019482 0.09086  0.110093 0.165954 1.240149 1.019666\n",
      "  0.85443 ]\n",
      " [0.023502 0.029408 0.019482 0.09086  0.110093 0.165954 1.240149 1.019666\n",
      "  0.85443 ]\n",
      " [0.023502 0.029408 0.019482 0.09086  0.110093 0.165954 1.240149 1.019666\n",
      "  0.85443 ]\n",
      " [0.023502 0.029408 0.019482 0.09086  0.110093 0.165954 1.240149 1.019666\n",
      "  0.85443 ]\n",
      " [0.023502 0.029408 0.019482 0.09086  0.110093 0.165954 1.240149 1.019666\n",
      "  0.85443 ]\n",
      " [0.023502 0.029408 0.019482 0.09086  0.110093 0.165954 1.240149 1.019666\n",
      "  0.85443 ]]\n"
     ]
    }
   ],
   "source": [
    "print(time_q1)\n",
    "print(time_q2)\n",
    "print(time_q3)\n",
    "print(time_q4)"
   ]
  },
  {
   "cell_type": "markdown",
   "id": "generic-blackjack",
   "metadata": {},
   "source": [
    "### **Saving times collected to csv**"
   ]
  },
  {
   "cell_type": "code",
   "execution_count": 22,
   "id": "animated-steal",
   "metadata": {},
   "outputs": [],
   "source": [
    "import csv\n",
    "with open(\"t1.csv\", \"w+\") as my_csv:\n",
    "    writer = csv.writer(my_csv, delimiter=',')\n",
    "    writer.writerows(time_q1)"
   ]
  },
  {
   "cell_type": "code",
   "execution_count": 23,
   "id": "dramatic-charity",
   "metadata": {},
   "outputs": [],
   "source": [
    "with open(\"t2.csv\", \"w+\") as my_csv:\n",
    "    writer = csv.writer(my_csv, delimiter=',')\n",
    "    writer.writerows(time_q2)"
   ]
  },
  {
   "cell_type": "code",
   "execution_count": 24,
   "id": "broadband-porter",
   "metadata": {},
   "outputs": [],
   "source": [
    "with open(\"t3.csv\", \"w+\") as my_csv:\n",
    "    writer = csv.writer(my_csv, delimiter=',')\n",
    "    writer.writerows(time_q3)"
   ]
  },
  {
   "cell_type": "code",
   "execution_count": 25,
   "id": "fancy-moderator",
   "metadata": {},
   "outputs": [],
   "source": [
    "with open(\"t4.csv\", \"w+\") as my_csv:\n",
    "    writer = csv.writer(my_csv, delimiter=',')\n",
    "    writer.writerows(time_q4)"
   ]
  },
  {
   "cell_type": "code",
   "execution_count": null,
   "id": "communist-durham",
   "metadata": {},
   "outputs": [],
   "source": []
  },
  {
   "cell_type": "code",
   "execution_count": null,
   "id": "progressive-synthetic",
   "metadata": {},
   "outputs": [],
   "source": []
  }
 ],
 "metadata": {
  "kernelspec": {
   "display_name": "Python 3",
   "language": "python",
   "name": "python3"
  },
  "language_info": {
   "codemirror_mode": {
    "name": "ipython",
    "version": 3
   },
   "file_extension": ".py",
   "mimetype": "text/x-python",
   "name": "python",
   "nbconvert_exporter": "python",
   "pygments_lexer": "ipython3",
   "version": "3.6.9"
  }
 },
 "nbformat": 4,
 "nbformat_minor": 5
}
