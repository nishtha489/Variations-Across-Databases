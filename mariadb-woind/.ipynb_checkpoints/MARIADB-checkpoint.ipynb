{
 "cells": [
  {
   "cell_type": "markdown",
   "id": "necessary-heater",
   "metadata": {},
   "source": [
    "## <center>**MARIADB Databases : Implementation and Querying (Without Indexing)**</center>\n",
    "This notebook contains the code to establish the databases in Mariadb and to perform the required queries and note their times.\n",
    "\n",
    "According to my roll number, the csv files I picked for creating these databases were :\n",
    "- A-100\n",
    "- A-1000\n",
    "- A-10000\n",
    "- B-100-3-1\n",
    "- B-100-5-2\n",
    "- B-100-10-1\n",
    "- B-1000-5-2\n",
    "- B-1000-10-4\n",
    "- B-1000-50-2\n",
    "- B-10000-5-1\n",
    "- B-10000-50-2\n",
    "- B-10000-500-1\n",
    "\n",
    "\n",
    "The 9 databases formed according to question were therefore:\n",
    "- **A_100, B_100_3_1 (db1)**\n",
    "- **A_100, B_100_5_2 (db2)**\n",
    "- **A_100, B_100_10_1 (db3)**\n",
    "- **A_1000, B_1000_5_2 (db4)**\n",
    "- **A_1000, B_1000_10_4 (db5)**\n",
    "- **A_1000, B_1000_50_2 (db6)**\n",
    "- **A_10000, B_10000_5_1 (db7)**\n",
    "- **A_10000, B_10000_50-2 (db8)**\n",
    "- **A-10000, B_10000_500_1 (db9)**\n",
    "\n"
   ]
  },
  {
   "cell_type": "markdown",
   "id": "strange-clarity",
   "metadata": {},
   "source": [
    "We start off by importing the required packages. <br>\n",
    "**NOTE:** You will have to first install the packages by uncommenting the lines below if they are not already installed on your system."
   ]
  },
  {
   "cell_type": "code",
   "execution_count": 1,
   "id": "mental-frontier",
   "metadata": {},
   "outputs": [],
   "source": [
    "#!pip3 install mariadb\n",
    "import mariadb\n",
    "import pandas as pd\n",
    "from mariadb import Error\n",
    "from time import time\n",
    "import numpy as np\n",
    "import csv"
   ]
  },
  {
   "cell_type": "markdown",
   "id": "mental-gather",
   "metadata": {},
   "source": [
    "#### **Function to create a database**\n",
    "This function creates a connection to the specified database and if it doesn't already exist, it creates that database.<br>\n",
    "**NOTE:** This will cerate the database in the same directory as the notebook. IF you want a different path, specify it while passing the argument to the create_database function. Also change the username and password as per requirement"
   ]
  },
  {
   "cell_type": "code",
   "execution_count": 31,
   "id": "greenhouse-nitrogen",
   "metadata": {
    "tags": []
   },
   "outputs": [],
   "source": [
    "def create_connection():\n",
    "    \n",
    "    connection = None\n",
    "    try:\n",
    "        connection = mariadb.connect(user=\"user1\",\n",
    "        password= \"password1\")\n",
    "        c = connection.cursor()\n",
    "        c.execute('CREATE DATABASE db1;')\n",
    "        c.execute('CREATE DATABASE db2;')\n",
    "        c.execute('CREATE DATABASE db3;')\n",
    "        c.execute('CREATE DATABASE db4;')\n",
    "        c.execute('CREATE DATABASE db5;')\n",
    "        c.execute('CREATE DATABASE db6;')\n",
    "        c.execute('CREATE DATABASE db7;')\n",
    "        c.execute('CREATE DATABASE db8;')\n",
    "        c.execute('CREATE DATABASE db9;')\n",
    "    except Error as e:\n",
    "        print(e)\n",
    "    finally:\n",
    "        if connection :\n",
    "            connection.close()"
   ]
  },
  {
   "cell_type": "code",
   "execution_count": 32,
   "id": "owned-pathology",
   "metadata": {},
   "outputs": [
    {
     "name": "stdout",
     "output_type": "stream",
     "text": [
      "db1\n",
      "db2\n",
      "db3\n",
      "db4\n",
      "db5\n",
      "db6\n",
      "db7\n",
      "db8\n",
      "db9\n"
     ]
    }
   ],
   "source": [
    "create_connection()"
   ]
  },
  {
   "cell_type": "markdown",
   "id": "blond-processor",
   "metadata": {},
   "source": [
    "### <center>**Creating database tables and Importing data in db**</center>\n",
    "#### **Function to create tables in database**\n",
    "After creating the databases, next we create the tables inside the database and import data into those tables. Below is the function for that which takes as argument the database, and the two tables you want to import in that database .i.e. A and B. <br>\n",
    "**NOTE:** Please take care while of the path while passing arguments to this function. While running, I had the csv files in the exact same directory. Mention the path correctly in case there is a different path. And take care of the username and password fields."
   ]
  },
  {
   "cell_type": "code",
   "execution_count": 4,
   "id": "convinced-participation",
   "metadata": {},
   "outputs": [],
   "source": [
    "def create_tables(db, table1, table2):\n",
    "    \n",
    "    connection = mariadb.connect(user=\"user1\",\n",
    "    password= \"password1\",\n",
    "    database= db)\n",
    "\n",
    "    c = connection.cursor()\n",
    "    \n",
    "    c.execute('DROP TABLE if EXISTS B')\n",
    "    c.execute('DROP TABLE if Exists A')\n",
    "\n",
    "    c.execute('''CREATE TABLE A( A1 int,\n",
    "                A2 text );''')\n",
    "\n",
    "    c.execute('CREATE TABLE B( B1 int, B2 int, B3 varchar(255))')\n",
    "\n",
    "    connection.commit()\n",
    "    \n",
    "    with open(table1, newline = '') as csvfile:\n",
    "        reader = csv.reader(csvfile, delimiter=',')\n",
    "        next(reader)\n",
    "        for row in reader:\n",
    "            A1 = int(row[0])\n",
    "            A2 = row[1]\n",
    "            c.execute(f'INSERT INTO A(A1, A2) VALUES(\"{A1}\", \"{A2}\");')\n",
    "    \n",
    "    with open(table2, newline = '') as csvfile:\n",
    "        reader = csv.reader(csvfile, delimiter=',')\n",
    "        next(reader)\n",
    "        for row in reader:\n",
    "            B1 = int(row[0])\n",
    "            B2 = int(row[1])\n",
    "            B3 = row[2]\n",
    "            c.execute(f'INSERT INTO B(B1, B2, B3) VALUES(\"{B1}\", \"{B2}\", \"{B3}\");')\n",
    "    \n",
    "    connection.commit()\n",
    "    connection.close()"
   ]
  },
  {
   "cell_type": "markdown",
   "id": "hybrid-footage",
   "metadata": {},
   "source": [
    "#### **Database 1 - db1.db**"
   ]
  },
  {
   "cell_type": "code",
   "execution_count": 5,
   "id": "dynamic-africa",
   "metadata": {},
   "outputs": [],
   "source": [
    "create_tables('db1', 'A-100.csv', 'B-100-3-1.csv')"
   ]
  },
  {
   "cell_type": "markdown",
   "id": "apart-access",
   "metadata": {},
   "source": [
    "#### **Database 2 - db2.db**"
   ]
  },
  {
   "cell_type": "code",
   "execution_count": 6,
   "id": "structured-patrick",
   "metadata": {},
   "outputs": [],
   "source": [
    "create_tables('db2', r'A-100.csv', r'B-100-5-2.csv')"
   ]
  },
  {
   "cell_type": "markdown",
   "id": "binary-cookbook",
   "metadata": {},
   "source": [
    "#### **Database 3 - db3.db**"
   ]
  },
  {
   "cell_type": "code",
   "execution_count": 7,
   "id": "literary-grounds",
   "metadata": {},
   "outputs": [],
   "source": [
    "create_tables('db3', r'A-100.csv', r'B-100-10-1.csv')"
   ]
  },
  {
   "cell_type": "markdown",
   "id": "regulated-fitness",
   "metadata": {},
   "source": [
    "#### **Database 4 - db4.db**"
   ]
  },
  {
   "cell_type": "code",
   "execution_count": 8,
   "id": "prospective-lender",
   "metadata": {},
   "outputs": [],
   "source": [
    "create_tables('db4', r'A-1000.csv', r'B-1000-5-2.csv')"
   ]
  },
  {
   "cell_type": "markdown",
   "id": "adjacent-palestine",
   "metadata": {},
   "source": [
    "#### **Database 5 - db5.db**"
   ]
  },
  {
   "cell_type": "code",
   "execution_count": 9,
   "id": "increasing-waste",
   "metadata": {},
   "outputs": [],
   "source": [
    "create_tables('db5', r'A-1000.csv', r'B-1000-10-4.csv')"
   ]
  },
  {
   "cell_type": "markdown",
   "id": "excited-equation",
   "metadata": {},
   "source": [
    "#### **Database 6 - db6.db**"
   ]
  },
  {
   "cell_type": "code",
   "execution_count": 10,
   "id": "retired-decade",
   "metadata": {},
   "outputs": [],
   "source": [
    "create_tables('db6', r'A-1000.csv', r'B-1000-50-2.csv')"
   ]
  },
  {
   "cell_type": "markdown",
   "id": "aggressive-wyoming",
   "metadata": {},
   "source": [
    "#### **Database 7 - db7.db**"
   ]
  },
  {
   "cell_type": "code",
   "execution_count": 11,
   "id": "complimentary-queensland",
   "metadata": {},
   "outputs": [],
   "source": [
    "create_tables('db7', r'A-10000.csv', r'B-10000-5-1.csv')"
   ]
  },
  {
   "cell_type": "markdown",
   "id": "secondary-hanging",
   "metadata": {},
   "source": [
    "#### **Database 8 - db8.db**"
   ]
  },
  {
   "cell_type": "code",
   "execution_count": 12,
   "id": "familiar-portugal",
   "metadata": {},
   "outputs": [],
   "source": [
    "create_tables('db8', r'A-10000.csv', r'B-10000-50-2.csv')"
   ]
  },
  {
   "cell_type": "markdown",
   "id": "substantial-swedish",
   "metadata": {},
   "source": [
    "#### **Database 9 - db9.db**"
   ]
  },
  {
   "cell_type": "code",
   "execution_count": 13,
   "id": "synthetic-fever",
   "metadata": {},
   "outputs": [],
   "source": [
    "create_tables('db9', r'A-10000.csv', r'B-10000-500-1.csv')"
   ]
  },
  {
   "cell_type": "markdown",
   "id": "described-relevance",
   "metadata": {
    "tags": []
   },
   "source": [
    "### <center>**Querying the databases and finding time**</center>\n",
    "#### **Function to run a query and report time**\n",
    "This function loops 7 times and creates connection to each of the 9 databases one by one to execute the query passed on to it. <br>\n",
    "*Since while executing on shell directly executes and then prints the query, so to counter the overhead the same thing has been followed while noting time. Data has been fetched and collected. Since the method has been appointed in all 4 versions, the overhead is cancelled*"
   ]
  },
  {
   "cell_type": "code",
   "execution_count": 2,
   "id": "loaded-dividend",
   "metadata": {},
   "outputs": [],
   "source": [
    "def run_query(query):\n",
    "    \n",
    "    t = [[0] * 9] * 7\n",
    "    for i in range(7):\n",
    "        connection = mariadb.connect(user=\"user1\", password= \"password1\", database = 'db1')\n",
    "        c = connection.cursor()\n",
    "        tic = time()\n",
    "        c.execute(query)\n",
    "        x = pd.DataFrame(c.fetchall())\n",
    "        toc = time()\n",
    "        #print(toc - tic)\n",
    "        t[i][0] = toc - tic\n",
    "        connection.close()\n",
    "        \n",
    "        connection = mariadb.connect(user=\"user1\", password= \"password1\", database = 'db2')\n",
    "        c = connection.cursor()\n",
    "        tic = time()\n",
    "        c.execute(query)\n",
    "        x = pd.DataFrame(c.fetchall())\n",
    "        toc = time()\n",
    "        #print(toc - tic)\n",
    "        t[i][1] = toc - tic        \n",
    "        connection.close()\n",
    "        \n",
    "        connection = mariadb.connect(user=\"user1\", password= \"password1\", database = 'db3')\n",
    "        c = connection.cursor()\n",
    "        tic = time()\n",
    "        c.execute(query)\n",
    "        x = pd.DataFrame(c.fetchall())\n",
    "        toc = time()\n",
    "        #print(toc - tic)\n",
    "        t[i][2] = toc - tic\n",
    "        connection.close()\n",
    "        \n",
    "        connection = mariadb.connect(user=\"user1\", password= \"password1\", database = 'db4')\n",
    "        c = connection.cursor()\n",
    "        tic = time()\n",
    "        c.execute(query)\n",
    "        x = pd.DataFrame(c.fetchall())\n",
    "        toc = time()\n",
    "        #print(toc - tic)\n",
    "        t[i][3] = toc - tic\n",
    "        connection.close()\n",
    "        \n",
    "        connection = mariadb.connect(user=\"user1\", password= \"password1\", database = 'db5')\n",
    "        c = connection.cursor()\n",
    "        tic = time()\n",
    "        c.execute(query)\n",
    "        x = pd.DataFrame(c.fetchall())\n",
    "        toc = time()\n",
    "        #print(toc - tic)\n",
    "        t[i][4] = toc - tic\n",
    "        connection.close()\n",
    "        \n",
    "        connection = mariadb.connect(user=\"user1\", password= \"password1\", database = 'db6')\n",
    "        c = connection.cursor()\n",
    "        tic = time()\n",
    "        c.execute(query)\n",
    "        x = pd.DataFrame(c.fetchall())\n",
    "        toc = time()\n",
    "        #print(toc - tic)\n",
    "        t[i][5] = toc - tic\n",
    "        connection.close()\n",
    "        \n",
    "        connection = mariadb.connect(user=\"user1\", password= \"password1\", database = 'db7')\n",
    "        c = connection.cursor()\n",
    "        tic = time()\n",
    "        c.execute(query)\n",
    "        x = pd.DataFrame(c.fetchall())\n",
    "        toc = time()\n",
    "        #print(toc - tic)\n",
    "        t[i][6] = toc - tic\n",
    "        connection.close()\n",
    "        \n",
    "        connection = mariadb.connect(user=\"user1\", password= \"password1\", database = 'db8')\n",
    "        c = connection.cursor()\n",
    "        tic = time()\n",
    "        c.execute(query)\n",
    "        x = pd.DataFrame(c.fetchall())\n",
    "        toc = time()\n",
    "        #print(toc - tic)\n",
    "        t[i][7] = toc - tic\n",
    "        connection.close()\n",
    "                \n",
    "        connection = mariadb.connect(user=\"user1\", password= \"password1\", database = 'db9')\n",
    "        c = connection.cursor()\n",
    "        tic = time()\n",
    "        c.execute(query)\n",
    "        x = pd.DataFrame(c.fetchall())\n",
    "        toc = time()\n",
    "        #print(toc - tic)\n",
    "        t[i][8] = toc - tic\n",
    "        connection.close()\n",
    "        \n",
    "    return t"
   ]
  },
  {
   "cell_type": "markdown",
   "id": "expensive-jacob",
   "metadata": {},
   "source": [
    "### **Defining queries and time arrays**"
   ]
  },
  {
   "cell_type": "code",
   "execution_count": 3,
   "id": "documented-johnston",
   "metadata": {},
   "outputs": [],
   "source": [
    "query1 = 'SELECT * FROM A WHERE A1 <= 50'\n",
    "query2 = 'SELECT * FROM B ORDER BY B3'\n",
    "query3 = 'SELECT AVG(X.COL) FROM (SELECT COUNT(B2) AS COL FROM B GROUP BY B2) AS X'\n",
    "query4 = 'SELECT A2, B1, B2, B3 FROM A, B WHERE A.A1 = B.B2'"
   ]
  },
  {
   "cell_type": "code",
   "execution_count": 4,
   "id": "sixth-granny",
   "metadata": {},
   "outputs": [],
   "source": [
    "time_q1 = [[0] * 9] * 7\n",
    "time_q2 = [[0] * 9] * 7\n",
    "time_q3 = [[0] * 9] * 7\n",
    "time_q4 = [[0] * 9] * 7"
   ]
  },
  {
   "cell_type": "markdown",
   "id": "confidential-leadership",
   "metadata": {},
   "source": [
    "### **Query 1 across all databases**"
   ]
  },
  {
   "cell_type": "code",
   "execution_count": 5,
   "id": "healthy-mercury",
   "metadata": {},
   "outputs": [
    {
     "name": "stdout",
     "output_type": "stream",
     "text": [
      "[[0.001313 0.001034 0.001014 0.001882 0.00181  0.001823 0.009714 0.009654\n",
      "  0.009362]\n",
      " [0.001313 0.001034 0.001014 0.001882 0.00181  0.001823 0.009714 0.009654\n",
      "  0.009362]\n",
      " [0.001313 0.001034 0.001014 0.001882 0.00181  0.001823 0.009714 0.009654\n",
      "  0.009362]\n",
      " [0.001313 0.001034 0.001014 0.001882 0.00181  0.001823 0.009714 0.009654\n",
      "  0.009362]\n",
      " [0.001313 0.001034 0.001014 0.001882 0.00181  0.001823 0.009714 0.009654\n",
      "  0.009362]\n",
      " [0.001313 0.001034 0.001014 0.001882 0.00181  0.001823 0.009714 0.009654\n",
      "  0.009362]\n",
      " [0.001313 0.001034 0.001014 0.001882 0.00181  0.001823 0.009714 0.009654\n",
      "  0.009362]]\n"
     ]
    }
   ],
   "source": [
    "time_q1 = np.round(run_query(query1), 6)\n",
    "print(time_q1)"
   ]
  },
  {
   "cell_type": "code",
   "execution_count": 6,
   "id": "essential-insurance",
   "metadata": {},
   "outputs": [
    {
     "data": {
      "text/plain": [
       "array([0.001313, 0.001034, 0.001014, 0.001882, 0.00181 , 0.001823,\n",
       "       0.009714, 0.009654, 0.009362])"
      ]
     },
     "execution_count": 6,
     "metadata": {},
     "output_type": "execute_result"
    }
   ],
   "source": [
    "final_t1 = (np.sum(time_q1, axis = 0) - np.max(time_q1, axis = 0) - np.max(time_q1, axis = 0)) / 5\n",
    "final_t1"
   ]
  },
  {
   "cell_type": "markdown",
   "id": "requested-senator",
   "metadata": {},
   "source": [
    "### **Query 2 across all databases**"
   ]
  },
  {
   "cell_type": "code",
   "execution_count": 7,
   "id": "innocent-failure",
   "metadata": {},
   "outputs": [
    {
     "name": "stdout",
     "output_type": "stream",
     "text": [
      "[[9.7722000e-02 3.5650000e-03 4.7310000e-03 2.6086000e-02 6.2371000e-02\n",
      "  2.0391900e-01 2.7257700e-01 2.2747610e+00 7.3418112e+01]\n",
      " [9.7722000e-02 3.5650000e-03 4.7310000e-03 2.6086000e-02 6.2371000e-02\n",
      "  2.0391900e-01 2.7257700e-01 2.2747610e+00 7.3418112e+01]\n",
      " [9.7722000e-02 3.5650000e-03 4.7310000e-03 2.6086000e-02 6.2371000e-02\n",
      "  2.0391900e-01 2.7257700e-01 2.2747610e+00 7.3418112e+01]\n",
      " [9.7722000e-02 3.5650000e-03 4.7310000e-03 2.6086000e-02 6.2371000e-02\n",
      "  2.0391900e-01 2.7257700e-01 2.2747610e+00 7.3418112e+01]\n",
      " [9.7722000e-02 3.5650000e-03 4.7310000e-03 2.6086000e-02 6.2371000e-02\n",
      "  2.0391900e-01 2.7257700e-01 2.2747610e+00 7.3418112e+01]\n",
      " [9.7722000e-02 3.5650000e-03 4.7310000e-03 2.6086000e-02 6.2371000e-02\n",
      "  2.0391900e-01 2.7257700e-01 2.2747610e+00 7.3418112e+01]\n",
      " [9.7722000e-02 3.5650000e-03 4.7310000e-03 2.6086000e-02 6.2371000e-02\n",
      "  2.0391900e-01 2.7257700e-01 2.2747610e+00 7.3418112e+01]]\n"
     ]
    }
   ],
   "source": [
    "time_q2 = np.round(run_query(query2), 6)\n",
    "print(time_q2)"
   ]
  },
  {
   "cell_type": "code",
   "execution_count": 8,
   "id": "accepting-davis",
   "metadata": {},
   "outputs": [
    {
     "data": {
      "text/plain": [
       "array([9.7722000e-02, 3.5650000e-03, 4.7310000e-03, 2.6086000e-02,\n",
       "       6.2371000e-02, 2.0391900e-01, 2.7257700e-01, 2.2747610e+00,\n",
       "       7.3418112e+01])"
      ]
     },
     "execution_count": 8,
     "metadata": {},
     "output_type": "execute_result"
    }
   ],
   "source": [
    "final_t2 = (np.sum(time_q2, axis = 0) - np.max(time_q2, axis = 0) - np.max(time_q2, axis = 0)) / 5\n",
    "final_t2"
   ]
  },
  {
   "cell_type": "markdown",
   "id": "played-province",
   "metadata": {},
   "source": [
    "### **Query 3 across all databases**"
   ]
  },
  {
   "cell_type": "code",
   "execution_count": 9,
   "id": "binding-double",
   "metadata": {},
   "outputs": [
    {
     "name": "stdout",
     "output_type": "stream",
     "text": [
      "[[1.32600e-03 1.41200e-03 1.50600e-03 5.54400e-03 7.78700e-03 2.95570e-02\n",
      "  4.77960e-02 2.77697e-01 2.34640e+00]\n",
      " [1.32600e-03 1.41200e-03 1.50600e-03 5.54400e-03 7.78700e-03 2.95570e-02\n",
      "  4.77960e-02 2.77697e-01 2.34640e+00]\n",
      " [1.32600e-03 1.41200e-03 1.50600e-03 5.54400e-03 7.78700e-03 2.95570e-02\n",
      "  4.77960e-02 2.77697e-01 2.34640e+00]\n",
      " [1.32600e-03 1.41200e-03 1.50600e-03 5.54400e-03 7.78700e-03 2.95570e-02\n",
      "  4.77960e-02 2.77697e-01 2.34640e+00]\n",
      " [1.32600e-03 1.41200e-03 1.50600e-03 5.54400e-03 7.78700e-03 2.95570e-02\n",
      "  4.77960e-02 2.77697e-01 2.34640e+00]\n",
      " [1.32600e-03 1.41200e-03 1.50600e-03 5.54400e-03 7.78700e-03 2.95570e-02\n",
      "  4.77960e-02 2.77697e-01 2.34640e+00]\n",
      " [1.32600e-03 1.41200e-03 1.50600e-03 5.54400e-03 7.78700e-03 2.95570e-02\n",
      "  4.77960e-02 2.77697e-01 2.34640e+00]]\n"
     ]
    }
   ],
   "source": [
    "time_q3 = np.round(run_query(query3), 6)\n",
    "print(time_q3)"
   ]
  },
  {
   "cell_type": "code",
   "execution_count": 10,
   "id": "speaking-ozone",
   "metadata": {},
   "outputs": [
    {
     "data": {
      "text/plain": [
       "array([1.32600e-03, 1.41200e-03, 1.50600e-03, 5.54400e-03, 7.78700e-03,\n",
       "       2.95570e-02, 4.77960e-02, 2.77697e-01, 2.34640e+00])"
      ]
     },
     "execution_count": 10,
     "metadata": {},
     "output_type": "execute_result"
    }
   ],
   "source": [
    "final_t3 = (np.sum(time_q3, axis = 0) - np.max(time_q3, axis = 0) - np.max(time_q3, axis = 0)) / 5\n",
    "final_t3"
   ]
  },
  {
   "cell_type": "markdown",
   "id": "inside-marble",
   "metadata": {},
   "source": [
    "### **Query 4 across all databases**"
   ]
  },
  {
   "cell_type": "code",
   "execution_count": null,
   "id": "rational-ground",
   "metadata": {},
   "outputs": [],
   "source": [
    "time_q4 = np.round(run_query(query4), 6)\n",
    "print(time_q4)"
   ]
  },
  {
   "cell_type": "code",
   "execution_count": null,
   "id": "wicked-audio",
   "metadata": {},
   "outputs": [],
   "source": [
    "final_t4 = (np.sum(time_q4, axis = 0) - np.max(time_q4, axis = 0) - np.max(time_q4, axis = 0)) / 5\n",
    "final_t4"
   ]
  },
  {
   "cell_type": "code",
   "execution_count": null,
   "id": "junior-lewis",
   "metadata": {},
   "outputs": [],
   "source": [
    "print(time_q1)\n",
    "print(time_q2)\n",
    "print(time_q3)\n",
    "print(time_q4)"
   ]
  },
  {
   "cell_type": "markdown",
   "id": "infinite-married",
   "metadata": {},
   "source": [
    "### **Saving times collected to csv**"
   ]
  },
  {
   "cell_type": "code",
   "execution_count": null,
   "id": "radical-western",
   "metadata": {},
   "outputs": [],
   "source": [
    "import csv\n",
    "with open(\"t1.csv\", \"w+\") as my_csv:\n",
    "    writer = csv.writer(my_csv, delimiter=',')\n",
    "    writer.writerows(time_q1)"
   ]
  },
  {
   "cell_type": "code",
   "execution_count": null,
   "id": "processed-conditions",
   "metadata": {},
   "outputs": [],
   "source": [
    "with open(\"t2.csv\", \"w+\") as my_csv:\n",
    "    writer = csv.writer(my_csv, delimiter=',')\n",
    "    writer.writerows(time_q2)"
   ]
  },
  {
   "cell_type": "code",
   "execution_count": null,
   "id": "billion-accuracy",
   "metadata": {},
   "outputs": [],
   "source": [
    "with open(\"t3.csv\", \"w+\") as my_csv:\n",
    "    writer = csv.writer(my_csv, delimiter=',')\n",
    "    writer.writerows(time_q3)"
   ]
  },
  {
   "cell_type": "code",
   "execution_count": null,
   "id": "recorded-federation",
   "metadata": {},
   "outputs": [],
   "source": [
    "with open(\"t4.csv\", \"w+\") as my_csv:\n",
    "    writer = csv.writer(my_csv, delimiter=',')\n",
    "    writer.writerows(time_q4)"
   ]
  },
  {
   "cell_type": "code",
   "execution_count": null,
   "id": "identical-explorer",
   "metadata": {},
   "outputs": [],
   "source": []
  }
 ],
 "metadata": {
  "kernelspec": {
   "display_name": "Python 3",
   "language": "python",
   "name": "python3"
  },
  "language_info": {
   "codemirror_mode": {
    "name": "ipython",
    "version": 3
   },
   "file_extension": ".py",
   "mimetype": "text/x-python",
   "name": "python",
   "nbconvert_exporter": "python",
   "pygments_lexer": "ipython3",
   "version": "3.6.9"
  }
 },
 "nbformat": 4,
 "nbformat_minor": 5
}
