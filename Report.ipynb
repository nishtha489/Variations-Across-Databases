{
 "cells": [
  {
   "cell_type": "markdown",
   "id": "later-shopping",
   "metadata": {},
   "source": [
    "## **<center>REPORT - Assignment 1 DBMS</center>**\n",
    "#### **<center>Nishtha - 180489</center>**\n",
    "\n",
    "This is the report and here we will clean time and create graphs and conclude about the findings through them. The libraries used in the work will have to be installed first.<br>\n",
    "According to my roll number, the csv files I picked for creating these databases were :\n",
    "- A-100\n",
    "- A-1000\n",
    "- A-10000\n",
    "- B-100-3-1\n",
    "- B-100-5-2\n",
    "- B-100-10-1\n",
    "- B-1000-5-2\n",
    "- B-1000-10-4\n",
    "- B-1000-50-2\n",
    "- B-10000-5-1\n",
    "- B-10000-50-2\n",
    "- B-10000-500-1\n",
    "\n",
    "\n",
    "The 9 databases formed according to question were therefore:\n",
    "- **A_100, B_100_3_1 (db1)**\n",
    "- **A_100, B_100_5_2 (db2)**\n",
    "- **A_100, B_100_10_1 (db3)**\n",
    "- **A_1000, B_1000_5_2 (db4)**\n",
    "- **A_1000, B_1000_10_4 (db5)**\n",
    "- **A_1000, B_1000_50_2 (db6)**\n",
    "- **A_10000, B_10000_5_1 (db7)**\n",
    "- **A_10000, B_10000_50-2 (db8)**\n",
    "- **A-10000, B_10000_500_1 (db9)**\n"
   ]
  },
  {
   "cell_type": "code",
   "execution_count": 101,
   "id": "played-netherlands",
   "metadata": {},
   "outputs": [],
   "source": [
    "#!pip install matplotlib\n",
    "import numpy as np\n",
    "import pandas as pd\n",
    "import csv\n",
    "import matplotlib.pyplot as plt"
   ]
  },
  {
   "cell_type": "markdown",
   "id": "multiple-citizenship",
   "metadata": {},
   "source": [
    "## **Part 1 - Equilvalent SQL and Mongo Queries**\n",
    "You can find these queries in the respective notebooks in the respective folders. Each notebook comprises of the code to create and then implement the queries to find time.\n",
    "\n",
    "Also the queries have been mentioned here:\n",
    "**1. SQL**\n",
    "   - (a) SELECT * FROM A WHERE A1 <= 50;<br>\n",
    "   - (b) SELECT * FROM B ORDER BY B3;<br>\n",
    "   - (c) SELECT AVG(X.COL) FROM (SELECT COUNT(B2) AS COL FROM B GROUP BY B2) AS X;<br>\n",
    "   - (d) SELECT A2, B1, B2, B3 FROM A, B WHERE A.A1 = B.B2;<br>\n",
    "**2. Mongo**\n",
    "   - (a) #$ db.A.aggregate([{ \"$match\" : { \"A1\" : { \"$lte\" :  50 }}}]); #$<br>\n",
    "   - (b) #$ db.B.aggregate([{\"$sort\" : { \"B3\" : 1 }}]); #$<br>\n",
    "   - (c) #$ db.B.aggregate([{ \"$group\" : { '_id' : \"$B2\", \"Average\" : { \"$sum\" : 1 }}}, { \"$group\" : { '_id': \"null\", \"Avg per A1\" : { \"$avg\" : \"$Average\" }}}]); #$<br>\n",
    "   - (d) #$ db.B.aggregate([{ \"$lookup\" : { 'from' : \"A\", 'localField' : \"B2\", 'foreignField' : \"A1\", 'as' : \"nA\"}}, {\"$unwind\" : \"$nA\"}, { \"$project\":{\"nA.A2\" : 1, 'B1' : 1,'B2' : 1, 'B3' : 1}}]) #$ \n",
    "## **Part 2 - Find and Report times for queries**\n",
    "THe times have been reported in the repsective notebooks. Next, here we will load them again and do their cleaning to find mean and standard deviation and then to draw their graphs."
   ]
  },
  {
   "cell_type": "markdown",
   "id": "associate-viking",
   "metadata": {},
   "source": [
    "#### **1. Importing time from sql**"
   ]
  },
  {
   "cell_type": "code",
   "execution_count": 102,
   "id": "surprised-queen",
   "metadata": {},
   "outputs": [],
   "source": [
    "time_sql_q1 = pd.read_csv('sql/t1.csv', header = None)\n",
    "time_sql_q2 = pd.read_csv('sql/t2.csv', header = None)\n",
    "time_sql_q3 = pd.read_csv('sql/t3.csv', header = None)\n",
    "time_sql_q4 = pd.read_csv('sql/t4.csv', header = None)"
   ]
  },
  {
   "cell_type": "markdown",
   "id": "sealed-paintball",
   "metadata": {},
   "source": [
    "#### **2. Importing time from Mariadb - with indexing**"
   ]
  },
  {
   "cell_type": "code",
   "execution_count": 103,
   "id": "bacterial-rugby",
   "metadata": {},
   "outputs": [],
   "source": [
    "time_maria_q1 = pd.read_csv('mariadb/t1.csv', header = None)\n",
    "time_maria_q2 = pd.read_csv('mariadb/t2.csv', header = None)\n",
    "time_maria_q3 = pd.read_csv('mariadb/t3.csv', header = None)\n",
    "time_maria_q4 = pd.read_csv('mariadb/t4.csv', header = None)"
   ]
  },
  {
   "cell_type": "markdown",
   "id": "scheduled-corporation",
   "metadata": {},
   "source": [
    "#### **3. Importing time from Mariadb - without indexing**"
   ]
  },
  {
   "cell_type": "code",
   "execution_count": 104,
   "id": "supposed-joseph",
   "metadata": {},
   "outputs": [],
   "source": [
    "time_maria_woind_q1 = pd.read_csv('mariadb-woind/t1.csv', header = None)\n",
    "time_maria_woind_q2 = pd.read_csv('mariadb-woind/t2.csv', header = None)\n",
    "time_maria_woind_q3 = pd.read_csv('mariadb-woind/t3.csv', header = None)\n",
    "time_maria_woind_q4 = pd.read_csv('mariadb-woind/t4.csv', header = None)"
   ]
  },
  {
   "cell_type": "markdown",
   "id": "bright-review",
   "metadata": {},
   "source": [
    "#### **4. Importing time from Mongodb**"
   ]
  },
  {
   "cell_type": "code",
   "execution_count": 105,
   "id": "bound-burner",
   "metadata": {},
   "outputs": [],
   "source": [
    "time_mongo_q1 = pd.read_csv('mongodb/t1.csv', header = None)\n",
    "time_mongo_q2 = pd.read_csv('mongodb/t2.csv', header = None)\n",
    "time_mongo_q3 = pd.read_csv('mongodb/t3.csv', header = None)\n",
    "time_mongo_q4 = pd.read_csv('mongodb/t4.csv', header = None)"
   ]
  },
  {
   "cell_type": "markdown",
   "id": "personal-theology",
   "metadata": {},
   "source": [
    "### **Function to find mean and standard deviation**"
   ]
  },
  {
   "cell_type": "code",
   "execution_count": 106,
   "id": "baking-modeling",
   "metadata": {},
   "outputs": [],
   "source": [
    "def mean_dev(time):\n",
    "    for col in time:\n",
    "        time[col] = time[col].sort_values(ignore_index = True)\n",
    "    #print(time)\n",
    "    time = time.drop([0, 6], axis = 0)\n",
    "    #print(time)\n",
    "    mean = np.mean(time, axis = 0)\n",
    "    std = np.std(time, axis = 0)\n",
    "    return np.array(mean), np.array(std)"
   ]
  },
  {
   "cell_type": "markdown",
   "id": "informational-aggregate",
   "metadata": {},
   "source": [
    "#### **1. Mean and Standard Deviation for SQL**"
   ]
  },
  {
   "cell_type": "code",
   "execution_count": 107,
   "id": "unlikely-intro",
   "metadata": {},
   "outputs": [
    {
     "name": "stdout",
     "output_type": "stream",
     "text": [
      "[9.10e-05 9.00e-05 9.10e-05 9.30e-05 9.20e-05 9.20e-05 1.18e-04 9.70e-05\n",
      " 9.30e-05] [0.00000000e+00 0.00000000e+00 0.00000000e+00 0.00000000e+00\n",
      " 0.00000000e+00 0.00000000e+00 1.35525272e-20 0.00000000e+00\n",
      " 0.00000000e+00]\n"
     ]
    }
   ],
   "source": [
    "mean_tq1_sql, dev_tq1_sql = mean_dev(time_sql_q1)\n",
    "print(mean_tq1_sql, dev_tq1_sql)"
   ]
  },
  {
   "cell_type": "code",
   "execution_count": 108,
   "id": "veterinary-being",
   "metadata": {},
   "outputs": [
    {
     "name": "stdout",
     "output_type": "stream",
     "text": [
      "[2.775350e-01 5.720000e-04 6.530000e-04 3.894000e-03 7.423000e-03\n",
      " 3.774400e-02 5.127000e-02 4.045410e-01 6.528475e+00] [0.00000000e+00 0.00000000e+00 0.00000000e+00 4.33680869e-19\n",
      " 0.00000000e+00 0.00000000e+00 0.00000000e+00 5.55111512e-17\n",
      " 0.00000000e+00]\n"
     ]
    }
   ],
   "source": [
    "mean_tq2_sql, dev_tq2_sql = mean_dev(time_sql_q2)\n",
    "print(mean_tq2_sql, dev_tq2_sql)"
   ]
  },
  {
   "cell_type": "code",
   "execution_count": 109,
   "id": "solar-invasion",
   "metadata": {},
   "outputs": [
    {
     "name": "stdout",
     "output_type": "stream",
     "text": [
      "[2.920000e-04 2.640000e-04 3.100000e-04 1.508000e-03 2.590000e-03\n",
      " 9.439000e-03 1.655500e-02 1.251050e-01 4.013321e+00] [0. 0. 0. 0. 0. 0. 0. 0. 0.]\n"
     ]
    }
   ],
   "source": [
    "mean_tq3_sql, dev_tq3_sql = mean_dev(time_sql_q3)\n",
    "print(mean_tq3_sql, dev_tq3_sql)"
   ]
  },
  {
   "cell_type": "code",
   "execution_count": 110,
   "id": "medieval-spectrum",
   "metadata": {},
   "outputs": [
    {
     "name": "stdout",
     "output_type": "stream",
     "text": [
      "[1.97479e-01 5.48000e-04 7.94000e-04 4.41900e-03 7.77700e-03 3.35330e-02\n",
      " 4.93070e-02 3.48745e-01 5.35809e+00] [0.00000000e+00 0.00000000e+00 1.08420217e-19 0.00000000e+00\n",
      " 0.00000000e+00 0.00000000e+00 0.00000000e+00 0.00000000e+00\n",
      " 0.00000000e+00]\n"
     ]
    }
   ],
   "source": [
    "mean_tq4_sql, dev_tq4_sql = mean_dev(time_sql_q4)\n",
    "print(mean_tq4_sql, dev_tq4_sql)"
   ]
  },
  {
   "cell_type": "markdown",
   "id": "secret-pacific",
   "metadata": {},
   "source": [
    "#### **2. Mean and Standard Deviation for Mariadb With Index**"
   ]
  },
  {
   "cell_type": "code",
   "execution_count": 111,
   "id": "diverse-ghost",
   "metadata": {},
   "outputs": [
    {
     "name": "stdout",
     "output_type": "stream",
     "text": [
      "[1.06e-04 1.03e-04 1.04e-04 1.04e-04 9.50e-05 1.05e-04 1.06e-04 1.09e-04\n",
      " 1.08e-04] [0.00000000e+00 1.35525272e-20 0.00000000e+00 0.00000000e+00\n",
      " 0.00000000e+00 1.35525272e-20 0.00000000e+00 0.00000000e+00\n",
      " 1.35525272e-20]\n"
     ]
    }
   ],
   "source": [
    "mean_tq1_mar, dev_tq1_mar = mean_dev(time_maria_q1)\n",
    "print(mean_tq1_mar, dev_tq1_mar)"
   ]
  },
  {
   "cell_type": "code",
   "execution_count": 112,
   "id": "heavy-wallace",
   "metadata": {},
   "outputs": [
    {
     "name": "stdout",
     "output_type": "stream",
     "text": [
      "[1.17e-04 9.80e-05 1.16e-04 9.60e-05 9.80e-05 1.05e-04 1.00e-04 1.24e-04\n",
      " 9.90e-05] [0.00000000e+00 0.00000000e+00 1.35525272e-20 0.00000000e+00\n",
      " 0.00000000e+00 1.35525272e-20 0.00000000e+00 0.00000000e+00\n",
      " 0.00000000e+00]\n"
     ]
    }
   ],
   "source": [
    "mean_tq2_mar, dev_tq2_mar = mean_dev(time_maria_q2)\n",
    "print(mean_tq2_mar, dev_tq2_mar)"
   ]
  },
  {
   "cell_type": "code",
   "execution_count": 113,
   "id": "serial-detroit",
   "metadata": {},
   "outputs": [
    {
     "name": "stdout",
     "output_type": "stream",
     "text": [
      "[0.000112 0.000107 0.000134 0.000124 0.000136 0.00013  0.000133 0.000117\n",
      " 0.00012 ] [0.00000000e+00 1.35525272e-20 0.00000000e+00 0.00000000e+00\n",
      " 0.00000000e+00 0.00000000e+00 0.00000000e+00 0.00000000e+00\n",
      " 0.00000000e+00]\n"
     ]
    }
   ],
   "source": [
    "mean_tq3_mar, dev_tq3_mar = mean_dev(time_maria_q3)\n",
    "print(mean_tq3_mar, dev_tq3_mar)"
   ]
  },
  {
   "cell_type": "code",
   "execution_count": 114,
   "id": "australian-integrity",
   "metadata": {},
   "outputs": [
    {
     "name": "stdout",
     "output_type": "stream",
     "text": [
      "[0.000117 0.000154 0.000182 0.000203 0.000176 0.000136 0.000116 0.00012\n",
      " 0.000116] [0.00000000e+00 0.00000000e+00 0.00000000e+00 0.00000000e+00\n",
      " 0.00000000e+00 0.00000000e+00 1.35525272e-20 0.00000000e+00\n",
      " 1.35525272e-20]\n"
     ]
    }
   ],
   "source": [
    "mean_tq4_mar, dev_tq4_mar = mean_dev(time_maria_q4)\n",
    "print(mean_tq4_mar, dev_tq4_mar)"
   ]
  },
  {
   "cell_type": "markdown",
   "id": "pregnant-stevens",
   "metadata": {},
   "source": [
    "#### **3. Mean and Standard Deviation for Mariadb Without Index**"
   ]
  },
  {
   "cell_type": "code",
   "execution_count": 115,
   "id": "italian-frost",
   "metadata": {},
   "outputs": [
    {
     "name": "stdout",
     "output_type": "stream",
     "text": [
      "[0.002268 0.002226 0.002207 0.003989 0.003344 0.002885 0.007639 0.007895\n",
      " 0.007029] [0. 0. 0. 0. 0. 0. 0. 0. 0.]\n"
     ]
    }
   ],
   "source": [
    "mean_tq1_marwo, dev_tq1_marwo = mean_dev(time_maria_woind_q1)\n",
    "print(mean_tq1_marwo, dev_tq1_marwo)"
   ]
  },
  {
   "cell_type": "code",
   "execution_count": 116,
   "id": "martial-moore",
   "metadata": {},
   "outputs": [
    {
     "name": "stdout",
     "output_type": "stream",
     "text": [
      "[2.7956000e-02 3.2778000e-02 1.1385000e-02 4.1610000e-02 5.6506000e-02\n",
      " 1.4690900e-01 2.0387500e-01 2.0765380e+00 1.8244629e+02] [0.00000000e+00 0.00000000e+00 0.00000000e+00 0.00000000e+00\n",
      " 6.93889390e-18 0.00000000e+00 2.77555756e-17 0.00000000e+00\n",
      " 0.00000000e+00]\n"
     ]
    }
   ],
   "source": [
    "mean_tq2_marwo, dev_tq2_marwo = mean_dev(time_maria_woind_q2)\n",
    "print(mean_tq2_marwo, dev_tq2_marwo)"
   ]
  },
  {
   "cell_type": "code",
   "execution_count": 117,
   "id": "unauthorized-onion",
   "metadata": {},
   "outputs": [
    {
     "name": "stdout",
     "output_type": "stream",
     "text": [
      "[0.002331 0.001873 0.002131 0.004659 0.006377 0.021933 0.03442  0.178706\n",
      " 1.539617] [0. 0. 0. 0. 0. 0. 0. 0. 0.]\n"
     ]
    }
   ],
   "source": [
    "mean_tq3_marwo, dev_tq3_marwo = mean_dev(time_maria_woind_q3)\n",
    "print(mean_tq3_marwo, dev_tq3_marwo)"
   ]
  },
  {
   "cell_type": "code",
   "execution_count": 118,
   "id": "elder-fortune",
   "metadata": {},
   "outputs": [
    {
     "name": "stdout",
     "output_type": "stream",
     "text": [
      "[1.09830000e-02 1.22730000e-02 1.58510000e-02 5.09343000e-01\n",
      " 8.69416000e-01 3.65175900e+00 4.88013940e+01 3.61422220e+02\n",
      " 3.55011465e+03] [0.00000000e+00 0.00000000e+00 0.00000000e+00 0.00000000e+00\n",
      " 0.00000000e+00 0.00000000e+00 0.00000000e+00 0.00000000e+00\n",
      " 4.54747351e-13]\n"
     ]
    }
   ],
   "source": [
    "mean_tq4_marwo, dev_tq4_marwo = mean_dev(time_maria_woind_q4)\n",
    "print(mean_tq4_marwo, dev_tq4_marwo)"
   ]
  },
  {
   "cell_type": "markdown",
   "id": "outside-rabbit",
   "metadata": {},
   "source": [
    "#### **4. Mean and Standard Deviation for Mongodb**"
   ]
  },
  {
   "cell_type": "code",
   "execution_count": 119,
   "id": "violent-opposition",
   "metadata": {},
   "outputs": [
    {
     "name": "stdout",
     "output_type": "stream",
     "text": [
      "[0.00188  0.011152 0.013667 0.007534 0.003017 0.002637 0.009667 0.015387\n",
      " 0.014923] [0.00000000e+00 0.00000000e+00 0.00000000e+00 0.00000000e+00\n",
      " 0.00000000e+00 0.00000000e+00 0.00000000e+00 1.73472348e-18\n",
      " 1.73472348e-18]\n"
     ]
    }
   ],
   "source": [
    "mean_tq1_mon, dev_tq1_mon = mean_dev(time_mongo_q1)\n",
    "print(mean_tq1_mon, dev_tq1_mon)"
   ]
  },
  {
   "cell_type": "code",
   "execution_count": 120,
   "id": "colonial-charlotte",
   "metadata": {},
   "outputs": [
    {
     "name": "stdout",
     "output_type": "stream",
     "text": [
      "[5.002000e-03 4.111000e-03 3.882000e-03 9.643000e-03 1.548900e-02\n",
      " 5.661100e-02 7.358300e-02 6.104810e-01 8.235404e+00] [0. 0. 0. 0. 0. 0. 0. 0. 0.]\n"
     ]
    }
   ],
   "source": [
    "mean_tq2_mon, dev_tq2_mon = mean_dev(time_mongo_q2)\n",
    "print(mean_tq2_mon, dev_tq2_mon)"
   ]
  },
  {
   "cell_type": "code",
   "execution_count": 121,
   "id": "local-review",
   "metadata": {},
   "outputs": [
    {
     "name": "stdout",
     "output_type": "stream",
     "text": [
      "[5.518000e-03 1.032800e-02 3.473000e-03 8.393000e-03 1.654300e-02\n",
      " 5.174300e-02 8.173800e-02 5.198410e-01 4.160537e+00] [0. 0. 0. 0. 0. 0. 0. 0. 0.]\n"
     ]
    }
   ],
   "source": [
    "mean_tq3_mon, dev_tq3_mon = mean_dev(time_mongo_q3)\n",
    "print(mean_tq3_mon, dev_tq3_mon)"
   ]
  },
  {
   "cell_type": "code",
   "execution_count": 122,
   "id": "danish-tanzania",
   "metadata": {},
   "outputs": [
    {
     "name": "stdout",
     "output_type": "stream",
     "text": [
      "[0.023502 0.029408 0.019482 0.09086  0.110093 0.165954 1.240149 1.019666\n",
      " 0.85443 ] [0.00000000e+00 0.00000000e+00 0.00000000e+00 0.00000000e+00\n",
      " 1.38777878e-17 0.00000000e+00 0.00000000e+00 0.00000000e+00\n",
      " 1.11022302e-16]\n"
     ]
    }
   ],
   "source": [
    "mean_tq4_mon, dev_tq4_mon = mean_dev(time_mongo_q4)\n",
    "print(mean_tq4_mon, dev_tq4_mon)"
   ]
  },
  {
   "cell_type": "markdown",
   "id": "sized-allowance",
   "metadata": {},
   "source": [
    "#### **Final Tables of Mean and Standard Deviation**\n",
    "Here we will first find the means and standard deviations concatenation them for each database and then construct the final table."
   ]
  },
  {
   "cell_type": "code",
   "execution_count": 123,
   "id": "herbal-announcement",
   "metadata": {},
   "outputs": [],
   "source": [
    "mean_sql = np.array([mean_tq1_sql, mean_tq2_sql, mean_tq3_sql, mean_tq4_sql])\n",
    "std_sql =  np.array([dev_tq1_sql, dev_tq2_sql, dev_tq3_sql, dev_tq4_sql])\n",
    "#print(mean_sql, std_sql)"
   ]
  },
  {
   "cell_type": "code",
   "execution_count": 124,
   "id": "peaceful-chaos",
   "metadata": {},
   "outputs": [],
   "source": [
    "mean_maria = np.array([mean_tq1_mar, mean_tq2_mar, mean_tq3_mar, mean_tq4_mar])\n",
    "std_maria =  np.array([dev_tq1_mar, dev_tq2_mar, dev_tq3_mar, dev_tq4_mar])\n",
    "#print(mean_sql, std_sql)"
   ]
  },
  {
   "cell_type": "code",
   "execution_count": 125,
   "id": "minimal-farming",
   "metadata": {},
   "outputs": [],
   "source": [
    "mean_mariawin = np.array([mean_tq1_marwo, mean_tq2_marwo, mean_tq3_marwo, mean_tq4_marwo])\n",
    "std_mariawin =  np.array([dev_tq1_marwo, dev_tq2_marwo, dev_tq3_marwo, dev_tq4_marwo])\n",
    "#print(mean_sql, std_sql)"
   ]
  },
  {
   "cell_type": "code",
   "execution_count": 126,
   "id": "damaged-advice",
   "metadata": {},
   "outputs": [],
   "source": [
    "mean_mongo = np.array([mean_tq1_mon, mean_tq2_mon, mean_tq3_mon, mean_tq4_mon])\n",
    "std_mongo =  np.array([dev_tq1_mon, dev_tq2_mon, dev_tq3_mon, dev_tq4_mon])\n",
    "#print(mean_sql, std_sql)"
   ]
  },
  {
   "cell_type": "markdown",
   "id": "covered-husband",
   "metadata": {},
   "source": [
    "#### **Mean for all Databases**"
   ]
  },
  {
   "cell_type": "code",
   "execution_count": 127,
   "id": "developmental-chassis",
   "metadata": {},
   "outputs": [],
   "source": [
    "mean_final = pd.concat([pd.DataFrame(mean_sql), pd.DataFrame(mean_maria), pd.DataFrame(mean_mariawin), pd.DataFrame(mean_mongo)], keys = [\"Sqlite3\", \"Maria (With Index)\", \"Maria (Without Index)\", \"Mongodb\"])\n",
    "mean_final.columns = [\"db1\", \"db2\", \"db3\", \"db4\", \"db5\", \"db6\", \"db7\", \"db8\", \"db9\"]"
   ]
  },
  {
   "cell_type": "code",
   "execution_count": 128,
   "id": "accredited-cable",
   "metadata": {},
   "outputs": [
    {
     "data": {
      "text/html": [
       "<div>\n",
       "<style scoped>\n",
       "    .dataframe tbody tr th:only-of-type {\n",
       "        vertical-align: middle;\n",
       "    }\n",
       "\n",
       "    .dataframe tbody tr th {\n",
       "        vertical-align: top;\n",
       "    }\n",
       "\n",
       "    .dataframe thead th {\n",
       "        text-align: right;\n",
       "    }\n",
       "</style>\n",
       "<table border=\"1\" class=\"dataframe\">\n",
       "  <thead>\n",
       "    <tr style=\"text-align: right;\">\n",
       "      <th></th>\n",
       "      <th></th>\n",
       "      <th>db1</th>\n",
       "      <th>db2</th>\n",
       "      <th>db3</th>\n",
       "      <th>db4</th>\n",
       "      <th>db5</th>\n",
       "      <th>db6</th>\n",
       "      <th>db7</th>\n",
       "      <th>db8</th>\n",
       "      <th>db9</th>\n",
       "    </tr>\n",
       "  </thead>\n",
       "  <tbody>\n",
       "    <tr>\n",
       "      <th rowspan=\"4\" valign=\"top\">Sqlite3</th>\n",
       "      <th>0</th>\n",
       "      <td>0.000091</td>\n",
       "      <td>0.000090</td>\n",
       "      <td>0.000091</td>\n",
       "      <td>0.000093</td>\n",
       "      <td>0.000092</td>\n",
       "      <td>0.000092</td>\n",
       "      <td>0.000118</td>\n",
       "      <td>0.000097</td>\n",
       "      <td>0.000093</td>\n",
       "    </tr>\n",
       "    <tr>\n",
       "      <th>1</th>\n",
       "      <td>0.277535</td>\n",
       "      <td>0.000572</td>\n",
       "      <td>0.000653</td>\n",
       "      <td>0.003894</td>\n",
       "      <td>0.007423</td>\n",
       "      <td>0.037744</td>\n",
       "      <td>0.051270</td>\n",
       "      <td>0.404541</td>\n",
       "      <td>6.528475</td>\n",
       "    </tr>\n",
       "    <tr>\n",
       "      <th>2</th>\n",
       "      <td>0.000292</td>\n",
       "      <td>0.000264</td>\n",
       "      <td>0.000310</td>\n",
       "      <td>0.001508</td>\n",
       "      <td>0.002590</td>\n",
       "      <td>0.009439</td>\n",
       "      <td>0.016555</td>\n",
       "      <td>0.125105</td>\n",
       "      <td>4.013321</td>\n",
       "    </tr>\n",
       "    <tr>\n",
       "      <th>3</th>\n",
       "      <td>0.197479</td>\n",
       "      <td>0.000548</td>\n",
       "      <td>0.000794</td>\n",
       "      <td>0.004419</td>\n",
       "      <td>0.007777</td>\n",
       "      <td>0.033533</td>\n",
       "      <td>0.049307</td>\n",
       "      <td>0.348745</td>\n",
       "      <td>5.358090</td>\n",
       "    </tr>\n",
       "    <tr>\n",
       "      <th rowspan=\"4\" valign=\"top\">Maria (With Index)</th>\n",
       "      <th>0</th>\n",
       "      <td>0.000106</td>\n",
       "      <td>0.000103</td>\n",
       "      <td>0.000104</td>\n",
       "      <td>0.000104</td>\n",
       "      <td>0.000095</td>\n",
       "      <td>0.000105</td>\n",
       "      <td>0.000106</td>\n",
       "      <td>0.000109</td>\n",
       "      <td>0.000108</td>\n",
       "    </tr>\n",
       "    <tr>\n",
       "      <th>1</th>\n",
       "      <td>0.000117</td>\n",
       "      <td>0.000098</td>\n",
       "      <td>0.000116</td>\n",
       "      <td>0.000096</td>\n",
       "      <td>0.000098</td>\n",
       "      <td>0.000105</td>\n",
       "      <td>0.000100</td>\n",
       "      <td>0.000124</td>\n",
       "      <td>0.000099</td>\n",
       "    </tr>\n",
       "    <tr>\n",
       "      <th>2</th>\n",
       "      <td>0.000112</td>\n",
       "      <td>0.000107</td>\n",
       "      <td>0.000134</td>\n",
       "      <td>0.000124</td>\n",
       "      <td>0.000136</td>\n",
       "      <td>0.000130</td>\n",
       "      <td>0.000133</td>\n",
       "      <td>0.000117</td>\n",
       "      <td>0.000120</td>\n",
       "    </tr>\n",
       "    <tr>\n",
       "      <th>3</th>\n",
       "      <td>0.000117</td>\n",
       "      <td>0.000154</td>\n",
       "      <td>0.000182</td>\n",
       "      <td>0.000203</td>\n",
       "      <td>0.000176</td>\n",
       "      <td>0.000136</td>\n",
       "      <td>0.000116</td>\n",
       "      <td>0.000120</td>\n",
       "      <td>0.000116</td>\n",
       "    </tr>\n",
       "    <tr>\n",
       "      <th rowspan=\"4\" valign=\"top\">Maria (Without Index)</th>\n",
       "      <th>0</th>\n",
       "      <td>0.002268</td>\n",
       "      <td>0.002226</td>\n",
       "      <td>0.002207</td>\n",
       "      <td>0.003989</td>\n",
       "      <td>0.003344</td>\n",
       "      <td>0.002885</td>\n",
       "      <td>0.007639</td>\n",
       "      <td>0.007895</td>\n",
       "      <td>0.007029</td>\n",
       "    </tr>\n",
       "    <tr>\n",
       "      <th>1</th>\n",
       "      <td>0.027956</td>\n",
       "      <td>0.032778</td>\n",
       "      <td>0.011385</td>\n",
       "      <td>0.041610</td>\n",
       "      <td>0.056506</td>\n",
       "      <td>0.146909</td>\n",
       "      <td>0.203875</td>\n",
       "      <td>2.076538</td>\n",
       "      <td>182.446290</td>\n",
       "    </tr>\n",
       "    <tr>\n",
       "      <th>2</th>\n",
       "      <td>0.002331</td>\n",
       "      <td>0.001873</td>\n",
       "      <td>0.002131</td>\n",
       "      <td>0.004659</td>\n",
       "      <td>0.006377</td>\n",
       "      <td>0.021933</td>\n",
       "      <td>0.034420</td>\n",
       "      <td>0.178706</td>\n",
       "      <td>1.539617</td>\n",
       "    </tr>\n",
       "    <tr>\n",
       "      <th>3</th>\n",
       "      <td>0.010983</td>\n",
       "      <td>0.012273</td>\n",
       "      <td>0.015851</td>\n",
       "      <td>0.509343</td>\n",
       "      <td>0.869416</td>\n",
       "      <td>3.651759</td>\n",
       "      <td>48.801394</td>\n",
       "      <td>361.422220</td>\n",
       "      <td>3550.114653</td>\n",
       "    </tr>\n",
       "    <tr>\n",
       "      <th rowspan=\"4\" valign=\"top\">Mongodb</th>\n",
       "      <th>0</th>\n",
       "      <td>0.001880</td>\n",
       "      <td>0.011152</td>\n",
       "      <td>0.013667</td>\n",
       "      <td>0.007534</td>\n",
       "      <td>0.003017</td>\n",
       "      <td>0.002637</td>\n",
       "      <td>0.009667</td>\n",
       "      <td>0.015387</td>\n",
       "      <td>0.014923</td>\n",
       "    </tr>\n",
       "    <tr>\n",
       "      <th>1</th>\n",
       "      <td>0.005002</td>\n",
       "      <td>0.004111</td>\n",
       "      <td>0.003882</td>\n",
       "      <td>0.009643</td>\n",
       "      <td>0.015489</td>\n",
       "      <td>0.056611</td>\n",
       "      <td>0.073583</td>\n",
       "      <td>0.610481</td>\n",
       "      <td>8.235404</td>\n",
       "    </tr>\n",
       "    <tr>\n",
       "      <th>2</th>\n",
       "      <td>0.005518</td>\n",
       "      <td>0.010328</td>\n",
       "      <td>0.003473</td>\n",
       "      <td>0.008393</td>\n",
       "      <td>0.016543</td>\n",
       "      <td>0.051743</td>\n",
       "      <td>0.081738</td>\n",
       "      <td>0.519841</td>\n",
       "      <td>4.160537</td>\n",
       "    </tr>\n",
       "    <tr>\n",
       "      <th>3</th>\n",
       "      <td>0.023502</td>\n",
       "      <td>0.029408</td>\n",
       "      <td>0.019482</td>\n",
       "      <td>0.090860</td>\n",
       "      <td>0.110093</td>\n",
       "      <td>0.165954</td>\n",
       "      <td>1.240149</td>\n",
       "      <td>1.019666</td>\n",
       "      <td>0.854430</td>\n",
       "    </tr>\n",
       "  </tbody>\n",
       "</table>\n",
       "</div>"
      ],
      "text/plain": [
       "                              db1       db2       db3       db4       db5  \\\n",
       "Sqlite3               0  0.000091  0.000090  0.000091  0.000093  0.000092   \n",
       "                      1  0.277535  0.000572  0.000653  0.003894  0.007423   \n",
       "                      2  0.000292  0.000264  0.000310  0.001508  0.002590   \n",
       "                      3  0.197479  0.000548  0.000794  0.004419  0.007777   \n",
       "Maria (With Index)    0  0.000106  0.000103  0.000104  0.000104  0.000095   \n",
       "                      1  0.000117  0.000098  0.000116  0.000096  0.000098   \n",
       "                      2  0.000112  0.000107  0.000134  0.000124  0.000136   \n",
       "                      3  0.000117  0.000154  0.000182  0.000203  0.000176   \n",
       "Maria (Without Index) 0  0.002268  0.002226  0.002207  0.003989  0.003344   \n",
       "                      1  0.027956  0.032778  0.011385  0.041610  0.056506   \n",
       "                      2  0.002331  0.001873  0.002131  0.004659  0.006377   \n",
       "                      3  0.010983  0.012273  0.015851  0.509343  0.869416   \n",
       "Mongodb               0  0.001880  0.011152  0.013667  0.007534  0.003017   \n",
       "                      1  0.005002  0.004111  0.003882  0.009643  0.015489   \n",
       "                      2  0.005518  0.010328  0.003473  0.008393  0.016543   \n",
       "                      3  0.023502  0.029408  0.019482  0.090860  0.110093   \n",
       "\n",
       "                              db6        db7         db8          db9  \n",
       "Sqlite3               0  0.000092   0.000118    0.000097     0.000093  \n",
       "                      1  0.037744   0.051270    0.404541     6.528475  \n",
       "                      2  0.009439   0.016555    0.125105     4.013321  \n",
       "                      3  0.033533   0.049307    0.348745     5.358090  \n",
       "Maria (With Index)    0  0.000105   0.000106    0.000109     0.000108  \n",
       "                      1  0.000105   0.000100    0.000124     0.000099  \n",
       "                      2  0.000130   0.000133    0.000117     0.000120  \n",
       "                      3  0.000136   0.000116    0.000120     0.000116  \n",
       "Maria (Without Index) 0  0.002885   0.007639    0.007895     0.007029  \n",
       "                      1  0.146909   0.203875    2.076538   182.446290  \n",
       "                      2  0.021933   0.034420    0.178706     1.539617  \n",
       "                      3  3.651759  48.801394  361.422220  3550.114653  \n",
       "Mongodb               0  0.002637   0.009667    0.015387     0.014923  \n",
       "                      1  0.056611   0.073583    0.610481     8.235404  \n",
       "                      2  0.051743   0.081738    0.519841     4.160537  \n",
       "                      3  0.165954   1.240149    1.019666     0.854430  "
      ]
     },
     "execution_count": 128,
     "metadata": {},
     "output_type": "execute_result"
    }
   ],
   "source": [
    "mean_final"
   ]
  },
  {
   "cell_type": "markdown",
   "id": "referenced-final",
   "metadata": {},
   "source": [
    "#### **Standard Deviation for all Databases**"
   ]
  },
  {
   "cell_type": "code",
   "execution_count": 129,
   "id": "creative-problem",
   "metadata": {},
   "outputs": [
    {
     "data": {
      "text/html": [
       "<div>\n",
       "<style scoped>\n",
       "    .dataframe tbody tr th:only-of-type {\n",
       "        vertical-align: middle;\n",
       "    }\n",
       "\n",
       "    .dataframe tbody tr th {\n",
       "        vertical-align: top;\n",
       "    }\n",
       "\n",
       "    .dataframe thead th {\n",
       "        text-align: right;\n",
       "    }\n",
       "</style>\n",
       "<table border=\"1\" class=\"dataframe\">\n",
       "  <thead>\n",
       "    <tr style=\"text-align: right;\">\n",
       "      <th></th>\n",
       "      <th></th>\n",
       "      <th>db1</th>\n",
       "      <th>db2</th>\n",
       "      <th>db3</th>\n",
       "      <th>db4</th>\n",
       "      <th>db5</th>\n",
       "      <th>db6</th>\n",
       "      <th>db7</th>\n",
       "      <th>db8</th>\n",
       "      <th>db9</th>\n",
       "    </tr>\n",
       "  </thead>\n",
       "  <tbody>\n",
       "    <tr>\n",
       "      <th rowspan=\"4\" valign=\"top\">Sqlite3</th>\n",
       "      <th>0</th>\n",
       "      <td>0.0</td>\n",
       "      <td>0.000000e+00</td>\n",
       "      <td>0.000000e+00</td>\n",
       "      <td>0.000000e+00</td>\n",
       "      <td>0.000000e+00</td>\n",
       "      <td>0.000000e+00</td>\n",
       "      <td>1.355253e-20</td>\n",
       "      <td>0.000000e+00</td>\n",
       "      <td>0.000000e+00</td>\n",
       "    </tr>\n",
       "    <tr>\n",
       "      <th>1</th>\n",
       "      <td>0.0</td>\n",
       "      <td>0.000000e+00</td>\n",
       "      <td>0.000000e+00</td>\n",
       "      <td>4.336809e-19</td>\n",
       "      <td>0.000000e+00</td>\n",
       "      <td>0.000000e+00</td>\n",
       "      <td>0.000000e+00</td>\n",
       "      <td>5.551115e-17</td>\n",
       "      <td>0.000000e+00</td>\n",
       "    </tr>\n",
       "    <tr>\n",
       "      <th>2</th>\n",
       "      <td>0.0</td>\n",
       "      <td>0.000000e+00</td>\n",
       "      <td>0.000000e+00</td>\n",
       "      <td>0.000000e+00</td>\n",
       "      <td>0.000000e+00</td>\n",
       "      <td>0.000000e+00</td>\n",
       "      <td>0.000000e+00</td>\n",
       "      <td>0.000000e+00</td>\n",
       "      <td>0.000000e+00</td>\n",
       "    </tr>\n",
       "    <tr>\n",
       "      <th>3</th>\n",
       "      <td>0.0</td>\n",
       "      <td>0.000000e+00</td>\n",
       "      <td>1.084202e-19</td>\n",
       "      <td>0.000000e+00</td>\n",
       "      <td>0.000000e+00</td>\n",
       "      <td>0.000000e+00</td>\n",
       "      <td>0.000000e+00</td>\n",
       "      <td>0.000000e+00</td>\n",
       "      <td>0.000000e+00</td>\n",
       "    </tr>\n",
       "    <tr>\n",
       "      <th rowspan=\"4\" valign=\"top\">Maria (With Index)</th>\n",
       "      <th>0</th>\n",
       "      <td>0.0</td>\n",
       "      <td>1.355253e-20</td>\n",
       "      <td>0.000000e+00</td>\n",
       "      <td>0.000000e+00</td>\n",
       "      <td>0.000000e+00</td>\n",
       "      <td>1.355253e-20</td>\n",
       "      <td>0.000000e+00</td>\n",
       "      <td>0.000000e+00</td>\n",
       "      <td>1.355253e-20</td>\n",
       "    </tr>\n",
       "    <tr>\n",
       "      <th>1</th>\n",
       "      <td>0.0</td>\n",
       "      <td>0.000000e+00</td>\n",
       "      <td>1.355253e-20</td>\n",
       "      <td>0.000000e+00</td>\n",
       "      <td>0.000000e+00</td>\n",
       "      <td>1.355253e-20</td>\n",
       "      <td>0.000000e+00</td>\n",
       "      <td>0.000000e+00</td>\n",
       "      <td>0.000000e+00</td>\n",
       "    </tr>\n",
       "    <tr>\n",
       "      <th>2</th>\n",
       "      <td>0.0</td>\n",
       "      <td>1.355253e-20</td>\n",
       "      <td>0.000000e+00</td>\n",
       "      <td>0.000000e+00</td>\n",
       "      <td>0.000000e+00</td>\n",
       "      <td>0.000000e+00</td>\n",
       "      <td>0.000000e+00</td>\n",
       "      <td>0.000000e+00</td>\n",
       "      <td>0.000000e+00</td>\n",
       "    </tr>\n",
       "    <tr>\n",
       "      <th>3</th>\n",
       "      <td>0.0</td>\n",
       "      <td>0.000000e+00</td>\n",
       "      <td>0.000000e+00</td>\n",
       "      <td>0.000000e+00</td>\n",
       "      <td>0.000000e+00</td>\n",
       "      <td>0.000000e+00</td>\n",
       "      <td>1.355253e-20</td>\n",
       "      <td>0.000000e+00</td>\n",
       "      <td>1.355253e-20</td>\n",
       "    </tr>\n",
       "    <tr>\n",
       "      <th rowspan=\"4\" valign=\"top\">Maria (Without Index)</th>\n",
       "      <th>0</th>\n",
       "      <td>0.0</td>\n",
       "      <td>0.000000e+00</td>\n",
       "      <td>0.000000e+00</td>\n",
       "      <td>0.000000e+00</td>\n",
       "      <td>0.000000e+00</td>\n",
       "      <td>0.000000e+00</td>\n",
       "      <td>0.000000e+00</td>\n",
       "      <td>0.000000e+00</td>\n",
       "      <td>0.000000e+00</td>\n",
       "    </tr>\n",
       "    <tr>\n",
       "      <th>1</th>\n",
       "      <td>0.0</td>\n",
       "      <td>0.000000e+00</td>\n",
       "      <td>0.000000e+00</td>\n",
       "      <td>0.000000e+00</td>\n",
       "      <td>6.938894e-18</td>\n",
       "      <td>0.000000e+00</td>\n",
       "      <td>2.775558e-17</td>\n",
       "      <td>0.000000e+00</td>\n",
       "      <td>0.000000e+00</td>\n",
       "    </tr>\n",
       "    <tr>\n",
       "      <th>2</th>\n",
       "      <td>0.0</td>\n",
       "      <td>0.000000e+00</td>\n",
       "      <td>0.000000e+00</td>\n",
       "      <td>0.000000e+00</td>\n",
       "      <td>0.000000e+00</td>\n",
       "      <td>0.000000e+00</td>\n",
       "      <td>0.000000e+00</td>\n",
       "      <td>0.000000e+00</td>\n",
       "      <td>0.000000e+00</td>\n",
       "    </tr>\n",
       "    <tr>\n",
       "      <th>3</th>\n",
       "      <td>0.0</td>\n",
       "      <td>0.000000e+00</td>\n",
       "      <td>0.000000e+00</td>\n",
       "      <td>0.000000e+00</td>\n",
       "      <td>0.000000e+00</td>\n",
       "      <td>0.000000e+00</td>\n",
       "      <td>0.000000e+00</td>\n",
       "      <td>0.000000e+00</td>\n",
       "      <td>4.547474e-13</td>\n",
       "    </tr>\n",
       "    <tr>\n",
       "      <th rowspan=\"4\" valign=\"top\">Mongodb</th>\n",
       "      <th>0</th>\n",
       "      <td>0.0</td>\n",
       "      <td>0.000000e+00</td>\n",
       "      <td>0.000000e+00</td>\n",
       "      <td>0.000000e+00</td>\n",
       "      <td>0.000000e+00</td>\n",
       "      <td>0.000000e+00</td>\n",
       "      <td>0.000000e+00</td>\n",
       "      <td>1.734723e-18</td>\n",
       "      <td>1.734723e-18</td>\n",
       "    </tr>\n",
       "    <tr>\n",
       "      <th>1</th>\n",
       "      <td>0.0</td>\n",
       "      <td>0.000000e+00</td>\n",
       "      <td>0.000000e+00</td>\n",
       "      <td>0.000000e+00</td>\n",
       "      <td>0.000000e+00</td>\n",
       "      <td>0.000000e+00</td>\n",
       "      <td>0.000000e+00</td>\n",
       "      <td>0.000000e+00</td>\n",
       "      <td>0.000000e+00</td>\n",
       "    </tr>\n",
       "    <tr>\n",
       "      <th>2</th>\n",
       "      <td>0.0</td>\n",
       "      <td>0.000000e+00</td>\n",
       "      <td>0.000000e+00</td>\n",
       "      <td>0.000000e+00</td>\n",
       "      <td>0.000000e+00</td>\n",
       "      <td>0.000000e+00</td>\n",
       "      <td>0.000000e+00</td>\n",
       "      <td>0.000000e+00</td>\n",
       "      <td>0.000000e+00</td>\n",
       "    </tr>\n",
       "    <tr>\n",
       "      <th>3</th>\n",
       "      <td>0.0</td>\n",
       "      <td>0.000000e+00</td>\n",
       "      <td>0.000000e+00</td>\n",
       "      <td>0.000000e+00</td>\n",
       "      <td>1.387779e-17</td>\n",
       "      <td>0.000000e+00</td>\n",
       "      <td>0.000000e+00</td>\n",
       "      <td>0.000000e+00</td>\n",
       "      <td>1.110223e-16</td>\n",
       "    </tr>\n",
       "  </tbody>\n",
       "</table>\n",
       "</div>"
      ],
      "text/plain": [
       "                         db1           db2           db3           db4  \\\n",
       "Sqlite3               0  0.0  0.000000e+00  0.000000e+00  0.000000e+00   \n",
       "                      1  0.0  0.000000e+00  0.000000e+00  4.336809e-19   \n",
       "                      2  0.0  0.000000e+00  0.000000e+00  0.000000e+00   \n",
       "                      3  0.0  0.000000e+00  1.084202e-19  0.000000e+00   \n",
       "Maria (With Index)    0  0.0  1.355253e-20  0.000000e+00  0.000000e+00   \n",
       "                      1  0.0  0.000000e+00  1.355253e-20  0.000000e+00   \n",
       "                      2  0.0  1.355253e-20  0.000000e+00  0.000000e+00   \n",
       "                      3  0.0  0.000000e+00  0.000000e+00  0.000000e+00   \n",
       "Maria (Without Index) 0  0.0  0.000000e+00  0.000000e+00  0.000000e+00   \n",
       "                      1  0.0  0.000000e+00  0.000000e+00  0.000000e+00   \n",
       "                      2  0.0  0.000000e+00  0.000000e+00  0.000000e+00   \n",
       "                      3  0.0  0.000000e+00  0.000000e+00  0.000000e+00   \n",
       "Mongodb               0  0.0  0.000000e+00  0.000000e+00  0.000000e+00   \n",
       "                      1  0.0  0.000000e+00  0.000000e+00  0.000000e+00   \n",
       "                      2  0.0  0.000000e+00  0.000000e+00  0.000000e+00   \n",
       "                      3  0.0  0.000000e+00  0.000000e+00  0.000000e+00   \n",
       "\n",
       "                                  db5           db6           db7  \\\n",
       "Sqlite3               0  0.000000e+00  0.000000e+00  1.355253e-20   \n",
       "                      1  0.000000e+00  0.000000e+00  0.000000e+00   \n",
       "                      2  0.000000e+00  0.000000e+00  0.000000e+00   \n",
       "                      3  0.000000e+00  0.000000e+00  0.000000e+00   \n",
       "Maria (With Index)    0  0.000000e+00  1.355253e-20  0.000000e+00   \n",
       "                      1  0.000000e+00  1.355253e-20  0.000000e+00   \n",
       "                      2  0.000000e+00  0.000000e+00  0.000000e+00   \n",
       "                      3  0.000000e+00  0.000000e+00  1.355253e-20   \n",
       "Maria (Without Index) 0  0.000000e+00  0.000000e+00  0.000000e+00   \n",
       "                      1  6.938894e-18  0.000000e+00  2.775558e-17   \n",
       "                      2  0.000000e+00  0.000000e+00  0.000000e+00   \n",
       "                      3  0.000000e+00  0.000000e+00  0.000000e+00   \n",
       "Mongodb               0  0.000000e+00  0.000000e+00  0.000000e+00   \n",
       "                      1  0.000000e+00  0.000000e+00  0.000000e+00   \n",
       "                      2  0.000000e+00  0.000000e+00  0.000000e+00   \n",
       "                      3  1.387779e-17  0.000000e+00  0.000000e+00   \n",
       "\n",
       "                                  db8           db9  \n",
       "Sqlite3               0  0.000000e+00  0.000000e+00  \n",
       "                      1  5.551115e-17  0.000000e+00  \n",
       "                      2  0.000000e+00  0.000000e+00  \n",
       "                      3  0.000000e+00  0.000000e+00  \n",
       "Maria (With Index)    0  0.000000e+00  1.355253e-20  \n",
       "                      1  0.000000e+00  0.000000e+00  \n",
       "                      2  0.000000e+00  0.000000e+00  \n",
       "                      3  0.000000e+00  1.355253e-20  \n",
       "Maria (Without Index) 0  0.000000e+00  0.000000e+00  \n",
       "                      1  0.000000e+00  0.000000e+00  \n",
       "                      2  0.000000e+00  0.000000e+00  \n",
       "                      3  0.000000e+00  4.547474e-13  \n",
       "Mongodb               0  1.734723e-18  1.734723e-18  \n",
       "                      1  0.000000e+00  0.000000e+00  \n",
       "                      2  0.000000e+00  0.000000e+00  \n",
       "                      3  0.000000e+00  1.110223e-16  "
      ]
     },
     "execution_count": 129,
     "metadata": {},
     "output_type": "execute_result"
    }
   ],
   "source": [
    "std_final = pd.concat([pd.DataFrame(std_sql), pd.DataFrame(std_maria), pd.DataFrame(std_mariawin), pd.DataFrame(std_mongo)], keys = [\"Sqlite3\", \"Maria (With Index)\", \"Maria (Without Index)\", \"Mongodb\"])\n",
    "std_final.columns = [\"db1\", \"db2\", \"db3\", \"db4\", \"db5\", \"db6\", \"db7\", \"db8\", \"db9\"]\n",
    "std_final"
   ]
  },
  {
   "cell_type": "markdown",
   "id": "danish-values",
   "metadata": {},
   "source": [
    "## **Part 3 - Running all the graphs**"
   ]
  },
  {
   "cell_type": "code",
   "execution_count": 130,
   "id": "later-cartoon",
   "metadata": {},
   "outputs": [
    {
     "data": {
      "text/plain": [
       "<Figure size 432x288 with 0 Axes>"
      ]
     },
     "metadata": {},
     "output_type": "display_data"
    },
    {
     "data": {
      "image/png": "[encoded data removed]",
      "text/plain": [
       "<Figure size 432x288 with 1 Axes>"
      ]
     },
     "metadata": {
      "needs_background": "light"
     },
     "output_type": "display_data"
    }
   ],
   "source": [
    "plt.figure()\n",
    "#x = [\"db1\", \"db2\", \"db3\", \"db4\", \"db5\", \"db6\", \"db7\", \"db8\", \"db9\"]\n",
    "l = [\"Query1\", \"Query2\", \"Query3\", \"Query4\"]\n",
    "pd.DataFrame(mean_sql).T.plot()\n",
    "plt.title(\"Time vs Database of Sqlite\", fontsize = 16)\n",
    "plt.xlabel(\"Database\", fontsize = 12)\n",
    "plt.ylabel(\"Time (s)\", fontsize = 12)\n",
    "plt.legend(l)\n",
    "#plt.xticks(x)\n",
    "plt.savefig('./plots/sqlite.png')"
   ]
  },
  {
   "cell_type": "markdown",
   "id": "latin-publisher",
   "metadata": {},
   "source": [
    "**Findings:** You can see for the sqlite, the larger databases show a bit deviation but the values are not too high i.e. only a few seconds even for the largest of the queries."
   ]
  },
  {
   "cell_type": "code",
   "execution_count": 131,
   "id": "sticky-venue",
   "metadata": {},
   "outputs": [
    {
     "data": {
      "text/plain": [
       "<Figure size 432x288 with 0 Axes>"
      ]
     },
     "metadata": {},
     "output_type": "display_data"
    },
    {
     "data": {
      "image/png": "[encoded data removed]",
      "text/plain": [
       "<Figure size 432x288 with 1 Axes>"
      ]
     },
     "metadata": {
      "needs_background": "light"
     },
     "output_type": "display_data"
    }
   ],
   "source": [
    "plt.figure()\n",
    "#x = [\"db1\", \"db2\", \"db3\", \"db4\", \"db5\", \"db6\", \"db7\", \"db8\", \"db9\"]\n",
    "l = [\"Query1\", \"Query2\", \"Query3\", \"Query4\"]\n",
    "pd.DataFrame(mean_maria).T.plot()\n",
    "plt.title(\"Time vs Database of Maria With Indexing\", fontsize = 16)\n",
    "plt.xlabel(\"Database\", fontsize = 12)\n",
    "plt.ylabel(\"Time (s)\", fontsize = 12)\n",
    "plt.legend(l)\n",
    "#plt.xticks(x)\n",
    "plt.savefig('./plots/mariaind.png')"
   ]
  },
  {
   "cell_type": "markdown",
   "id": "analyzed-teacher",
   "metadata": {},
   "source": [
    "**Findings:** The graph may seem a bit wavy, but on looking at times corresponding to it, we see that even the highest value is too small. So this is a very economical database manager. Also we see the importance and advantage of proper indexing."
   ]
  },
  {
   "cell_type": "code",
   "execution_count": 132,
   "id": "chinese-classification",
   "metadata": {},
   "outputs": [
    {
     "data": {
      "text/plain": [
       "<Figure size 432x288 with 0 Axes>"
      ]
     },
     "metadata": {},
     "output_type": "display_data"
    },
    {
     "data": {
      "image/png": "[encoded data removed]",
      "text/plain": [
       "<Figure size 432x288 with 1 Axes>"
      ]
     },
     "metadata": {
      "needs_background": "light"
     },
     "output_type": "display_data"
    }
   ],
   "source": [
    "plt.figure()\n",
    "#x = [\"db1\", \"db2\", \"db3\", \"db4\", \"db5\", \"db6\", \"db7\", \"db8\", \"db9\"]\n",
    "l = [\"Query1\", \"Query2\", \"Query3\", \"Query4\"]\n",
    "pd.DataFrame(mean_mariawin).T.plot()\n",
    "plt.title(\"Time vs Database of Maria Without Index\", fontsize = 16)\n",
    "plt.xlabel(\"Database\", fontsize = 12)\n",
    "plt.ylabel(\"Time (s)\", fontsize = 12)\n",
    "plt.legend(l)\n",
    "#plt.xticks(x)\n",
    "plt.savefig('./plots/mariawin.png')"
   ]
  },
  {
   "cell_type": "markdown",
   "id": "timely-victoria",
   "metadata": {},
   "source": [
    "**Findings:** This is the one that has the last query shoot up. The last query has exceptionally high time of querying. For smaller databases we can see as in other there is not much difference but larger databases show huge difference on 4th query."
   ]
  },
  {
   "cell_type": "code",
   "execution_count": 133,
   "id": "necessary-depth",
   "metadata": {},
   "outputs": [
    {
     "data": {
      "text/plain": [
       "<Figure size 432x288 with 0 Axes>"
      ]
     },
     "metadata": {},
     "output_type": "display_data"
    },
    {
     "data": {
      "image/png": "[encoded data removed]",
      "text/plain": [
       "<Figure size 432x288 with 1 Axes>"
      ]
     },
     "metadata": {
      "needs_background": "light"
     },
     "output_type": "display_data"
    }
   ],
   "source": [
    "plt.figure()\n",
    "#x = [\"db1\", \"db2\", \"db3\", \"db4\", \"db5\", \"db6\", \"db7\", \"db8\", \"db9\"]\n",
    "l = [\"Query1\", \"Query2\", \"Query3\", \"Query4\"]\n",
    "pd.DataFrame(mean_mongo).T.plot()\n",
    "plt.title(\"Time vs Database of Mongo\", fontsize = 16)\n",
    "plt.xlabel(\"Database\", fontsize = 12)\n",
    "plt.ylabel(\"Time (s)\", fontsize = 12)\n",
    "plt.legend(l)\n",
    "#plt.xticks(x)\n",
    "plt.savefig('./plots/mnogo.png')"
   ]
  },
  {
   "cell_type": "markdown",
   "id": "stylish-vietnamese",
   "metadata": {},
   "source": [
    "**Findings:** Here we see the second query shoot up a bit more than the 4th. The difference is a few seconds. Thus we see here sorting takes longer than grouping."
   ]
  },
  {
   "cell_type": "code",
   "execution_count": 134,
   "id": "pharmaceutical-legislature",
   "metadata": {},
   "outputs": [
    {
     "data": {
      "text/plain": [
       "<Figure size 432x288 with 0 Axes>"
      ]
     },
     "metadata": {},
     "output_type": "display_data"
    },
    {
     "data": {
      "image/png": "[encoded data removed]",
      "text/plain": [
       "<Figure size 432x288 with 1 Axes>"
      ]
     },
     "metadata": {
      "needs_background": "light"
     },
     "output_type": "display_data"
    }
   ],
   "source": [
    "q1 = pd.DataFrame(np.array([mean_tq1_sql, mean_tq1_mar, mean_tq1_marwo, mean_tq1_mon]))\n",
    "plt.figure()\n",
    "#print(q1)\n",
    "#x = [\"db1\", \"db2\", \"db3\", \"db4\", \"db5\", \"db6\", \"db7\", \"db8\", \"db9\"]\n",
    "l = [\"SQLite\", \"Maria Index\", \"Maria Without Index\", \"Mongodb\"]\n",
    "q1.T.plot()\n",
    "plt.title(\"Time vs Database of Query1\", fontsize = 16)\n",
    "plt.xlabel(\"Database\", fontsize = 12)\n",
    "plt.ylabel(\"Time (s)\", fontsize = 12)\n",
    "plt.legend(l)\n",
    "#plt.xticks(x)\n",
    "plt.savefig('./plots/q1.png')"
   ]
  },
  {
   "cell_type": "markdown",
   "id": "exclusive-edition",
   "metadata": {},
   "source": [
    "**Findings :** As you can see, the maria indexed and sql graph almost overlap and behave similarly. For the other two as well the highest value attained is 0.016 which is not very high. This is because of the nature of this query finding only first 50 elements. "
   ]
  },
  {
   "cell_type": "code",
   "execution_count": 135,
   "id": "bottom-reverse",
   "metadata": {},
   "outputs": [
    {
     "data": {
      "text/plain": [
       "<Figure size 432x288 with 0 Axes>"
      ]
     },
     "metadata": {},
     "output_type": "display_data"
    },
    {
     "data": {
      "image/png": "[encoded data removed]",
      "text/plain": [
       "<Figure size 432x288 with 1 Axes>"
      ]
     },
     "metadata": {
      "needs_background": "light"
     },
     "output_type": "display_data"
    }
   ],
   "source": [
    "q2 = pd.DataFrame(np.array([mean_tq2_sql, mean_tq2_mar, mean_tq2_marwo, mean_tq2_mon]))\n",
    "plt.figure()\n",
    "#x = [\"db1\", \"db2\", \"db3\", \"db4\", \"db5\", \"db6\", \"db7\", \"db8\", \"db9\"]\n",
    "l = [\"SQLite\", \"Maria Index\", \"Maria Without Index\", \"Mongodb\"]\n",
    "q2.T.plot()\n",
    "plt.title(\"Time vs Database of Query2\", fontsize = 16)\n",
    "plt.xlabel(\"Database\", fontsize = 12)\n",
    "plt.ylabel(\"Time (s)\", fontsize = 12)\n",
    "plt.legend(l)\n",
    "#plt.xticks(x)\n",
    "plt.savefig('./plots/q2.png')"
   ]
  },
  {
   "cell_type": "markdown",
   "id": "political-calibration",
   "metadata": {},
   "source": [
    "**Findings:** Here, you can see high values for the Mariadb without index database. It has exceptionally high value. While mongo is also higher than the other two. All these differences are seen for larger databases."
   ]
  },
  {
   "cell_type": "code",
   "execution_count": 136,
   "id": "loaded-indonesian",
   "metadata": {},
   "outputs": [
    {
     "data": {
      "text/plain": [
       "<Figure size 432x288 with 0 Axes>"
      ]
     },
     "metadata": {},
     "output_type": "display_data"
    },
    {
     "data": {
      "image/png": "[encoded data removed]",
      "text/plain": [
       "<Figure size 432x288 with 1 Axes>"
      ]
     },
     "metadata": {
      "needs_background": "light"
     },
     "output_type": "display_data"
    }
   ],
   "source": [
    "q3 = pd.DataFrame(np.array([mean_tq3_sql, mean_tq3_mar, mean_tq3_marwo, mean_tq3_mon]))\n",
    "plt.figure()\n",
    "#x = [\"db1\", \"db2\", \"db3\", \"db4\", \"db5\", \"db6\", \"db7\", \"db8\", \"db9\"]\n",
    "l = [\"SQLite\", \"Maria Index\", \"Maria Without Index\", \"Mongodb\"]\n",
    "q3.T.plot()\n",
    "plt.title(\"Time vs Database of Query3\", fontsize = 16)\n",
    "plt.xlabel(\"Database\", fontsize = 12)\n",
    "plt.ylabel(\"Time (s)\", fontsize = 12)\n",
    "plt.legend(l)\n",
    "#plt.xticks(x)\n",
    "plt.savefig('./plots/q3.png')"
   ]
  },
  {
   "cell_type": "markdown",
   "id": "outside-lebanon",
   "metadata": {},
   "source": [
    "**Findings:** Here, we see mongodb having very high values and surprisingly sqlite also on a bit higher note. But we see that there is not a huge difference in time, only a few seconds and that too for larger databases."
   ]
  },
  {
   "cell_type": "code",
   "execution_count": 137,
   "id": "computational-springer",
   "metadata": {},
   "outputs": [
    {
     "data": {
      "text/plain": [
       "<Figure size 432x288 with 0 Axes>"
      ]
     },
     "metadata": {},
     "output_type": "display_data"
    },
    {
     "data": {
      "image/png": "[encoded data removed]",
      "text/plain": [
       "<Figure size 432x288 with 1 Axes>"
      ]
     },
     "metadata": {
      "needs_background": "light"
     },
     "output_type": "display_data"
    }
   ],
   "source": [
    "q4 = pd.DataFrame(np.array([mean_tq4_sql, mean_tq4_mar, mean_tq4_marwo, mean_tq4_mon]))\n",
    "plt.figure()\n",
    "#x = [\"db1\", \"db2\", \"db3\", \"db4\", \"db5\", \"db6\", \"db7\", \"db8\", \"db9\"]\n",
    "l = [\"SQLite\", \"Maria Index\", \"Maria Without Index\", \"Mongodb\"]\n",
    "q4.T.plot()\n",
    "plt.title(\"Time vs Database of Query4\", fontsize = 16)\n",
    "plt.xlabel(\"Database\", fontsize = 12)\n",
    "plt.ylabel(\"Time (s)\", fontsize = 12)\n",
    "plt.legend(l)\n",
    "#plt.xticks(x)\n",
    "plt.savefig('./plots/q4.png')"
   ]
  },
  {
   "cell_type": "markdown",
   "id": "dangerous-counter",
   "metadata": {},
   "source": [
    "**Findings:** Again the mariadb without index shoots up this time for the larger databases. The other three seem nearly meagre in front of that."
   ]
  },
  {
   "cell_type": "markdown",
   "id": "silent-miller",
   "metadata": {},
   "source": [
    "## **Part 4. System Specifications and Findings**\n",
    "### **System Specifications**\n",
    "\n",
    "- **Operating System** : Ubuntu 18.04.5 LTS\n",
    "- **Memory** : 7.6 GiB\n",
    "- **Processor** : Intel® Core™ i5-7200U CPU @ 2.50GHz × 4\n",
    "- **Graphics** : Intel® HD Graphics 620 (KBL GT2)\n",
    "- **GNOME** : 3.28.2\n",
    "- **OS-type** : 64-bit\n",
    "- **Disk** : 154.0 GB\n",
    "\n",
    "### **Findings**\n",
    "- **Small Databases:**  We found that for the small sized databases, all the different DBMS languages give similar results. \n",
    "- **Large Databases:** We saw a staggering difference in 2nd and 4th queries in large databases. Systems like Mariadb with insdex and SQL were much faster while Mariadb without indexing and Mongodb were much slower. This gave the importance of indexing in a databases and the advantages of a relational database.\n",
    "- **SQLite:** There was not much variation in time for all databases. It took seconds for even the largest of database and largest of queries.\n",
    "- **Mariadb:** This was the interesting case. With indexing the performance was much similar to SQLite and variations in time was few seconds only. But without indexing, the larger queries took a lot of time. When we were printing as well, the took hours to execute (probably half hr to 1 hour for the largest query on largest database.)\n",
    "- **Mongodb:** This too took a bit longer than the SQLite but lesser than the Mariadb without indexing. But still the times were aceptable. Here sorting took longer than grouping operation. It is a non relational database. \n",
    "- **Printing:** The experiments were done thre ways:\n",
    "    - Only query - While we executed and noted time of querying, it was quite less for all the databases and queries. But we see that when we type a command on shell, the shell after querying returns and prints the data as well. So I tried those too.\n",
    "    - Printing - While printing the data, it took hours to perform the queries for the Mariadb without index and Mongodb database. \n",
    "    - Fetching but not printing - Finally, if I fetched data and not printed, it gave a bit different results. Intermediate between the above two.\n",
    "- **Grouping and Sorting:** These were the two queries that took longer time as compared to others and which showed variation as we came to larger databases. We saw that in the maridb without index version the grouping took enormous time while in the non relational mongodb the sorting query took longest as comapred to other for the larger databases.\n",
    "\n",
    "#### **Conclusion**\n",
    "We therefore conclude that the runtime of a query varies with a lot of factors that may be the query itself (where its a liner search, or sorting, or grouping etc), the DBMS you use (maybe mongo or sqlite or maria), indexing (see the difference of indexing and non indexing in maria), printing (whether you print a query or not, printing takes a huge amount of time), relational/non relational database. So depending on your requirements, whethere you want fast implementation or you want non relational database etc etc, analysing your requirements only you should decide which system to use as each has its own advantages and disadvantages."
   ]
  },
  {
   "cell_type": "markdown",
   "id": "interesting-connection",
   "metadata": {},
   "source": [
    "## **Part 5. Readme**\n",
    "The 4 notebooks in the 4 folders have all the scripts for data loading, database creation, and querying. All the notebooks are described. Please note to take care of making required changess while establishing connection with the database and make sure you specify the path correctly while loading files. <br>\n",
    "While querying, if you want tot print the data as well (it will take a lot longer in that case), then in the run_query function, then add additional statement 'print(x)' after 'x = c.fetchall()'. <br>\n",
    "While loading data was put in each of the 4 folders, so either do that or change the path accordingly. <br>\n",
    "The graphs, tables, and their codes have been included in this notebook. Also the notebook saves the graphs generated in a separate folder plots as well for future reference. <br>\n",
    "The 4 notebooks also save the times generated for each query run 7 times in all 9 databases in the csv files 't1.csv', 't2.csv', 't3.csv', 't4.csv' (which correspong to query 1, query 2 and so on) in the corresponding folders. These csv files have been then loaded into this notebook to do further processing."
   ]
  },
  {
   "cell_type": "code",
   "execution_count": null,
   "id": "celtic-colleague",
   "metadata": {},
   "outputs": [],
   "source": []
  }
 ],
 "metadata": {
  "kernelspec": {
   "display_name": "Python 3",
   "language": "python",
   "name": "python3"
  },
  "language_info": {
   "codemirror_mode": {
    "name": "ipython",
    "version": 3
   },
   "file_extension": ".py",
   "mimetype": "text/x-python",
   "name": "python",
   "nbconvert_exporter": "python",
   "pygments_lexer": "ipython3",
   "version": "3.6.9"
  }
 },
 "nbformat": 4,
 "nbformat_minor": 5
}
