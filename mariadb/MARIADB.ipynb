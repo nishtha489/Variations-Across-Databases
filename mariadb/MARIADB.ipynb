{
 "cells": [
  {
   "cell_type": "markdown",
   "id": "answering-trout",
   "metadata": {},
   "source": [
    "## <center>**MARIADB Databases : Implementation and Querying (With Indexing)**</center>\n",
    "This notebook contains the code to establish the databases in Mariadb and to perform the required queries and note their times.\n",
    "\n",
    "According to my roll number, the csv files I picked for creating these databases were :\n",
    "- A-100\n",
    "- A-1000\n",
    "- A-10000\n",
    "- B-100-3-1\n",
    "- B-100-5-2\n",
    "- B-100-10-1\n",
    "- B-1000-5-2\n",
    "- B-1000-10-4\n",
    "- B-1000-50-2\n",
    "- B-10000-5-1\n",
    "- B-10000-50-2\n",
    "- B-10000-500-1\n",
    "\n",
    "\n",
    "The 9 databases formed according to question were therefore:\n",
    "- **A_100, B_100_3_1 (db1)**\n",
    "- **A_100, B_100_5_2 (db2)**\n",
    "- **A_100, B_100_10_1 (db3)**\n",
    "- **A_1000, B_1000_5_2 (db4)**\n",
    "- **A_1000, B_1000_10_4 (db5)**\n",
    "- **A_1000, B_1000_50_2 (db6)**\n",
    "- **A_10000, B_10000_5_1 (db7)**\n",
    "- **A_10000, B_10000_50-2 (db8)**\n",
    "- **A-10000, B_10000_500_1 (db9)**\n"
   ]
  },
  {
   "cell_type": "markdown",
   "id": "cooked-interstate",
   "metadata": {},
   "source": [
    "We start off by importing the required packages. <br>\n",
    "**NOTE:** You will have to first install the packages by uncommenting the lines below if they are not already installed on your system."
   ]
  },
  {
   "cell_type": "code",
   "execution_count": 1,
   "id": "thick-northeast",
   "metadata": {},
   "outputs": [],
   "source": [
    "#!pip3 install mariadb\n",
    "import mariadb\n",
    "import pandas as pd\n",
    "from mariadb import Error\n",
    "from time import time\n",
    "import numpy as np\n",
    "import csv"
   ]
  },
  {
   "cell_type": "markdown",
   "id": "equivalent-spoke",
   "metadata": {},
   "source": [
    "#### **Function to create a database**\n",
    "This function creates a connection to the specified database and if it doesn't already exist, it creates that database.<br>\n",
    "**NOTE:** This will cerate the database in the same directory as the notebook. IF you want a different path, specify it while passing the argument to the create_database function. Also change the username and password as per requirement"
   ]
  },
  {
   "cell_type": "code",
   "execution_count": 8,
   "id": "standing-intro",
   "metadata": {
    "tags": []
   },
   "outputs": [],
   "source": [
    "def create_connection1():\n",
    "    \n",
    "    connection = None\n",
    "    try:\n",
    "        connection = mariadb.connect(user=\"user1\",\n",
    "        password= \"password1\")\n",
    "        c = connection.cursor()\n",
    "        c.execute('DROP DATABASE if EXISTS dbi1;')\n",
    "        c.execute('CREATE DATABASE dbi1;')\n",
    "        #print(db)\n",
    "    except Error as e:\n",
    "        print(e)\n",
    "    finally:\n",
    "        if connection :\n",
    "            connection.close()\n",
    "            \n",
    "            \n",
    "def create_connection2():\n",
    "    \n",
    "    connection = None\n",
    "    try:\n",
    "        connection = mariadb.connect(user=\"user1\",\n",
    "        password= \"password1\")\n",
    "        c = connection.cursor()\n",
    "        c.execute('DROP DATABASE if EXISTS dbi2;')\n",
    "        c.execute('CREATE DATABASE dbi2;')\n",
    "        #print(db)\n",
    "    except Error as e:\n",
    "        print(e)\n",
    "    finally:\n",
    "        if connection :\n",
    "            connection.close()\n",
    "            \n",
    "def create_connection3():\n",
    "    \n",
    "    connection = None\n",
    "    try:\n",
    "        connection = mariadb.connect(user=\"user1\",\n",
    "        password= \"password1\")\n",
    "        c = connection.cursor()\n",
    "        c.execute('DROP DATABASE if EXISTS dbi3;')\n",
    "        c.execute('CREATE DATABASE dbi3;')\n",
    "        #print(db)\n",
    "    except Error as e:\n",
    "        print(e)\n",
    "    finally:\n",
    "        if connection :\n",
    "            connection.close()\n",
    "            \n",
    "def create_connection4():\n",
    "    \n",
    "    connection = None\n",
    "    try:\n",
    "        connection = mariadb.connect(user=\"user1\",\n",
    "        password= \"password1\")\n",
    "        c = connection.cursor()\n",
    "        c.execute('DROP DATABASE if EXISTS dbi4;')\n",
    "        c.execute('CREATE DATABASE dbi4;')\n",
    "        #print(db)\n",
    "    except Error as e:\n",
    "        print(e)\n",
    "    finally:\n",
    "        if connection :\n",
    "            connection.close()\n",
    "            \n",
    "def create_connection5():\n",
    "    \n",
    "    connection = None\n",
    "    try:\n",
    "        connection = mariadb.connect(user=\"user1\",\n",
    "        password= \"password1\")\n",
    "        c = connection.cursor()\n",
    "        c.execute('DROP DATABASE if EXISTS dbi5;')\n",
    "        c.execute('CREATE DATABASE dbi5;')\n",
    "        #print(db)\n",
    "    except Error as e:\n",
    "        print(e)\n",
    "    finally:\n",
    "        if connection :\n",
    "            connection.close()\n",
    "            \n",
    "def create_connection6():\n",
    "    \n",
    "    connection = None\n",
    "    try:\n",
    "        connection = mariadb.connect(user=\"user1\",\n",
    "        password= \"password1\")\n",
    "        c = connection.cursor()\n",
    "        c.execute('DROP DATABASE if EXISTS dbi6;')\n",
    "        c.execute('CREATE DATABASE dbi6;')\n",
    "        #print(db)\n",
    "    except Error as e:\n",
    "        print(e)\n",
    "    finally:\n",
    "        if connection :\n",
    "            connection.close()\n",
    "            \n",
    "def create_connection7():\n",
    "    \n",
    "    connection = None\n",
    "    try:\n",
    "        connection = mariadb.connect(user=\"user1\",\n",
    "        password= \"password1\")\n",
    "        c = connection.cursor()\n",
    "        c.execute('DROP DATABASE if EXISTS dbi7;')\n",
    "        c.execute('CREATE DATABASE dbi7;')\n",
    "        #print(db)\n",
    "    except Error as e:\n",
    "        print(e)\n",
    "    finally:\n",
    "        if connection :\n",
    "            connection.close()\n",
    "            \n",
    "def create_connection8():\n",
    "    \n",
    "    connection = None\n",
    "    try:\n",
    "        connection = mariadb.connect(user=\"user1\",\n",
    "        password= \"password1\")\n",
    "        c = connection.cursor()\n",
    "        c.execute('DROP DATABASE if EXISTS dbi8;')\n",
    "        c.execute('CREATE DATABASE dbi8;')\n",
    "        #print(db)\n",
    "    except Error as e:\n",
    "        print(e)\n",
    "    finally:\n",
    "        if connection :\n",
    "            connection.close()\n",
    "            \n",
    "def create_connection9():\n",
    "    \n",
    "    connection = None\n",
    "    try:\n",
    "        connection = mariadb.connect(user=\"user1\",\n",
    "        password= \"password1\")\n",
    "        c = connection.cursor()\n",
    "        c.execute('DROP DATABASE if EXISTS dbi9;')\n",
    "        c.execute('CREATE DATABASE dbi9;')\n",
    "        #print(db)\n",
    "    except Error as e:\n",
    "        print(e)\n",
    "    finally:\n",
    "        if connection :\n",
    "            connection.close()\n",
    "            "
   ]
  },
  {
   "cell_type": "code",
   "execution_count": 9,
   "id": "persistent-transmission",
   "metadata": {},
   "outputs": [],
   "source": [
    "create_connection1()\n",
    "create_connection2()\n",
    "create_connection3()\n",
    "create_connection4()\n",
    "create_connection5()\n",
    "create_connection6()\n",
    "create_connection7()\n",
    "create_connection8()\n",
    "create_connection9()"
   ]
  },
  {
   "cell_type": "markdown",
   "id": "educational-taxation",
   "metadata": {},
   "source": [
    "### <center>**Creating database tables and Importing data in db**</center>\n",
    "#### **Function to create tables in database**\n",
    "After creating the databases, next we create the tables inside the database and import data into those tables. Below is the function for that which takes as argument the database, and the two tables you want to import in that database .i.e. A and B. <br>\n",
    "**NOTE:** Please take care while of the path while passing arguments to this function. While running, I had the csv files in the exact same directory. Mention the path correctly in case there is a different path. And take care of the username and password fields."
   ]
  },
  {
   "cell_type": "code",
   "execution_count": 10,
   "id": "contrary-elimination",
   "metadata": {},
   "outputs": [],
   "source": [
    "def create_tables(db, table1, table2):\n",
    "    \n",
    "    connection = mariadb.connect(user=\"user1\",\n",
    "    password= \"password1\",\n",
    "    database= db)\n",
    "\n",
    "    c = connection.cursor()\n",
    "    \n",
    "    c.execute('DROP TABLE if EXISTS B')\n",
    "    c.execute('DROP TABLE if Exists A')\n",
    "\n",
    "    c.execute('''CREATE TABLE A( A1 int,\n",
    "                A2 text, \n",
    "                primary key( A1 ));''')\n",
    "\n",
    "    c.execute('CREATE TABLE B( B1 int, B2 int, B3 varchar(255), primary key(B1), foreign key(B2) references A(A1) )')\n",
    "\n",
    "    connection.commit()\n",
    "    \n",
    "    with open(table1, newline = '') as csvfile:\n",
    "        reader = csv.reader(csvfile, delimiter=',')\n",
    "        next(reader)\n",
    "        for row in reader:\n",
    "            A1 = int(row[0])\n",
    "            A2 = row[1]\n",
    "            c.execute(f'INSERT INTO A(A1, A2) VALUES(\"{A1}\", \"{A2}\");')\n",
    "    \n",
    "    with open(table2, newline = '') as csvfile:\n",
    "        reader = csv.reader(csvfile, delimiter=',')\n",
    "        next(reader)\n",
    "        for row in reader:\n",
    "            B1 = int(row[0])\n",
    "            B2 = int(row[1])\n",
    "            B3 = row[2]\n",
    "            c.execute(f'INSERT INTO B(B1, B2, B3) VALUES(\"{B1}\", \"{B2}\", \"{B3}\");')\n",
    "            \n",
    "    connection.close()"
   ]
  },
  {
   "cell_type": "markdown",
   "id": "flexible-inside",
   "metadata": {},
   "source": [
    "#### **Database 1 - db1.db**"
   ]
  },
  {
   "cell_type": "code",
   "execution_count": 11,
   "id": "essential-number",
   "metadata": {},
   "outputs": [],
   "source": [
    "create_tables('dbi1', 'A-100.csv', 'B-100-3-1.csv')"
   ]
  },
  {
   "cell_type": "markdown",
   "id": "manufactured-admission",
   "metadata": {},
   "source": [
    "#### **Database 2 - db2.db**"
   ]
  },
  {
   "cell_type": "code",
   "execution_count": 12,
   "id": "short-rescue",
   "metadata": {},
   "outputs": [],
   "source": [
    "create_tables('dbi2', r'A-100.csv', r'B-100-5-2.csv')"
   ]
  },
  {
   "cell_type": "markdown",
   "id": "suburban-notification",
   "metadata": {},
   "source": [
    "#### **Database 3 - db3.db**"
   ]
  },
  {
   "cell_type": "code",
   "execution_count": 13,
   "id": "industrial-hampshire",
   "metadata": {},
   "outputs": [],
   "source": [
    "create_tables('dbi3', r'A-100.csv', r'B-100-10-1.csv')"
   ]
  },
  {
   "cell_type": "markdown",
   "id": "collect-classics",
   "metadata": {},
   "source": [
    "#### **Database 4 - db4.db**"
   ]
  },
  {
   "cell_type": "code",
   "execution_count": 14,
   "id": "curious-pension",
   "metadata": {},
   "outputs": [],
   "source": [
    "create_tables('dbi4', r'A-1000.csv', r'B-1000-5-2.csv')"
   ]
  },
  {
   "cell_type": "markdown",
   "id": "japanese-length",
   "metadata": {},
   "source": [
    "#### **Database 5 - db5.db**"
   ]
  },
  {
   "cell_type": "code",
   "execution_count": 15,
   "id": "transparent-rebate",
   "metadata": {},
   "outputs": [],
   "source": [
    "create_tables('dbi5', r'A-1000.csv', r'B-1000-10-4.csv')"
   ]
  },
  {
   "cell_type": "markdown",
   "id": "christian-quick",
   "metadata": {},
   "source": [
    "#### **Database 6 - db6.db**"
   ]
  },
  {
   "cell_type": "code",
   "execution_count": 16,
   "id": "certified-reynolds",
   "metadata": {},
   "outputs": [],
   "source": [
    "create_tables('dbi6', r'A-1000.csv', r'B-1000-50-2.csv')"
   ]
  },
  {
   "cell_type": "markdown",
   "id": "passing-morrison",
   "metadata": {},
   "source": [
    "#### **Database 7 - db7.db**"
   ]
  },
  {
   "cell_type": "code",
   "execution_count": 17,
   "id": "intellectual-journalist",
   "metadata": {},
   "outputs": [],
   "source": [
    "create_tables('dbi7', r'A-10000.csv', r'B-10000-5-1.csv')"
   ]
  },
  {
   "cell_type": "markdown",
   "id": "reflected-hearing",
   "metadata": {},
   "source": [
    "#### **Database 8 - db8.db**"
   ]
  },
  {
   "cell_type": "code",
   "execution_count": 18,
   "id": "metric-treat",
   "metadata": {},
   "outputs": [],
   "source": [
    "create_tables('dbi8', r'A-10000.csv', r'B-10000-50-2.csv')"
   ]
  },
  {
   "cell_type": "markdown",
   "id": "bottom-announcement",
   "metadata": {},
   "source": [
    "#### **Database 9 - db9.db**"
   ]
  },
  {
   "cell_type": "code",
   "execution_count": 19,
   "id": "killing-preference",
   "metadata": {},
   "outputs": [],
   "source": [
    "create_tables('dbi9', r'A-10000.csv', r'B-10000-500-1.csv')"
   ]
  },
  {
   "cell_type": "markdown",
   "id": "local-print",
   "metadata": {},
   "source": [
    "### <center>**Querying the databases and finding time**</center>\n",
    "#### **Function to run a query and report time**\n",
    "This function loops 7 times and creates connection to each of the 9 databases one by one to execute the query passed on to it. <br>\n",
    "*Since while executing on shell directly executes and then prints the query, so to counter the overhead the same thing has been followed while noting time. Data has been fetched and collected. Since the method has been appointed in all 4 versions, the overhead is cancelled*"
   ]
  },
  {
   "cell_type": "code",
   "execution_count": 2,
   "id": "south-surgery",
   "metadata": {},
   "outputs": [],
   "source": [
    "def run_query(query):\n",
    "    \n",
    "    t = [[0] * 9] * 7\n",
    "    for i in range(7):\n",
    "        connection = mariadb.connect(user=\"user1\", password= \"password1\", database = 'dbi1')\n",
    "        c = connection.cursor()\n",
    "        c.execute('RESET QUERY CACHE;')\n",
    "        tic = time()\n",
    "        c.execute(query)\n",
    "        x = c.fetchall()\n",
    "        toc = time()\n",
    "        t[i][0] = toc - tic\n",
    "        connection.close()\n",
    "        \n",
    "        connection = mariadb.connect(user=\"user1\", password= \"password1\", database = 'dbi2')\n",
    "        c = connection.cursor()\n",
    "        c.execute('RESET QUERY CACHE;')\n",
    "        tic = time()\n",
    "        c.execute(query)\n",
    "        x = c.fetchall()\n",
    "        toc = time()\n",
    "        t[i][1] = toc - tic        \n",
    "        connection.close()\n",
    "        \n",
    "        connection = mariadb.connect(user=\"user1\", password= \"password1\", database = 'dbi3')\n",
    "        c = connection.cursor()\n",
    "        c.execute('RESET QUERY CACHE;')\n",
    "        tic = time()\n",
    "        c.execute(query)\n",
    "        x = c.fetchall()\n",
    "        toc = time()\n",
    "        t[i][2] = toc - tic\n",
    "        connection.close()\n",
    "        \n",
    "        connection = mariadb.connect(user=\"user1\", password= \"password1\", database = 'dbi4')\n",
    "        c = connection.cursor()\n",
    "        c.execute('RESET QUERY CACHE;')\n",
    "        tic = time()\n",
    "        c.execute(query)\n",
    "        x = c.fetchall()\n",
    "        toc = time()\n",
    "        t[i][3] = toc - tic\n",
    "        connection.close()\n",
    "        \n",
    "        connection = mariadb.connect(user=\"user1\", password= \"password1\", database = 'dbi5')\n",
    "        c = connection.cursor()\n",
    "        c.execute('RESET QUERY CACHE;')\n",
    "        tic = time()\n",
    "        c.execute(query)\n",
    "        x = c.fetchall()\n",
    "        toc = time()\n",
    "        t[i][4] = toc - tic\n",
    "        connection.close()\n",
    "        \n",
    "        connection = mariadb.connect(user=\"user1\", password= \"password1\", database = 'dbi6')\n",
    "        c = connection.cursor()\n",
    "        c.execute('RESET QUERY CACHE;')\n",
    "        tic = time()\n",
    "        c.execute(query)\n",
    "        x = c.fetchall()\n",
    "        toc = time()\n",
    "        t[i][5] = toc - tic\n",
    "        connection.close()\n",
    "        \n",
    "        connection = mariadb.connect(user=\"user1\", password= \"password1\", database = 'dbi7')\n",
    "        c = connection.cursor()\n",
    "        c.execute('RESET QUERY CACHE;')\n",
    "        tic = time()\n",
    "        c.execute(query)\n",
    "        x = c.fetchall()\n",
    "        toc = time()\n",
    "        t[i][6] = toc - tic\n",
    "        connection.close()\n",
    "        \n",
    "        connection = mariadb.connect(user=\"user1\", password= \"password1\", database = 'dbi8')\n",
    "        c = connection.cursor()\n",
    "        c.execute('RESET QUERY CACHE;')\n",
    "        tic = time()\n",
    "        c.execute(query)\n",
    "        x = c.fetchall()\n",
    "        toc = time()\n",
    "        t[i][7] = toc - tic\n",
    "        connection.close()\n",
    "                \n",
    "        connection = mariadb.connect(user=\"user1\", password= \"password1\", database = 'dbi9')\n",
    "        c = connection.cursor()\n",
    "        c.execute('RESET QUERY CACHE;')\n",
    "        tic = time()\n",
    "        c.execute(query)\n",
    "        x = c.fetchall()\n",
    "        toc = time()\n",
    "        t[i][8] = toc - tic\n",
    "        connection.close()\n",
    "        \n",
    "    return t"
   ]
  },
  {
   "cell_type": "markdown",
   "id": "jewish-portable",
   "metadata": {},
   "source": [
    "### **Defining queries and time arrays**"
   ]
  },
  {
   "cell_type": "code",
   "execution_count": 3,
   "id": "restricted-savannah",
   "metadata": {},
   "outputs": [],
   "source": [
    "query1 = 'SELECT * FROM A WHERE A1 <= 50'\n",
    "query2 = 'SELECT * FROM B ORDER BY B3'\n",
    "query3 = 'SELECT AVG(X.COL) FROM (SELECT COUNT(B2) AS COL FROM B GROUP BY B2) AS X'\n",
    "query4 = 'SELECT A2, B1, B2, B3 FROM A, B WHERE A.A1 = B.B2'"
   ]
  },
  {
   "cell_type": "code",
   "execution_count": 4,
   "id": "cardiac-description",
   "metadata": {},
   "outputs": [],
   "source": [
    "time_q1 = [[0] * 9] * 7\n",
    "time_q2 = [[0] * 9] * 7\n",
    "time_q3 = [[0] * 9] * 7\n",
    "time_q4 = [[0] * 9] * 7"
   ]
  },
  {
   "cell_type": "markdown",
   "id": "enormous-western",
   "metadata": {},
   "source": [
    "### **Query 1 across all databases**"
   ]
  },
  {
   "cell_type": "code",
   "execution_count": 5,
   "id": "signal-remainder",
   "metadata": {},
   "outputs": [
    {
     "name": "stdout",
     "output_type": "stream",
     "text": [
      "[[1.06e-04 1.03e-04 1.04e-04 1.04e-04 9.50e-05 1.05e-04 1.06e-04 1.09e-04\n",
      "  1.08e-04]\n",
      " [1.06e-04 1.03e-04 1.04e-04 1.04e-04 9.50e-05 1.05e-04 1.06e-04 1.09e-04\n",
      "  1.08e-04]\n",
      " [1.06e-04 1.03e-04 1.04e-04 1.04e-04 9.50e-05 1.05e-04 1.06e-04 1.09e-04\n",
      "  1.08e-04]\n",
      " [1.06e-04 1.03e-04 1.04e-04 1.04e-04 9.50e-05 1.05e-04 1.06e-04 1.09e-04\n",
      "  1.08e-04]\n",
      " [1.06e-04 1.03e-04 1.04e-04 1.04e-04 9.50e-05 1.05e-04 1.06e-04 1.09e-04\n",
      "  1.08e-04]\n",
      " [1.06e-04 1.03e-04 1.04e-04 1.04e-04 9.50e-05 1.05e-04 1.06e-04 1.09e-04\n",
      "  1.08e-04]\n",
      " [1.06e-04 1.03e-04 1.04e-04 1.04e-04 9.50e-05 1.05e-04 1.06e-04 1.09e-04\n",
      "  1.08e-04]]\n"
     ]
    }
   ],
   "source": [
    "time_q1 = np.round(run_query(query1), 6)\n",
    "print(time_q1)"
   ]
  },
  {
   "cell_type": "markdown",
   "id": "upset-binding",
   "metadata": {},
   "source": [
    "### **Query 2 across all databases**"
   ]
  },
  {
   "cell_type": "code",
   "execution_count": 6,
   "id": "sensitive-static",
   "metadata": {},
   "outputs": [
    {
     "name": "stdout",
     "output_type": "stream",
     "text": [
      "[[1.17e-04 9.80e-05 1.16e-04 9.60e-05 9.80e-05 1.05e-04 1.00e-04 1.24e-04\n",
      "  9.90e-05]\n",
      " [1.17e-04 9.80e-05 1.16e-04 9.60e-05 9.80e-05 1.05e-04 1.00e-04 1.24e-04\n",
      "  9.90e-05]\n",
      " [1.17e-04 9.80e-05 1.16e-04 9.60e-05 9.80e-05 1.05e-04 1.00e-04 1.24e-04\n",
      "  9.90e-05]\n",
      " [1.17e-04 9.80e-05 1.16e-04 9.60e-05 9.80e-05 1.05e-04 1.00e-04 1.24e-04\n",
      "  9.90e-05]\n",
      " [1.17e-04 9.80e-05 1.16e-04 9.60e-05 9.80e-05 1.05e-04 1.00e-04 1.24e-04\n",
      "  9.90e-05]\n",
      " [1.17e-04 9.80e-05 1.16e-04 9.60e-05 9.80e-05 1.05e-04 1.00e-04 1.24e-04\n",
      "  9.90e-05]\n",
      " [1.17e-04 9.80e-05 1.16e-04 9.60e-05 9.80e-05 1.05e-04 1.00e-04 1.24e-04\n",
      "  9.90e-05]]\n"
     ]
    }
   ],
   "source": [
    "time_q2 = np.round(run_query(query2), 6)\n",
    "print(time_q2)"
   ]
  },
  {
   "cell_type": "markdown",
   "id": "refined-burns",
   "metadata": {},
   "source": [
    "### **Query 3 across all databases**"
   ]
  },
  {
   "cell_type": "code",
   "execution_count": 7,
   "id": "subsequent-ridge",
   "metadata": {},
   "outputs": [
    {
     "name": "stdout",
     "output_type": "stream",
     "text": [
      "[[0.000112 0.000107 0.000134 0.000124 0.000136 0.00013  0.000133 0.000117\n",
      "  0.00012 ]\n",
      " [0.000112 0.000107 0.000134 0.000124 0.000136 0.00013  0.000133 0.000117\n",
      "  0.00012 ]\n",
      " [0.000112 0.000107 0.000134 0.000124 0.000136 0.00013  0.000133 0.000117\n",
      "  0.00012 ]\n",
      " [0.000112 0.000107 0.000134 0.000124 0.000136 0.00013  0.000133 0.000117\n",
      "  0.00012 ]\n",
      " [0.000112 0.000107 0.000134 0.000124 0.000136 0.00013  0.000133 0.000117\n",
      "  0.00012 ]\n",
      " [0.000112 0.000107 0.000134 0.000124 0.000136 0.00013  0.000133 0.000117\n",
      "  0.00012 ]\n",
      " [0.000112 0.000107 0.000134 0.000124 0.000136 0.00013  0.000133 0.000117\n",
      "  0.00012 ]]\n"
     ]
    }
   ],
   "source": [
    "time_q3 = np.round(run_query(query3), 6)\n",
    "print(time_q3)"
   ]
  },
  {
   "cell_type": "markdown",
   "id": "amateur-explorer",
   "metadata": {},
   "source": [
    "### **Query 4 across all databases**"
   ]
  },
  {
   "cell_type": "code",
   "execution_count": 8,
   "id": "exposed-casino",
   "metadata": {},
   "outputs": [
    {
     "name": "stdout",
     "output_type": "stream",
     "text": [
      "[[0.000117 0.000154 0.000182 0.000203 0.000176 0.000136 0.000116 0.00012\n",
      "  0.000116]\n",
      " [0.000117 0.000154 0.000182 0.000203 0.000176 0.000136 0.000116 0.00012\n",
      "  0.000116]\n",
      " [0.000117 0.000154 0.000182 0.000203 0.000176 0.000136 0.000116 0.00012\n",
      "  0.000116]\n",
      " [0.000117 0.000154 0.000182 0.000203 0.000176 0.000136 0.000116 0.00012\n",
      "  0.000116]\n",
      " [0.000117 0.000154 0.000182 0.000203 0.000176 0.000136 0.000116 0.00012\n",
      "  0.000116]\n",
      " [0.000117 0.000154 0.000182 0.000203 0.000176 0.000136 0.000116 0.00012\n",
      "  0.000116]\n",
      " [0.000117 0.000154 0.000182 0.000203 0.000176 0.000136 0.000116 0.00012\n",
      "  0.000116]]\n"
     ]
    }
   ],
   "source": [
    "time_q4 = np.round(run_query(query4), 6)\n",
    "print(time_q4)"
   ]
  },
  {
   "cell_type": "code",
   "execution_count": 9,
   "id": "buried-nepal",
   "metadata": {},
   "outputs": [
    {
     "name": "stdout",
     "output_type": "stream",
     "text": [
      "[[1.06e-04 1.03e-04 1.04e-04 1.04e-04 9.50e-05 1.05e-04 1.06e-04 1.09e-04\n",
      "  1.08e-04]\n",
      " [1.06e-04 1.03e-04 1.04e-04 1.04e-04 9.50e-05 1.05e-04 1.06e-04 1.09e-04\n",
      "  1.08e-04]\n",
      " [1.06e-04 1.03e-04 1.04e-04 1.04e-04 9.50e-05 1.05e-04 1.06e-04 1.09e-04\n",
      "  1.08e-04]\n",
      " [1.06e-04 1.03e-04 1.04e-04 1.04e-04 9.50e-05 1.05e-04 1.06e-04 1.09e-04\n",
      "  1.08e-04]\n",
      " [1.06e-04 1.03e-04 1.04e-04 1.04e-04 9.50e-05 1.05e-04 1.06e-04 1.09e-04\n",
      "  1.08e-04]\n",
      " [1.06e-04 1.03e-04 1.04e-04 1.04e-04 9.50e-05 1.05e-04 1.06e-04 1.09e-04\n",
      "  1.08e-04]\n",
      " [1.06e-04 1.03e-04 1.04e-04 1.04e-04 9.50e-05 1.05e-04 1.06e-04 1.09e-04\n",
      "  1.08e-04]]\n",
      "[[1.17e-04 9.80e-05 1.16e-04 9.60e-05 9.80e-05 1.05e-04 1.00e-04 1.24e-04\n",
      "  9.90e-05]\n",
      " [1.17e-04 9.80e-05 1.16e-04 9.60e-05 9.80e-05 1.05e-04 1.00e-04 1.24e-04\n",
      "  9.90e-05]\n",
      " [1.17e-04 9.80e-05 1.16e-04 9.60e-05 9.80e-05 1.05e-04 1.00e-04 1.24e-04\n",
      "  9.90e-05]\n",
      " [1.17e-04 9.80e-05 1.16e-04 9.60e-05 9.80e-05 1.05e-04 1.00e-04 1.24e-04\n",
      "  9.90e-05]\n",
      " [1.17e-04 9.80e-05 1.16e-04 9.60e-05 9.80e-05 1.05e-04 1.00e-04 1.24e-04\n",
      "  9.90e-05]\n",
      " [1.17e-04 9.80e-05 1.16e-04 9.60e-05 9.80e-05 1.05e-04 1.00e-04 1.24e-04\n",
      "  9.90e-05]\n",
      " [1.17e-04 9.80e-05 1.16e-04 9.60e-05 9.80e-05 1.05e-04 1.00e-04 1.24e-04\n",
      "  9.90e-05]]\n",
      "[[0.000112 0.000107 0.000134 0.000124 0.000136 0.00013  0.000133 0.000117\n",
      "  0.00012 ]\n",
      " [0.000112 0.000107 0.000134 0.000124 0.000136 0.00013  0.000133 0.000117\n",
      "  0.00012 ]\n",
      " [0.000112 0.000107 0.000134 0.000124 0.000136 0.00013  0.000133 0.000117\n",
      "  0.00012 ]\n",
      " [0.000112 0.000107 0.000134 0.000124 0.000136 0.00013  0.000133 0.000117\n",
      "  0.00012 ]\n",
      " [0.000112 0.000107 0.000134 0.000124 0.000136 0.00013  0.000133 0.000117\n",
      "  0.00012 ]\n",
      " [0.000112 0.000107 0.000134 0.000124 0.000136 0.00013  0.000133 0.000117\n",
      "  0.00012 ]\n",
      " [0.000112 0.000107 0.000134 0.000124 0.000136 0.00013  0.000133 0.000117\n",
      "  0.00012 ]]\n",
      "[[0.000117 0.000154 0.000182 0.000203 0.000176 0.000136 0.000116 0.00012\n",
      "  0.000116]\n",
      " [0.000117 0.000154 0.000182 0.000203 0.000176 0.000136 0.000116 0.00012\n",
      "  0.000116]\n",
      " [0.000117 0.000154 0.000182 0.000203 0.000176 0.000136 0.000116 0.00012\n",
      "  0.000116]\n",
      " [0.000117 0.000154 0.000182 0.000203 0.000176 0.000136 0.000116 0.00012\n",
      "  0.000116]\n",
      " [0.000117 0.000154 0.000182 0.000203 0.000176 0.000136 0.000116 0.00012\n",
      "  0.000116]\n",
      " [0.000117 0.000154 0.000182 0.000203 0.000176 0.000136 0.000116 0.00012\n",
      "  0.000116]\n",
      " [0.000117 0.000154 0.000182 0.000203 0.000176 0.000136 0.000116 0.00012\n",
      "  0.000116]]\n"
     ]
    }
   ],
   "source": [
    "print(time_q1)\n",
    "print(time_q2)\n",
    "print(time_q3)\n",
    "print(time_q4)"
   ]
  },
  {
   "cell_type": "markdown",
   "id": "killing-italic",
   "metadata": {},
   "source": [
    "### **Saving times collected to csv**"
   ]
  },
  {
   "cell_type": "code",
   "execution_count": 14,
   "id": "rough-memorabilia",
   "metadata": {},
   "outputs": [],
   "source": [
    "import csv\n",
    "with open(\"t1.csv\", \"w+\") as my_csv:\n",
    "    writer = csv.writer(my_csv, delimiter=',')\n",
    "    writer.writerows(time_q1)"
   ]
  },
  {
   "cell_type": "code",
   "execution_count": 15,
   "id": "lightweight-lounge",
   "metadata": {},
   "outputs": [],
   "source": [
    "with open(\"t2.csv\", \"w+\") as my_csv:\n",
    "    writer = csv.writer(my_csv, delimiter=',')\n",
    "    writer.writerows(time_q2)"
   ]
  },
  {
   "cell_type": "code",
   "execution_count": 16,
   "id": "superb-marketplace",
   "metadata": {},
   "outputs": [],
   "source": [
    "with open(\"t3.csv\", \"w+\") as my_csv:\n",
    "    writer = csv.writer(my_csv, delimiter=',')\n",
    "    writer.writerows(time_q3)"
   ]
  },
  {
   "cell_type": "code",
   "execution_count": 17,
   "id": "inside-performance",
   "metadata": {},
   "outputs": [],
   "source": [
    "with open(\"t4.csv\", \"w+\") as my_csv:\n",
    "    writer = csv.writer(my_csv, delimiter=',')\n",
    "    writer.writerows(time_q4)"
   ]
  },
  {
   "cell_type": "code",
   "execution_count": null,
   "id": "judicial-warrant",
   "metadata": {},
   "outputs": [],
   "source": []
  }
 ],
 "metadata": {
  "kernelspec": {
   "display_name": "Python 3",
   "language": "python",
   "name": "python3"
  },
  "language_info": {
   "codemirror_mode": {
    "name": "ipython",
    "version": 3
   },
   "file_extension": ".py",
   "mimetype": "text/x-python",
   "name": "python",
   "nbconvert_exporter": "python",
   "pygments_lexer": "ipython3",
   "version": "3.6.9"
  }
 },
 "nbformat": 4,
 "nbformat_minor": 5
}
