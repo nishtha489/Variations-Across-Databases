{
 "cells": [
  {
   "cell_type": "markdown",
   "id": "negative-tracker",
   "metadata": {},
   "source": [
    "## <center>**SQLITE 3 Databases : Implementation and Querying**</center>\n",
    "This notebook contains the code to establish the databases in SQLite3 and to perform the required queries and note their times.\n",
    "\n",
    "According to my roll number, the csv files I picked for creating these databases were :\n",
    "- A-100\n",
    "- A-1000\n",
    "- A-10000\n",
    "- B-100-3-1\n",
    "- B-100-5-2\n",
    "- B-100-10-1\n",
    "- B-1000-5-2\n",
    "- B-1000-10-4\n",
    "- B-1000-50-2\n",
    "- B-10000-5-1\n",
    "- B-10000-50-2\n",
    "- B-10000-500-1\n",
    "\n",
    "\n",
    "The 9 databases formed according to question were therefore:\n",
    "- **A_100, B_100_3_1 (db1)**\n",
    "- **A_100, B_100_5_2 (db2)**\n",
    "- **A_100, B_100_10_1 (db3)**\n",
    "- **A_1000, B_1000_5_2 (db4)**\n",
    "- **A_1000, B_1000_10_4 (db5)**\n",
    "- **A_1000, B_1000_50_2 (db6)**\n",
    "- **A_10000, B_10000_5_1 (db7)**\n",
    "- **A_10000, B_10000_50-2 (db8)**\n",
    "- **A-10000, B_10000_500_1 (db9)**\n",
    "\n"
   ]
  },
  {
   "cell_type": "markdown",
   "id": "contained-scenario",
   "metadata": {},
   "source": [
    "We start off by importing the required packages. <br>\n",
    "**NOTE:** You will have to first install the packages by uncommenting the lines below if they are not already installed on your system."
   ]
  },
  {
   "cell_type": "code",
   "execution_count": 1,
   "id": "commercial-coordinator",
   "metadata": {},
   "outputs": [],
   "source": [
    "#pip install sqlite3\n",
    "#!pip install pandas\n",
    "#!pip install numpy\n",
    "import sqlite3\n",
    "import pandas as pd\n",
    "from sqlite3 import Error\n",
    "from time import time\n",
    "import numpy as np"
   ]
  },
  {
   "cell_type": "markdown",
   "id": "changing-print",
   "metadata": {},
   "source": [
    "#### **Function to create a database**\n",
    "This function creates a connection to the specified database and if it doesn't already exist, it creates that database.<br>\n",
    "**NOTE:** This will cerate the database in the same directory as the notebook. IF you want a different path, specify it while passing the argument to the create_database function."
   ]
  },
  {
   "cell_type": "code",
   "execution_count": 71,
   "id": "centered-ivory",
   "metadata": {},
   "outputs": [],
   "source": [
    "def create_connection(db):\n",
    "    \n",
    "    connection = None\n",
    "    try:\n",
    "        connection = sqlite3.connect(db)\n",
    "        print(db)\n",
    "    except Error as e:\n",
    "        print(e)\n",
    "    finally:\n",
    "        if connection :\n",
    "            connection.close()"
   ]
  },
  {
   "cell_type": "code",
   "execution_count": 72,
   "id": "double-chorus",
   "metadata": {},
   "outputs": [
    {
     "name": "stdout",
     "output_type": "stream",
     "text": [
      "db1.db\n",
      "db2.db\n",
      "db3.db\n",
      "db4.db\n",
      "db5.db\n",
      "db6.db\n",
      "db7.db\n",
      "db8.db\n",
      "db9.db\n"
     ]
    }
   ],
   "source": [
    "create_connection('db1.db')\n",
    "create_connection(\"db2.db\")\n",
    "create_connection(\"db3.db\")\n",
    "create_connection(\"db4.db\")\n",
    "create_connection(\"db5.db\")\n",
    "create_connection(\"db6.db\")\n",
    "create_connection(\"db7.db\")\n",
    "create_connection(\"db8.db\")\n",
    "create_connection(\"db9.db\")"
   ]
  },
  {
   "cell_type": "markdown",
   "id": "norman-joshua",
   "metadata": {},
   "source": [
    "### <center>**Creating database tables and Importing data in db**</center>\n",
    "#### **Function to create tables in database**\n",
    "After creating the databases, next we create the tables inside the database and import data into those tables. Below is the function for that which takes as argument the database, and the two tables you want to import in that database .i.e. A and B. <br>\n",
    "**NOTE:** Please take care while of the path while passing argumwnts to this function. While running, I had the csv files in the exact same directory. Mention the path correctly in case there is a different path."
   ]
  },
  {
   "cell_type": "code",
   "execution_count": 12,
   "id": "comparable-marathon",
   "metadata": {},
   "outputs": [],
   "source": [
    "def create_tables(db, table1, table2):\n",
    "    \n",
    "    connection = sqlite3.connect(db)\n",
    "    c = connection.cursor()\n",
    "\n",
    "    c.execute('DROP TABLE if Exists A')\n",
    "    c.execute('CREATE TABLE A( A1 int, A2 string, primary key(A1))')\n",
    "\n",
    "    c.execute('DROP TABLE if EXISTS B')\n",
    "    c.execute('CREATE TABLE B( B1 int, B2 int, B3 string, primary key(B1), foreign key(B2) references A(A1) )')\n",
    "\n",
    "    connection.commit()\n",
    "    \n",
    "    data = pd.read_csv(table1)\n",
    "    data.to_sql('A', connection, if_exists = 'append', index = False)\n",
    "    print(\"TABLE A\\n\", data.head(), '\\n')\n",
    "    \n",
    "    data = pd.read_csv(table2)\n",
    "    data.to_sql('B', connection, if_exists = 'replace', index = False)\n",
    "    print(\"TABLE B\\n\", data.head())\n",
    "    \n",
    "    connection.commit()\n",
    "    connection.close()"
   ]
  },
  {
   "cell_type": "markdown",
   "id": "secure-reception",
   "metadata": {},
   "source": [
    "#### **Database 1 - db1.db**"
   ]
  },
  {
   "cell_type": "code",
   "execution_count": 13,
   "id": "median-toyota",
   "metadata": {},
   "outputs": [
    {
     "name": "stdout",
     "output_type": "stream",
     "text": [
      "TABLE A\n",
      "    A1   A2\n",
      "0   1  P-1\n",
      "1   2  P-2\n",
      "2   3  P-3\n",
      "3   4  P-4\n",
      "4   5  P-5 \n",
      "\n",
      "TABLE B\n",
      "    B1  B2            B3\n",
      "0   1   1     meghavana\n",
      "1   2   1           guh\n",
      "2   3   1      mAMsepad\n",
      "3   4   2  uttarapurANa\n",
      "4   5   3   uttamarNika\n"
     ]
    }
   ],
   "source": [
    "create_tables(r'db1.db', r'A-100.csv', r'B-100-3-1.csv') #take care of the paths here and in the following functions"
   ]
  },
  {
   "cell_type": "markdown",
   "id": "composite-benefit",
   "metadata": {},
   "source": [
    "#### **Database 2 - db2.db**"
   ]
  },
  {
   "cell_type": "code",
   "execution_count": 14,
   "id": "obvious-transformation",
   "metadata": {},
   "outputs": [
    {
     "name": "stdout",
     "output_type": "stream",
     "text": [
      "TABLE A\n",
      "    A1   A2\n",
      "0   1  P-1\n",
      "1   2  P-2\n",
      "2   3  P-3\n",
      "3   4  P-4\n",
      "4   5  P-5 \n",
      "\n",
      "TABLE B\n",
      "    B1  B2           B3\n",
      "0   1   1       lAlATi\n",
      "1   2   1   rAmayantra\n",
      "2   3   1  rAtraubhava\n",
      "3   4   1  vidyunmukha\n",
      "4   5   2     gharaTTa\n"
     ]
    }
   ],
   "source": [
    "create_tables(r'db2.db', r'A-100.csv', r'B-100-5-2.csv')"
   ]
  },
  {
   "cell_type": "markdown",
   "id": "satellite-insulation",
   "metadata": {},
   "source": [
    "#### **Database 3 - db3.db**"
   ]
  },
  {
   "cell_type": "code",
   "execution_count": 15,
   "id": "cooperative-integration",
   "metadata": {},
   "outputs": [
    {
     "name": "stdout",
     "output_type": "stream",
     "text": [
      "TABLE A\n",
      "    A1   A2\n",
      "0   1  P-1\n",
      "1   2  P-2\n",
      "2   3  P-3\n",
      "3   4  P-4\n",
      "4   5  P-5 \n",
      "\n",
      "TABLE B\n",
      "    B1  B2            B3\n",
      "0   1   1      pracArin\n",
      "1   2   1     zilAsveda\n",
      "2   3   1   gaurIpASANa\n",
      "3   4   2  anaGgalatikA\n",
      "4   5   2       zilpikA\n"
     ]
    }
   ],
   "source": [
    "create_tables(r'db3.db', r'A-100.csv', r'B-100-10-1.csv')"
   ]
  },
  {
   "cell_type": "markdown",
   "id": "variable-riding",
   "metadata": {},
   "source": [
    "#### **Database 4 - db4.db**"
   ]
  },
  {
   "cell_type": "code",
   "execution_count": 16,
   "id": "vertical-pioneer",
   "metadata": {},
   "outputs": [
    {
     "name": "stdout",
     "output_type": "stream",
     "text": [
      "TABLE A\n",
      "    A1   A2\n",
      "0   1  P-1\n",
      "1   2  P-2\n",
      "2   3  P-3\n",
      "3   4  P-4\n",
      "4   5  P-5 \n",
      "\n",
      "TABLE B\n",
      "    B1  B2          B3\n",
      "0   1   1    sasAgara\n",
      "1   2   1    prAtibhA\n",
      "2   3   1  tittirAGga\n",
      "3   4   2  vanaprakSa\n",
      "4   5   3  durnivArya\n"
     ]
    }
   ],
   "source": [
    "create_tables(r'db4.db', r'A-1000.csv', r'B-1000-5-2.csv')"
   ]
  },
  {
   "cell_type": "markdown",
   "id": "german-latex",
   "metadata": {},
   "source": [
    "#### **Database 5 - db5.db**"
   ]
  },
  {
   "cell_type": "code",
   "execution_count": 17,
   "id": "neural-criminal",
   "metadata": {},
   "outputs": [
    {
     "name": "stdout",
     "output_type": "stream",
     "text": [
      "TABLE A\n",
      "    A1   A2\n",
      "0   1  P-1\n",
      "1   2  P-2\n",
      "2   3  P-3\n",
      "3   4  P-4\n",
      "4   5  P-5 \n",
      "\n",
      "TABLE B\n",
      "    B1  B2               B3\n",
      "0   1   1  sarasvatItantra\n",
      "1   2   1      kavirahasya\n",
      "2   3   2           upapRR\n",
      "3   4   3     sadratnamAlA\n",
      "4   5   3      anumadhyama\n"
     ]
    }
   ],
   "source": [
    "create_tables(r'db5.db', r'A-1000.csv', r'B-1000-10-4.csv')"
   ]
  },
  {
   "cell_type": "markdown",
   "id": "emerging-vegetarian",
   "metadata": {},
   "source": [
    "#### **Database 6 - db6.db**"
   ]
  },
  {
   "cell_type": "code",
   "execution_count": 18,
   "id": "adjacent-cannon",
   "metadata": {},
   "outputs": [
    {
     "name": "stdout",
     "output_type": "stream",
     "text": [
      "TABLE A\n",
      "    A1   A2\n",
      "0   1  P-1\n",
      "1   2  P-2\n",
      "2   3  P-3\n",
      "3   4  P-4\n",
      "4   5  P-5 \n",
      "\n",
      "TABLE B\n",
      "    B1  B2          B3\n",
      "0   1   1   khagendra\n",
      "1   2   1      asvaka\n",
      "2   3   1      bRsikA\n",
      "3   4   1    zrImukhI\n",
      "4   5   1  caityataru\n"
     ]
    }
   ],
   "source": [
    "create_tables(r'db6.db', r'A-1000.csv', r'B-1000-50-2.csv')"
   ]
  },
  {
   "cell_type": "markdown",
   "id": "civic-magazine",
   "metadata": {},
   "source": [
    "#### **Database 7 - db7.db**"
   ]
  },
  {
   "cell_type": "code",
   "execution_count": 19,
   "id": "difficult-editor",
   "metadata": {},
   "outputs": [
    {
     "name": "stdout",
     "output_type": "stream",
     "text": [
      "TABLE A\n",
      "    A1   A2\n",
      "0   1  P-1\n",
      "1   2  P-2\n",
      "2   3  P-3\n",
      "3   4  P-4\n",
      "4   5  P-5 \n",
      "\n",
      "TABLE B\n",
      "    B1  B2              B3\n",
      "0   1   1        sAraNika\n",
      "1   2   1          jalaja\n",
      "2   3   1    sadratnamAlA\n",
      "3   4   1  halAyudhastava\n",
      "4   5   1         hRdgata\n"
     ]
    }
   ],
   "source": [
    "create_tables(r'db7.db', r'A-10000.csv', r'B-10000-5-1.csv')"
   ]
  },
  {
   "cell_type": "markdown",
   "id": "color-behalf",
   "metadata": {},
   "source": [
    "#### **Database 8 - db8.db**"
   ]
  },
  {
   "cell_type": "code",
   "execution_count": 21,
   "id": "material-switzerland",
   "metadata": {},
   "outputs": [
    {
     "name": "stdout",
     "output_type": "stream",
     "text": [
      "TABLE A\n",
      "    A1   A2\n",
      "0   1  P-1\n",
      "1   2  P-2\n",
      "2   3  P-3\n",
      "3   4  P-4\n",
      "4   5  P-5 \n",
      "\n",
      "TABLE B\n",
      "    B1  B2            B3\n",
      "0   1   1   dAragrahaNa\n",
      "1   2   1  aJjalikarman\n",
      "2   3   1     vanarAjya\n",
      "3   4   1        vAtAri\n",
      "4   5   1     saralAGga\n"
     ]
    }
   ],
   "source": [
    "create_tables(r'db8.db', r'A-10000.csv', r'B-10000-50-2.csv')"
   ]
  },
  {
   "cell_type": "markdown",
   "id": "double-silence",
   "metadata": {},
   "source": [
    "#### **Database 9 - db9.db**"
   ]
  },
  {
   "cell_type": "code",
   "execution_count": 22,
   "id": "reflected-obligation",
   "metadata": {},
   "outputs": [
    {
     "name": "stdout",
     "output_type": "stream",
     "text": [
      "TABLE A\n",
      "    A1   A2\n",
      "0   1  P-1\n",
      "1   2  P-2\n",
      "2   3  P-3\n",
      "3   4  P-4\n",
      "4   5  P-5 \n",
      "\n",
      "TABLE B\n",
      "    B1  B2             B3\n",
      "0   1   1         nikSip\n",
      "1   2   1      amantraka\n",
      "2   3   1  brahmAdrijAtA\n",
      "3   4   1    aprahRSTaka\n",
      "4   5   1       yazaskRt\n"
     ]
    }
   ],
   "source": [
    "create_tables(r'db9.db', r'A-10000.csv', r'B-10000-500-1.csv')"
   ]
  },
  {
   "cell_type": "markdown",
   "id": "generous-cursor",
   "metadata": {},
   "source": [
    "### <center>**Querying the databases and finding time**</center>\n",
    "#### **Function to run a query and report time**\n",
    "This function loops 7 times and creates connection to each of the 9 databases one by one to execute the query passed on to it. <br>\n",
    "*Since while executing on shell directly executes and then prints the query, so to counter the overhead the same thing has been followed while noting time. Data has been fetched and collected. Since the method has been appointed in all 4 versions, the overhead is cancelled*"
   ]
  },
  {
   "cell_type": "code",
   "execution_count": 2,
   "id": "laden-cooking",
   "metadata": {},
   "outputs": [],
   "source": [
    "def run_query(query):\n",
    "    \n",
    "    t = [[0] * 9] * 7\n",
    "    for i in range(7):\n",
    "        connection = sqlite3.connect('db1.db')\n",
    "        c = connection.cursor()\n",
    "        tic = time()\n",
    "        c.execute(query)\n",
    "        x = c.fetchall()\n",
    "        toc = time()\n",
    "    #    print(toc - tic, '   ')\n",
    "        t[i][0] = toc - tic\n",
    "        connection.close()\n",
    "        \n",
    "        connection = sqlite3.connect('db2.db')\n",
    "        c = connection.cursor()\n",
    "        tic = time()\n",
    "        c.execute(query)\n",
    "        x = c.fetchall()\n",
    "        toc = time()\n",
    "   #     print(toc - tic, '   ')\n",
    "        t[i][1] = toc - tic        \n",
    "        connection.close()\n",
    "        \n",
    "        connection = sqlite3.connect('db3.db')\n",
    "        c = connection.cursor()\n",
    "        tic = time()\n",
    "        c.execute(query)\n",
    "        x = c.fetchall()\n",
    "        toc = time()\n",
    "    #    print(toc - tic, '   ')\n",
    "        t[i][2] = toc - tic\n",
    "        connection.close()\n",
    "        \n",
    "        connection = sqlite3.connect('db4.db')\n",
    "        c = connection.cursor()\n",
    "        tic = time()\n",
    "        c.execute(query)\n",
    "        x = c.fetchall()\n",
    "        toc = time()\n",
    "   #     print(toc - tic, '   ')\n",
    "        t[i][3] = toc - tic\n",
    "        connection.close()\n",
    "        \n",
    "        connection = sqlite3.connect('db5.db')\n",
    "        c = connection.cursor()\n",
    "        tic = time()\n",
    "        c.execute(query)\n",
    "        x = c.fetchall()\n",
    "        toc = time()\n",
    "        #print(toc - tic, '   ')\n",
    "        t[i][4] = toc - tic\n",
    "        connection.close()\n",
    "        \n",
    "        connection = sqlite3.connect('db6.db')\n",
    "        c = connection.cursor()\n",
    "        tic = time()\n",
    "        c.execute(query)\n",
    "        x = c.fetchall()\n",
    "        toc = time()\n",
    "       # print(toc - tic, '   ')\n",
    "        t[i][5] = toc - tic\n",
    "        connection.close()\n",
    "        \n",
    "        connection = sqlite3.connect('db7.db')\n",
    "        c = connection.cursor()\n",
    "        tic = time()\n",
    "        c.execute(query)\n",
    "        x = c.fetchall()\n",
    "        toc = time()\n",
    "      #  print(toc - tic, '   ')\n",
    "        t[i][6] = toc - tic\n",
    "        connection.close()\n",
    "        \n",
    "        connection = sqlite3.connect('db8.db')\n",
    "        c = connection.cursor()\n",
    "        tic = time()\n",
    "        c.execute(query)\n",
    "        x = c.fetchall()\n",
    "        toc = time()\n",
    "     #   print(toc - tic, '   ')\n",
    "        t[i][7] = toc - tic\n",
    "        connection.close()\n",
    "                \n",
    "        connection = sqlite3.connect('db9.db')\n",
    "        c = connection.cursor()\n",
    "        tic = time()\n",
    "        c.execute(query)\n",
    "        x = c.fetchall()\n",
    "        toc = time()\n",
    "    #    print(toc - tic, '   ')\n",
    "        t[i][8] = toc - tic\n",
    "        connection.close()\n",
    "       # print('\\n')\n",
    "        \n",
    "    return t"
   ]
  },
  {
   "cell_type": "markdown",
   "id": "mature-fundamental",
   "metadata": {},
   "source": [
    "### **Defining queries and time arrays**"
   ]
  },
  {
   "cell_type": "code",
   "execution_count": 3,
   "id": "accompanied-enclosure",
   "metadata": {},
   "outputs": [],
   "source": [
    "query1 = 'SELECT * FROM A WHERE A1 <= 50'\n",
    "query2 = 'SELECT * FROM B ORDER BY B3'\n",
    "query3 = 'SELECT AVG(X.COL) FROM (SELECT COUNT(B2) AS COL FROM B GROUP BY B2) AS X'\n",
    "query4 = 'SELECT A2, B1, B2, B3 FROM A, B WHERE A.A1 = B.B2'"
   ]
  },
  {
   "cell_type": "code",
   "execution_count": 4,
   "id": "particular-cambodia",
   "metadata": {},
   "outputs": [],
   "source": [
    "time_q1 = [[0] * 9] * 7\n",
    "time_q2 = [[0] * 9] * 7\n",
    "time_q3 = [[0] * 9] * 7\n",
    "time_q4 = [[0] * 9] * 7"
   ]
  },
  {
   "cell_type": "markdown",
   "id": "incorporate-albany",
   "metadata": {},
   "source": [
    "### **Query 1 across all databases**"
   ]
  },
  {
   "cell_type": "code",
   "execution_count": 5,
   "id": "forced-period",
   "metadata": {},
   "outputs": [
    {
     "name": "stdout",
     "output_type": "stream",
     "text": [
      "[[9.10e-05 9.00e-05 9.10e-05 9.30e-05 9.20e-05 9.20e-05 1.18e-04 9.70e-05\n",
      "  9.30e-05]\n",
      " [9.10e-05 9.00e-05 9.10e-05 9.30e-05 9.20e-05 9.20e-05 1.18e-04 9.70e-05\n",
      "  9.30e-05]\n",
      " [9.10e-05 9.00e-05 9.10e-05 9.30e-05 9.20e-05 9.20e-05 1.18e-04 9.70e-05\n",
      "  9.30e-05]\n",
      " [9.10e-05 9.00e-05 9.10e-05 9.30e-05 9.20e-05 9.20e-05 1.18e-04 9.70e-05\n",
      "  9.30e-05]\n",
      " [9.10e-05 9.00e-05 9.10e-05 9.30e-05 9.20e-05 9.20e-05 1.18e-04 9.70e-05\n",
      "  9.30e-05]\n",
      " [9.10e-05 9.00e-05 9.10e-05 9.30e-05 9.20e-05 9.20e-05 1.18e-04 9.70e-05\n",
      "  9.30e-05]\n",
      " [9.10e-05 9.00e-05 9.10e-05 9.30e-05 9.20e-05 9.20e-05 1.18e-04 9.70e-05\n",
      "  9.30e-05]]\n"
     ]
    }
   ],
   "source": [
    "time_q1 = np.round(run_query(query1), 6)\n",
    "print(time_q1)"
   ]
  },
  {
   "cell_type": "markdown",
   "id": "established-blocking",
   "metadata": {},
   "source": [
    "### **Query 2 across all databases**"
   ]
  },
  {
   "cell_type": "code",
   "execution_count": 6,
   "id": "small-lincoln",
   "metadata": {},
   "outputs": [
    {
     "name": "stdout",
     "output_type": "stream",
     "text": [
      "[[2.775350e-01 5.720000e-04 6.530000e-04 3.894000e-03 7.423000e-03\n",
      "  3.774400e-02 5.127000e-02 4.045410e-01 6.528475e+00]\n",
      " [2.775350e-01 5.720000e-04 6.530000e-04 3.894000e-03 7.423000e-03\n",
      "  3.774400e-02 5.127000e-02 4.045410e-01 6.528475e+00]\n",
      " [2.775350e-01 5.720000e-04 6.530000e-04 3.894000e-03 7.423000e-03\n",
      "  3.774400e-02 5.127000e-02 4.045410e-01 6.528475e+00]\n",
      " [2.775350e-01 5.720000e-04 6.530000e-04 3.894000e-03 7.423000e-03\n",
      "  3.774400e-02 5.127000e-02 4.045410e-01 6.528475e+00]\n",
      " [2.775350e-01 5.720000e-04 6.530000e-04 3.894000e-03 7.423000e-03\n",
      "  3.774400e-02 5.127000e-02 4.045410e-01 6.528475e+00]\n",
      " [2.775350e-01 5.720000e-04 6.530000e-04 3.894000e-03 7.423000e-03\n",
      "  3.774400e-02 5.127000e-02 4.045410e-01 6.528475e+00]\n",
      " [2.775350e-01 5.720000e-04 6.530000e-04 3.894000e-03 7.423000e-03\n",
      "  3.774400e-02 5.127000e-02 4.045410e-01 6.528475e+00]]\n"
     ]
    }
   ],
   "source": [
    "time_q2 = np.round(run_query(query2), 6)\n",
    "print(time_q2)"
   ]
  },
  {
   "cell_type": "markdown",
   "id": "structural-confidence",
   "metadata": {},
   "source": [
    "### **Query 3 across all databases**"
   ]
  },
  {
   "cell_type": "code",
   "execution_count": 7,
   "id": "neural-wallpaper",
   "metadata": {},
   "outputs": [
    {
     "name": "stdout",
     "output_type": "stream",
     "text": [
      "[[2.920000e-04 2.640000e-04 3.100000e-04 1.508000e-03 2.590000e-03\n",
      "  9.439000e-03 1.655500e-02 1.251050e-01 4.013321e+00]\n",
      " [2.920000e-04 2.640000e-04 3.100000e-04 1.508000e-03 2.590000e-03\n",
      "  9.439000e-03 1.655500e-02 1.251050e-01 4.013321e+00]\n",
      " [2.920000e-04 2.640000e-04 3.100000e-04 1.508000e-03 2.590000e-03\n",
      "  9.439000e-03 1.655500e-02 1.251050e-01 4.013321e+00]\n",
      " [2.920000e-04 2.640000e-04 3.100000e-04 1.508000e-03 2.590000e-03\n",
      "  9.439000e-03 1.655500e-02 1.251050e-01 4.013321e+00]\n",
      " [2.920000e-04 2.640000e-04 3.100000e-04 1.508000e-03 2.590000e-03\n",
      "  9.439000e-03 1.655500e-02 1.251050e-01 4.013321e+00]\n",
      " [2.920000e-04 2.640000e-04 3.100000e-04 1.508000e-03 2.590000e-03\n",
      "  9.439000e-03 1.655500e-02 1.251050e-01 4.013321e+00]\n",
      " [2.920000e-04 2.640000e-04 3.100000e-04 1.508000e-03 2.590000e-03\n",
      "  9.439000e-03 1.655500e-02 1.251050e-01 4.013321e+00]]\n"
     ]
    }
   ],
   "source": [
    "time_q3 = np.round(run_query(query3), 6)\n",
    "print(time_q3)"
   ]
  },
  {
   "cell_type": "markdown",
   "id": "written-citizen",
   "metadata": {},
   "source": [
    "### **Query 4 across all databases**"
   ]
  },
  {
   "cell_type": "code",
   "execution_count": 8,
   "id": "proof-feelings",
   "metadata": {},
   "outputs": [
    {
     "name": "stdout",
     "output_type": "stream",
     "text": [
      "[[1.97479e-01 5.48000e-04 7.94000e-04 4.41900e-03 7.77700e-03 3.35330e-02\n",
      "  4.93070e-02 3.48745e-01 5.35809e+00]\n",
      " [1.97479e-01 5.48000e-04 7.94000e-04 4.41900e-03 7.77700e-03 3.35330e-02\n",
      "  4.93070e-02 3.48745e-01 5.35809e+00]\n",
      " [1.97479e-01 5.48000e-04 7.94000e-04 4.41900e-03 7.77700e-03 3.35330e-02\n",
      "  4.93070e-02 3.48745e-01 5.35809e+00]\n",
      " [1.97479e-01 5.48000e-04 7.94000e-04 4.41900e-03 7.77700e-03 3.35330e-02\n",
      "  4.93070e-02 3.48745e-01 5.35809e+00]\n",
      " [1.97479e-01 5.48000e-04 7.94000e-04 4.41900e-03 7.77700e-03 3.35330e-02\n",
      "  4.93070e-02 3.48745e-01 5.35809e+00]\n",
      " [1.97479e-01 5.48000e-04 7.94000e-04 4.41900e-03 7.77700e-03 3.35330e-02\n",
      "  4.93070e-02 3.48745e-01 5.35809e+00]\n",
      " [1.97479e-01 5.48000e-04 7.94000e-04 4.41900e-03 7.77700e-03 3.35330e-02\n",
      "  4.93070e-02 3.48745e-01 5.35809e+00]]\n"
     ]
    }
   ],
   "source": [
    "time_q4 = np.round(run_query(query4), 6)\n",
    "print(time_q4)"
   ]
  },
  {
   "cell_type": "code",
   "execution_count": 9,
   "id": "seeing-thickness",
   "metadata": {},
   "outputs": [
    {
     "name": "stdout",
     "output_type": "stream",
     "text": [
      "[[9.10e-05 9.00e-05 9.10e-05 9.30e-05 9.20e-05 9.20e-05 1.18e-04 9.70e-05\n",
      "  9.30e-05]\n",
      " [9.10e-05 9.00e-05 9.10e-05 9.30e-05 9.20e-05 9.20e-05 1.18e-04 9.70e-05\n",
      "  9.30e-05]\n",
      " [9.10e-05 9.00e-05 9.10e-05 9.30e-05 9.20e-05 9.20e-05 1.18e-04 9.70e-05\n",
      "  9.30e-05]\n",
      " [9.10e-05 9.00e-05 9.10e-05 9.30e-05 9.20e-05 9.20e-05 1.18e-04 9.70e-05\n",
      "  9.30e-05]\n",
      " [9.10e-05 9.00e-05 9.10e-05 9.30e-05 9.20e-05 9.20e-05 1.18e-04 9.70e-05\n",
      "  9.30e-05]\n",
      " [9.10e-05 9.00e-05 9.10e-05 9.30e-05 9.20e-05 9.20e-05 1.18e-04 9.70e-05\n",
      "  9.30e-05]\n",
      " [9.10e-05 9.00e-05 9.10e-05 9.30e-05 9.20e-05 9.20e-05 1.18e-04 9.70e-05\n",
      "  9.30e-05]]\n",
      "[[2.775350e-01 5.720000e-04 6.530000e-04 3.894000e-03 7.423000e-03\n",
      "  3.774400e-02 5.127000e-02 4.045410e-01 6.528475e+00]\n",
      " [2.775350e-01 5.720000e-04 6.530000e-04 3.894000e-03 7.423000e-03\n",
      "  3.774400e-02 5.127000e-02 4.045410e-01 6.528475e+00]\n",
      " [2.775350e-01 5.720000e-04 6.530000e-04 3.894000e-03 7.423000e-03\n",
      "  3.774400e-02 5.127000e-02 4.045410e-01 6.528475e+00]\n",
      " [2.775350e-01 5.720000e-04 6.530000e-04 3.894000e-03 7.423000e-03\n",
      "  3.774400e-02 5.127000e-02 4.045410e-01 6.528475e+00]\n",
      " [2.775350e-01 5.720000e-04 6.530000e-04 3.894000e-03 7.423000e-03\n",
      "  3.774400e-02 5.127000e-02 4.045410e-01 6.528475e+00]\n",
      " [2.775350e-01 5.720000e-04 6.530000e-04 3.894000e-03 7.423000e-03\n",
      "  3.774400e-02 5.127000e-02 4.045410e-01 6.528475e+00]\n",
      " [2.775350e-01 5.720000e-04 6.530000e-04 3.894000e-03 7.423000e-03\n",
      "  3.774400e-02 5.127000e-02 4.045410e-01 6.528475e+00]]\n",
      "[[2.920000e-04 2.640000e-04 3.100000e-04 1.508000e-03 2.590000e-03\n",
      "  9.439000e-03 1.655500e-02 1.251050e-01 4.013321e+00]\n",
      " [2.920000e-04 2.640000e-04 3.100000e-04 1.508000e-03 2.590000e-03\n",
      "  9.439000e-03 1.655500e-02 1.251050e-01 4.013321e+00]\n",
      " [2.920000e-04 2.640000e-04 3.100000e-04 1.508000e-03 2.590000e-03\n",
      "  9.439000e-03 1.655500e-02 1.251050e-01 4.013321e+00]\n",
      " [2.920000e-04 2.640000e-04 3.100000e-04 1.508000e-03 2.590000e-03\n",
      "  9.439000e-03 1.655500e-02 1.251050e-01 4.013321e+00]\n",
      " [2.920000e-04 2.640000e-04 3.100000e-04 1.508000e-03 2.590000e-03\n",
      "  9.439000e-03 1.655500e-02 1.251050e-01 4.013321e+00]\n",
      " [2.920000e-04 2.640000e-04 3.100000e-04 1.508000e-03 2.590000e-03\n",
      "  9.439000e-03 1.655500e-02 1.251050e-01 4.013321e+00]\n",
      " [2.920000e-04 2.640000e-04 3.100000e-04 1.508000e-03 2.590000e-03\n",
      "  9.439000e-03 1.655500e-02 1.251050e-01 4.013321e+00]]\n",
      "[[1.97479e-01 5.48000e-04 7.94000e-04 4.41900e-03 7.77700e-03 3.35330e-02\n",
      "  4.93070e-02 3.48745e-01 5.35809e+00]\n",
      " [1.97479e-01 5.48000e-04 7.94000e-04 4.41900e-03 7.77700e-03 3.35330e-02\n",
      "  4.93070e-02 3.48745e-01 5.35809e+00]\n",
      " [1.97479e-01 5.48000e-04 7.94000e-04 4.41900e-03 7.77700e-03 3.35330e-02\n",
      "  4.93070e-02 3.48745e-01 5.35809e+00]\n",
      " [1.97479e-01 5.48000e-04 7.94000e-04 4.41900e-03 7.77700e-03 3.35330e-02\n",
      "  4.93070e-02 3.48745e-01 5.35809e+00]\n",
      " [1.97479e-01 5.48000e-04 7.94000e-04 4.41900e-03 7.77700e-03 3.35330e-02\n",
      "  4.93070e-02 3.48745e-01 5.35809e+00]\n",
      " [1.97479e-01 5.48000e-04 7.94000e-04 4.41900e-03 7.77700e-03 3.35330e-02\n",
      "  4.93070e-02 3.48745e-01 5.35809e+00]\n",
      " [1.97479e-01 5.48000e-04 7.94000e-04 4.41900e-03 7.77700e-03 3.35330e-02\n",
      "  4.93070e-02 3.48745e-01 5.35809e+00]]\n"
     ]
    }
   ],
   "source": [
    "print(time_q1)\n",
    "print(time_q2)\n",
    "print(time_q3)\n",
    "print(time_q4)"
   ]
  },
  {
   "cell_type": "markdown",
   "id": "white-volume",
   "metadata": {},
   "source": [
    "### **Saving times collected to csv**"
   ]
  },
  {
   "cell_type": "code",
   "execution_count": 10,
   "id": "cardiovascular-needle",
   "metadata": {},
   "outputs": [],
   "source": [
    "import csv\n",
    "with open(\"t1.csv\", \"w+\") as my_csv:\n",
    "    writer = csv.writer(my_csv, delimiter=',')\n",
    "    writer.writerows(time_q1)"
   ]
  },
  {
   "cell_type": "code",
   "execution_count": 11,
   "id": "placed-double",
   "metadata": {},
   "outputs": [],
   "source": [
    "with open(\"t2.csv\", \"w+\") as my_csv:\n",
    "    writer = csv.writer(my_csv, delimiter=',')\n",
    "    writer.writerows(time_q2)"
   ]
  },
  {
   "cell_type": "code",
   "execution_count": 12,
   "id": "preliminary-dream",
   "metadata": {},
   "outputs": [],
   "source": [
    "with open(\"t3.csv\", \"w+\") as my_csv:\n",
    "    writer = csv.writer(my_csv, delimiter=',')\n",
    "    writer.writerows(time_q3)"
   ]
  },
  {
   "cell_type": "code",
   "execution_count": 13,
   "id": "structured-moses",
   "metadata": {},
   "outputs": [],
   "source": [
    "with open(\"t4.csv\", \"w+\") as my_csv:\n",
    "    writer = csv.writer(my_csv, delimiter=',')\n",
    "    writer.writerows(time_q4)"
   ]
  },
  {
   "cell_type": "code",
   "execution_count": null,
   "id": "cultural-ethernet",
   "metadata": {},
   "outputs": [],
   "source": []
  }
 ],
 "metadata": {
  "kernelspec": {
   "display_name": "Python 3",
   "language": "python",
   "name": "python3"
  },
  "language_info": {
   "codemirror_mode": {
    "name": "ipython",
    "version": 3
   },
   "file_extension": ".py",
   "mimetype": "text/x-python",
   "name": "python",
   "nbconvert_exporter": "python",
   "pygments_lexer": "ipython3",
   "version": "3.6.9"
  }
 },
 "nbformat": 4,
 "nbformat_minor": 5
}
